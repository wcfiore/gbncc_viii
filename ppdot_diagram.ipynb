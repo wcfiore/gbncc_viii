{
 "cells": [
  {
   "cell_type": "code",
   "execution_count": 1,
   "id": "8a6d1d10",
   "metadata": {},
   "outputs": [],
   "source": [
    "import numpy as np\n",
    "import astropy.units as u\n",
    "import matplotlib.pyplot as plt\n",
    "import glob\n",
    "import matplotlib as mpl\n",
    "plt.rc('font',**{'family':'serif','serif':['Computer Modern Roman']})\n",
    "fig_width = 4.0\n",
    "fig_height = 5.0  #fig_width*0.6\n",
    "fig_size = [fig_width,fig_height]\n",
    "params = {'backend': 'pdf',\n",
    "          'font.size'      : 30*fig_width/8.5,\n",
    "          'axes.labelsize' : 30*fig_width/8.5,\n",
    "          'xtick.labelsize': 30*fig_width/8.5,\n",
    "          'ytick.labelsize': 30*fig_width/8.5,\n",
    "          'text.usetex'    : True,\n",
    "          'figure.figsize' : fig_size,\n",
    "          'figure.dpi'     : 300,\n",
    "          'axes.unicode_minus': True}\n",
    "mpl.rcParams.update(params)"
   ]
  },
  {
   "cell_type": "code",
   "execution_count": 2,
   "id": "5c7e37b9",
   "metadata": {},
   "outputs": [],
   "source": [
    "# Fiore21_psrs_in_ATNF = [\"J0636+5129\", \"J0141+63\", \"J0214+5222\", \"J1434+7257\", \"J1239+32\", \"J1816+4510\", \"J1530-21\", \"J2145+21\", \"J2113+67\", \"J2354-22\", \"J1505-25\", \"J1913+3732\", \"J2105+28\", \"J2210+57\", \"J2326+6141\", \"J1929+66\"]\n",
    "# Fiore21_new_psrs = [\"J1327+3423\", \"J0032+6946\", \"J0415+6111\"]\n",
    "# Fiore21_new_psrs_Fs = [24.0890080793560344, 27.1711195247098765, 2.2717493334899452]\n",
    "# Fiore21_new_psrs_Fdots = [-6.974302318055e-17, -2.633863961856e-15, -3.279311632585e-16]\n",
    "pars = sorted(glob.glob(f\"data/*_fiore+23.par\"))\n",
    "Fiore_23_psrs = [\n",
    "    \"J0032+6946\",\"J0034+69\",\n",
    "    \"J0141+6303\",\"J0141+62\",\n",
    "    \"J0214+5222\",\n",
    "    \"J0415+6111\",\"J0417+61\",\n",
    "    \"J0636+5128\",\"J0636+5129\",\n",
    "    \"J0957-0619\",\n",
    "    \"J1239+3239\",\n",
    "    \"J1327+3423\",\n",
    "    \"J1434+7257\",\n",
    "    \"J1505-2524\",\n",
    "    \"J1530-2114\",\n",
    "    \"J1816+4510\",\n",
    "    \"J1913+3732\",\"J1911+37\",\n",
    "    \"J1929+6630\",\n",
    "    \"J1930+6205\",\"J1929+62\",\n",
    "    \"J2104+2830\",\"J2105+28\",\n",
    "    \"J2115+6702\",\"J2113+67\",\n",
    "    \"J2145+2158\",\n",
    "    \"J2210+5712\",\n",
    "    \"J2326+6243\",\"J2327+62\",\n",
    "    \"J2354-2250\",\"J2353-22\"]"
   ]
  },
  {
   "cell_type": "code",
   "execution_count": 53,
   "id": "81f3230c",
   "metadata": {},
   "outputs": [],
   "source": [
    "Fiore_23_P0s = []\n",
    "Fiore_23_P1s = []\n",
    "Fiore_23_binaries = []\n",
    "for p in pars:\n",
    "    binary = False\n",
    "    with open(p, 'r') as infile:\n",
    "        f2 = \"--\"\n",
    "        for l in infile.readlines():\n",
    "            if l.startswith(\"F0\"):\n",
    "                F0      = float(l.split()[1])\n",
    "                P0 = 1./F0\n",
    "            elif l.startswith(\"F1\"):\n",
    "                F1      = float(l.split()[1])\n",
    "            elif l.startswith(\"BINARY\"):\n",
    "                binary = True\n",
    "        if \"J0214\" in p:\n",
    "            P1 = 2.85E-19\n",
    "        elif \"J0636\" in p:\n",
    "            P1 = 3.0E-21\n",
    "        elif \"J1327\" in p:\n",
    "            P1 = 1.31E-19\n",
    "        elif \"J1434\" in p:\n",
    "            P1 = 5.475E-19\n",
    "        elif \"J1816\" in p:\n",
    "            P1 = 4.3E-20\n",
    "        else:\n",
    "            P1 = -F1/(F0**2)\n",
    "        Fiore_23_P0s.append(P0)\n",
    "        Fiore_23_P1s.append(P1)\n",
    "        Fiore_23_binaries.append(binary)\n",
    "Fiore_23_isolated = [not x for x in Fiore_23_binaries]"
   ]
  },
  {
   "cell_type": "code",
   "execution_count": 8,
   "id": "10c865a7",
   "metadata": {},
   "outputs": [],
   "source": [
    "atnf_pulsars = np.genfromtxt(\"data/atnf.txt\", dtype=str)"
   ]
  },
  {
   "cell_type": "code",
   "execution_count": 9,
   "id": "b709f367",
   "metadata": {},
   "outputs": [],
   "source": [
    "Jnames        = atnf_pulsars[:,1]\n",
    "Ps            = atnf_pulsars[:,2]\n",
    "Pdots         = atnf_pulsars[:,3]\n",
    "binary_models = atnf_pulsars[:,4]\n",
    "surveys       = atnf_pulsars[:,5]\n",
    "types         = atnf_pulsars[:,6]"
   ]
  },
  {
   "cell_type": "code",
   "execution_count": 11,
   "id": "3b4e2a50",
   "metadata": {},
   "outputs": [],
   "source": [
    "n = len(Jnames)\n",
    "ppdot_Ps           = []\n",
    "ppdot_Pdots        = []\n",
    "ppdot_is_binary    = []\n",
    "ppdot_is_gbncc     = []\n",
    "for i in range(n):\n",
    "    if Pdots[i] == \"*\" or Jnames[i] in Fiore_23_psrs:\n",
    "        continue\n",
    "    else:\n",
    "        P    = float(Ps[i])\n",
    "        Pdot = float(Pdots[i])\n",
    "        if binary_models[i] != \"*\" or \"BINARY\" in types[i]:\n",
    "            is_binary = np.True_\n",
    "        else:\n",
    "            is_binary = np.False_\n",
    "        if surveys[i][:5] == \"gbncc\":\n",
    "            is_gbncc = np.True_\n",
    "        else:\n",
    "            is_gbncc = np.False_\n",
    "    ppdot_Ps.append(P)\n",
    "    ppdot_Pdots.append(Pdot)\n",
    "    ppdot_is_binary.append(is_binary)\n",
    "    ppdot_is_gbncc.append(is_gbncc)"
   ]
  },
  {
   "cell_type": "code",
   "execution_count": 12,
   "id": "f5a73429",
   "metadata": {},
   "outputs": [],
   "source": [
    "ppdot_not_binary_or_gbncc = [not x and not y for x,y in zip(ppdot_is_binary, ppdot_is_gbncc)]\n",
    "ppdot_is_binary_not_gbncc = [x and not y for x,y in zip(ppdot_is_binary, ppdot_is_gbncc)]\n",
    "ppdot_not_binary_is_gbncc = [not x and y for x,y in zip(ppdot_is_binary, ppdot_is_gbncc)]\n",
    "ppdot_is_binary_and_gbncc = [x and y for x,y in zip(ppdot_is_binary, ppdot_is_gbncc)]"
   ]
  },
  {
   "cell_type": "code",
   "execution_count": 54,
   "id": "4a6e56ec",
   "metadata": {},
   "outputs": [],
   "source": [
    "ppdot_Ps_not_binary_or_gbncc = np.array(ppdot_Ps)[ppdot_not_binary_or_gbncc]\n",
    "ppdot_Pdots_not_binary_or_gbncc = np.array(ppdot_Pdots)[ppdot_not_binary_or_gbncc]\n",
    "ppdot_Ps_is_binary_not_gbncc = np.array(ppdot_Ps)[ppdot_is_binary_not_gbncc]\n",
    "ppdot_Pdots_is_binary_not_gbncc = np.array(ppdot_Pdots)[ppdot_is_binary_not_gbncc]\n",
    "ppdot_Ps_not_binary_is_gbncc = np.array(ppdot_Ps)[ppdot_not_binary_is_gbncc]\n",
    "ppdot_Pdots_not_binary_is_gbncc = np.array(ppdot_Pdots)[ppdot_not_binary_is_gbncc]\n",
    "ppdot_Ps_is_binary_and_gbncc = np.array(ppdot_Ps)[ppdot_is_binary_and_gbncc]\n",
    "ppdot_Pdots_is_binary_and_gbncc = np.array(ppdot_Pdots)[ppdot_is_binary_and_gbncc]\n",
    "ppdot_Ps_not_binary_is_thispaper = np.array(Fiore_23_P0s)[Fiore_23_isolated]\n",
    "ppdot_Pdots_not_binary_is_thispaper = np.array(Fiore_23_P1s)[Fiore_23_isolated]\n",
    "ppdot_Ps_is_binary_is_thispaper = np.array(Fiore_23_P0s)[Fiore_23_binaries]\n",
    "ppdot_Pdots_is_binary_is_thispaper = np.array(Fiore_23_P1s)[Fiore_23_binaries]"
   ]
  },
  {
   "cell_type": "code",
   "execution_count": 14,
   "id": "d87a24c9",
   "metadata": {},
   "outputs": [],
   "source": [
    "def P1_from_Edot(P0,Edot,I=(10**45)*u.g*u.cm**2): # takes P0 and Edot in any units\n",
    "    P1 = (-Edot*P0**3)/(4.*I*np.pi**2)\n",
    "    return P1.to(u.s/u.s).value\n",
    "\n",
    "def P1_from_B(P0,Bchar): # takes P0 and Bchar in any units\n",
    "    B = Bchar.to(u.gauss).value\n",
    "    P = P0.to(u.s).value\n",
    "    P1 = ((B/3.2e19)**2)/P\n",
    "    return P1\n",
    "\n",
    "def P1_from_age(P0,Tchar): # takes P0 and Tchar in any units\n",
    "    P1 = P0/(2.*Tchar)\n",
    "    return P1.to(u.s/u.s).value"
   ]
  },
  {
   "cell_type": "code",
   "execution_count": 15,
   "id": "09cb4d23",
   "metadata": {},
   "outputs": [],
   "source": [
    "Edots = np.array([-1e28,-1e31,-1e34,-1e37,-1e40])*u.erg/u.s\n",
    "Bchars = np.array([1e8,1e10,1e12,1e14])*u.gauss\n",
    "Tchars = np.array([1e3,1e5,1e7,1e9,1e11])*u.yr\n",
    "P0s = np.array([8.0e-4,30.])*u.s"
   ]
  },
  {
   "cell_type": "code",
   "execution_count": 55,
   "id": "23fbab6c",
   "metadata": {
    "scrolled": false
   },
   "outputs": [],
   "source": [
    "label_size = 20\n",
    "units_size = 16\n",
    "fig = plt.figure(figsize=[10,10])\n",
    "ax = plt.subplot()\n",
    "ax.scatter(ppdot_Ps_not_binary_or_gbncc,ppdot_Pdots_not_binary_or_gbncc,s=1,c='gray',label='ATNF pulsar')\n",
    "ax.scatter(ppdot_Ps_is_binary_not_gbncc,ppdot_Pdots_is_binary_not_gbncc,s=50,c='gray',marker=r'$\\odot$',linewidths = 0.3,label='ATNF pulsar, binary')\n",
    "ax.scatter(ppdot_Ps_not_binary_is_gbncc,ppdot_Pdots_not_binary_is_gbncc,s=3,c='r',label='GBNCC discovery')\n",
    "ax.scatter(ppdot_Ps_is_binary_and_gbncc,ppdot_Pdots_is_binary_and_gbncc,s=50,c='r',marker=r'$\\odot$',linewidths = 0.3,label='GBNCC discovery, binary')\n",
    "ax.scatter(ppdot_Ps_not_binary_is_thispaper,ppdot_Pdots_not_binary_is_thispaper,s=150,c='b',marker='*',label='In this paper')\n",
    "ax.scatter(ppdot_Ps_is_binary_is_thispaper,ppdot_Pdots_is_binary_is_thispaper,s=150,c='b',marker=r'$\\odot$',linewidths=0.9,label='In this paper, binary')\n",
    "for Edot in Edots:\n",
    "    ax.plot(P0s,P1_from_Edot(P0s,Edot),linewidth=0.5,c='black',alpha=0.75)\n",
    "for Bchar in Bchars:\n",
    "    ax.plot(P0s,P1_from_B(P0s,Bchar),linewidth=0.5,c='black',alpha=0.75)\n",
    "for Tchar in Tchars:\n",
    "    ax.plot(P0s,P1_from_age(P0s,Tchar),linewidth=0.5,c='black',alpha=0.75)\n",
    "ax.set_xlabel(r'$P$ (s)', size=label_size)\n",
    "ax.set_ylabel(r'$\\dot P$ (s s$^{-1}$)', size=label_size)\n",
    "#ax.set_ylabel(r'$\\dot P$', size=label_size)\n",
    "ax.set_xscale('log')\n",
    "ax.set_yscale('log')\n",
    "ax.set_xlim(8.5e-4,25.)\n",
    "ax.set_ylim(1.1e-22,1.1e-9)\n",
    "ax.text(0.53,0.93,r\"$10^{40}$~erg s$^{-1}$\",color='black',rotation=45,size=units_size,va='center',ha='right',transform=ax.transAxes)\n",
    "ax.text(0.755,0.93,r\"$10^{37}$~erg s$^{-1}$\",color='black',rotation=45,size=units_size,va='center',ha='right',transform=ax.transAxes)\n",
    "ax.text(0.98,0.93,r\"$10^{34}$~erg s$^{-1}$\",color='black',rotation=45,size=units_size,va='center',ha='right',transform=ax.transAxes)\n",
    "ax.text(1.0,0.72,r\"$10^{31}$~erg s$^{-1}$\",color='black',rotation=45,size=units_size,va='center',ha='right',transform=ax.transAxes)\n",
    "ax.text(1.0,0.49,r\"$10^{28}$~erg s$^{-1}$\",color='black',rotation=45,size=units_size,va='center',ha='right',transform=ax.transAxes)\n",
    "ax.text(0.3,0.97,r\"$10^{14}$~G\",color='black',rotation=-19,size=units_size,va='center',ha='right',transform=ax.transAxes)\n",
    "ax.text(0.087,0.735,r\"$10^{12}$~G\",color='black',rotation=-19,size=units_size,va='center',ha='right',transform=ax.transAxes)\n",
    "ax.text(0.087,0.427,r\"$10^{10}$~G\",color='black',rotation=-19,size=units_size,va='center',ha='right',transform=ax.transAxes)\n",
    "ax.text(0.335,0.034,r\"$10^8$~G\",color='black',rotation=-19,size=units_size,va='center',ha='right',transform=ax.transAxes)\n",
    "kyr_y = 0.655\n",
    "kyr_dy = 0.153\n",
    "kyr_rot = 18.8\n",
    "ax.text(0.005,kyr_y,r\"$1$~Kyr\",color='black',rotation=kyr_rot,size=units_size,va='center',ha='left',transform=ax.transAxes)\n",
    "ax.text(0.005,kyr_y-kyr_dy+0.002,r\"$100$~Kyr\",color='black',rotation=kyr_rot,size=units_size,va='center',ha='left',transform=ax.transAxes)\n",
    "ax.text(0.005,kyr_y-2*kyr_dy,r\"$10$~Myr\",color='black',rotation=kyr_rot,size=units_size,va='center',ha='left',transform=ax.transAxes)\n",
    "ax.text(0.005,kyr_y-3*kyr_dy-0.003,r\"$1$~Gyr\",color='black',rotation=kyr_rot,size=units_size,va='center',ha='left',transform=ax.transAxes)\n",
    "ax.text(0.005,kyr_y-4*kyr_dy,r\"$100$~Gyr\",color='black',rotation=kyr_rot,size=units_size,va='center',ha='left',transform=ax.transAxes)\n",
    "ax.legend(loc='lower right')\n",
    "plt.savefig(\"ppdot.pdf\",format='pdf',bbox_inches='tight',pad_inches=0.25)"
   ]
  },
  {
   "cell_type": "code",
   "execution_count": 21,
   "id": "8358b42e",
   "metadata": {},
   "outputs": [
    {
     "name": "stdout",
     "output_type": "stream",
     "text": [
      "23.535378 5.49e-10\n"
     ]
    }
   ],
   "source": [
    "print(max(ppdot_Ps), max(ppdot_Pdots))"
   ]
  },
  {
   "cell_type": "code",
   "execution_count": 52,
   "id": "fdf945d7",
   "metadata": {},
   "outputs": [
    {
     "data": {
      "text/plain": [
       "array([-1.29691115e-55, -6.83917990e-42])"
      ]
     },
     "execution_count": 52,
     "metadata": {},
     "output_type": "execute_result"
    }
   ],
   "source": [
    "P1_from_Edot(P0s,Edots)"
   ]
  },
  {
   "cell_type": "code",
   "execution_count": 53,
   "id": "732705b9",
   "metadata": {},
   "outputs": [
    {
     "data": {
      "text/plain": [
       "10000000000.0"
      ]
     },
     "execution_count": 53,
     "metadata": {},
     "output_type": "execute_result"
    }
   ],
   "source": [
    "1e10"
   ]
  },
  {
   "cell_type": "code",
   "execution_count": null,
   "id": "531fc8c9",
   "metadata": {},
   "outputs": [],
   "source": []
  }
 ],
 "metadata": {
  "kernelspec": {
   "display_name": "Python 3 (ipykernel)",
   "language": "python",
   "name": "python3"
  },
  "language_info": {
   "codemirror_mode": {
    "name": "ipython",
    "version": 3
   },
   "file_extension": ".py",
   "mimetype": "text/x-python",
   "name": "python",
   "nbconvert_exporter": "python",
   "pygments_lexer": "ipython3",
   "version": "3.8.12"
  }
 },
 "nbformat": 4,
 "nbformat_minor": 5
}
