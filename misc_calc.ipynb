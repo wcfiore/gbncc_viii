{
 "cells": [
  {
   "cell_type": "code",
   "execution_count": 1,
   "id": "1e710955",
   "metadata": {},
   "outputs": [
    {
     "data": {
      "text/plain": [
       "1"
      ]
     },
     "execution_count": 1,
     "metadata": {},
     "output_type": "execute_result"
    }
   ],
   "source": [
    "import pint.models as model\n",
    "import pint.toa as toa\n",
    "import pint.logging\n",
    "import pint.fitter\n",
    "from pint.modelutils import model_ecliptic_to_equatorial\n",
    "import numpy as np\n",
    "import astropy.units as u\n",
    "import pint.derived_quantities as dq\n",
    "import table_utils as tu\n",
    "from scipy.special import fdtrc\n",
    "\n",
    "pint.logging.setup(level=\"ERROR\")"
   ]
  },
  {
   "cell_type": "code",
   "execution_count": null,
   "id": "5e11fc46",
   "metadata": {},
   "outputs": [],
   "source": [
    "#aplpy download fits cutouts from panstarrs use 1 or 3 to make images with real WCS & tickmarks"
   ]
  },
  {
   "cell_type": "markdown",
   "id": "71526423",
   "metadata": {},
   "source": [
    "**J1816+4510 eclipsing calculations**\n",
    "\n",
    "For J1816+4510, we see additional delays around superior conjuntion at 820 MHz, probably due to additional electron content around the companion that the signal must travel through when the pulsar eclipses. First I want to figure out the DM bump corresponding to this delay (roughly 800 microseconds)."
   ]
  },
  {
   "cell_type": "code",
   "execution_count": 9,
   "id": "1a1312ad",
   "metadata": {},
   "outputs": [],
   "source": [
    "def SC_dDM(dt,freq):\n",
    "    \"\"\" Calculate additional column density at superior conjunction (given additional timing delay)\n",
    "    \n",
    "    Parameters\n",
    "    ==========\n",
    "    dt: quantity, additional dispersive timing delay due to plasma around companion\n",
    "    freq: quantity, observing frequency of measured delay\n",
    "    \n",
    "    Returns\n",
    "    =======\n",
    "    dDM_sup: quantity, additional column density at superior conjunction (cm^-2)\n",
    "    \"\"\"\n",
    "    Dconst = 4.148808e3*(1e6*u.Hz)**2*u.cm**3*u.s*u.pc**-1 # HBOPA, eqn. 4.6\n",
    "    dDM_sup = (dt*freq**2/Dconst).to(u.pc*u.cm**-3) # extra DM corresponding to delay\n",
    "    return dDM_sup.to(u.cm**-2)"
   ]
  },
  {
   "cell_type": "markdown",
   "id": "0ef12cde",
   "metadata": {},
   "source": [
    "To compare to a similar calculation in Freire (2005; ASPCS, p. 407), I convert DM (column density) to 1/cm^2. The result is comparable to the column density of J2051-0827 (Stappers et al. 2001)."
   ]
  },
  {
   "cell_type": "code",
   "execution_count": 10,
   "id": "a2b21392",
   "metadata": {},
   "outputs": [
    {
     "name": "stdout",
     "output_type": "stream",
     "text": [
      "4.0007821153349005e+17 1 / cm2\n",
      "0.12965651820956764 pc / cm3\n"
     ]
    }
   ],
   "source": [
    "dDM_1816 = SC_dDM(800.0*1e-6*u.s,820.0*(1e6*u.Hz))\n",
    "print(dDM_1816)\n",
    "print(dDM_1816.to(u.pc*u.cm**-3))"
   ]
  },
  {
   "cell_type": "markdown",
   "id": "fc776f1d",
   "metadata": {},
   "source": [
    "How big might the companion be based on the duration of the eclipse? Assume inclination angle of 90 deg for now, and consider an eclipse that lasts some fraction of an orbit (based on gap between ingress-egress)."
   ]
  },
  {
   "cell_type": "code",
   "execution_count": 11,
   "id": "2b57256f",
   "metadata": {},
   "outputs": [
    {
     "name": "stdout",
     "output_type": "stream",
     "text": [
      "J1816+4510 is obscured for 4% of an orbit...\n",
      "Nominal pulsar-companion separation: 2.6041 Rsun\n",
      "Companion's estimated plasma radius: 0.3264 Rsun (227061 km)\n"
     ]
    }
   ],
   "source": [
    "def psr_comp_separation(model,inc=90.0*u.deg,mp=1.4*u.solMass):\n",
    "    \"\"\" Calculate separation between pulsar and binary companion\n",
    "    \n",
    "    Parameters\n",
    "    ==========\n",
    "    model: object, PINT timing model\n",
    "    inc: quantity, assumed orbital inclination (optional, default = 90 deg)\n",
    "    mp: quantity, assumed pulsar mass (optional, default = 1.4 Msun)\n",
    "    \"\"\"\n",
    "    mc = dq.companion_mass(mo['PB'].quantity, mo['A1'].quantity, i=inc, mp=mp)\n",
    "    return (mo['A1'].quantity/np.sin(inc)).to(u.R_sun)*(1+(mp/mc))\n",
    "\n",
    "def Rplasma(a, frac_eclipse):\n",
    "    \"\"\" Estimate companion (plasma?) radius based on extent of eclipse\n",
    "    \n",
    "    Parameters\n",
    "    ==========\n",
    "    a: quantity, separation between the pulsar and companion\n",
    "    frac_eclipse: float, fraction of the orbit where pulsar signal is obscured\n",
    "    \n",
    "    Returns\n",
    "    =======\n",
    "    Rplasma: quantity, companion's plasma(?) radius (Solar Radii)\n",
    "    \"\"\"\n",
    "    print(f\"Nominal pulsar-companion separation: {a.value:.4f} Rsun\")\n",
    "    ing2sup = frac_eclipse*180.0*u.deg # angle from ingress to superior conjunction\n",
    "    Rplasma = a*np.sin(ing2sup)\n",
    "    print(f\"Companion's estimated plasma radius: {Rplasma.value:.4f} Rsun ({Rplasma.to(u.km).value:.0f} km)\")\n",
    "    return Rplasma\n",
    "\n",
    "frac_eclipse = 0.04\n",
    "\n",
    "par_path = f\"data/J1816+4510_eclipseDMX.par\"\n",
    "tim_path = f\"data/J1816+4510_eclipseDMX.tim\"\n",
    "mo = model.get_model(par_path)\n",
    "to = toa.get_TOAs(tim_path,model=mo)\n",
    "fo = pint.fitter.WLSFitter(to,mo)\n",
    "x = fo.fit_toas()\n",
    "a = psr_comp_separation(mo, mp=1.64*u.solMass) # using lower limit on M_psr from Clark et al. (2023)\n",
    "print(f\"J1816+4510 is obscured for {frac_eclipse:.0%} of an orbit...\")\n",
    "rp = Rplasma(a,frac_eclipse)"
   ]
  },
  {
   "cell_type": "markdown",
   "id": "b9d3e6fb",
   "metadata": {},
   "source": [
    "I can use the estimated companion's plasma radius to get some idea of the electron density near the companion (using the additional column density around superior conjunction). This is probably ~order of magnitude."
   ]
  },
  {
   "cell_type": "code",
   "execution_count": 12,
   "id": "60eaf49d",
   "metadata": {},
   "outputs": [
    {
     "data": {
      "text/latex": [
       "$17619863 \\; \\mathrm{\\frac{1}{cm^{3}}}$"
      ],
      "text/plain": [
       "<Quantity 17619863.47492632 1 / cm3>"
      ]
     },
     "execution_count": 12,
     "metadata": {},
     "output_type": "execute_result"
    }
   ],
   "source": [
    "(dDM_1816/rp).to(u.cm**-3)"
   ]
  },
  {
   "cell_type": "markdown",
   "id": "2c127864",
   "metadata": {},
   "source": [
    "Next, I want to use the equation from Eggleton et al. (1983) to estimate the size of the companion's Roche Lobe, and thus, the path length the pulsar might be encountering around superior conjunction. Do this for a few possible inclination angles and assume pulsar mass is 1.64 solar masses."
   ]
  },
  {
   "cell_type": "code",
   "execution_count": 13,
   "id": "4e5bc1fe",
   "metadata": {},
   "outputs": [
    {
     "name": "stdout",
     "output_type": "stream",
     "text": [
      "  i = 90.0 deg; mc = 0.1792 Msun; q = 0.1093; a = 2.6041 Rsun; RL = 0.55252 Rsun; RL/Rp = 1.69\n",
      "  i = 85.0 deg; mc = 0.1800 Msun; q = 0.1097; a = 2.6044 Rsun; RL = 0.55324 Rsun; RL/Rp = 1.70\n",
      "  i = 80.0 deg; mc = 0.1822 Msun; q = 0.1111; a = 2.6055 Rsun; RL = 0.55544 Rsun; RL/Rp = 1.70\n",
      "  i = 75.0 deg; mc = 0.1860 Msun; q = 0.1134; a = 2.6073 Rsun; RL = 0.55917 Rsun; RL/Rp = 1.71\n"
     ]
    }
   ],
   "source": [
    "def RL_Eggleton(a,mc,mp=1.4*u.solMass):\n",
    "    \"\"\" Calculate Roche Lobe size in solar radii (see Eggleton 1983)\n",
    "    \n",
    "    Parameters\n",
    "    ==========\n",
    "    a: quantity, separation between the pulsar and companion\n",
    "    mc: quantity, companion mass (solar masses)\n",
    "    mp: pulsar mass (default: 1.4 Msun), optional\n",
    "    \n",
    "    Returns\n",
    "    =======\n",
    "    R_L: quantity, Roche Lobe size (solar radii)\n",
    "    \"\"\"\n",
    "    q = mc/mp\n",
    "    R_L = 0.49*a*q**(2.0/3)/(0.6*q**(2.0/3)+np.log(1.0+q**(1.0/3)))\n",
    "    return R_L.to(u.R_sun)\n",
    "\n",
    "incs = [90.0,85.0,80.0,75.0] # trial inclination angles, degrees\n",
    "\n",
    "mo = model.get_model(par_path)\n",
    "to = toa.get_TOAs(tim_path,model=mo)\n",
    "fo = pint.fitter.WLSFitter(to,mo)\n",
    "x = fo.fit_toas()\n",
    "\n",
    "for inc in incs:\n",
    "    mp = 1.64*u.M_sun\n",
    "    a = psr_comp_separation(mo,inc=inc*u.deg,mp=mp)\n",
    "    mc = dq.companion_mass(mo['PB'].quantity, mo['A1'].quantity, i=inc*u.deg, mp=mp)\n",
    "    R_L = RL_Eggleton(a,mc,mp=mp)\n",
    "    RlRp_ratio = R_L/rp\n",
    "\n",
    "    mc_str = f\"{mc.value:.4f}\"\n",
    "    q_str = f\"{mc/mp:.4f}\"\n",
    "    a_str = f\"{a.value:.4f}\"\n",
    "    rl_str = f\"{R_L.value:.5f}\"\n",
    "    rlrp_str = f\"{RlRp_ratio:.2f}\"\n",
    "\n",
    "    print(f\"  i = {inc} deg; mc = {mc_str} Msun; q = {q_str}; a = {a_str} Rsun; RL = {rl_str} Rsun; RL/Rp = {rlrp_str}\")"
   ]
  },
  {
   "cell_type": "markdown",
   "id": "8a05e293",
   "metadata": {},
   "source": [
    "Therefore (unlike the systems considered in Freire 2005), the Roche Lobe (R_L above) is somewhat larger than the size of the plasma cloud (R_p), so matter responsible for increased dispersive delays is bound to the companion."
   ]
  },
  {
   "cell_type": "markdown",
   "id": "4cf167fb",
   "metadata": {},
   "source": [
    "**Optical Constraints Calculations**\n",
    "\n",
    "I follow a procedure similar to that described in Section 7 of Lynch et al. (2018). For non-WD companions, I include a couple functions to convert magnitude limits to limits on effective temperature, but I'm not sure this is quite good enough since Covey 2007 (where I establish spectral types) doesn't include bolometric corrections."
   ]
  },
  {
   "cell_type": "code",
   "execution_count": 2,
   "id": "febb2402",
   "metadata": {},
   "outputs": [],
   "source": [
    "def MagLim_to_Lum(Mlim):\n",
    "    \"\"\" Convert magnitude limit to luminosity\n",
    "    \n",
    "    Parameter\n",
    "    =========\n",
    "    Mlim (float): limiting magnitude(s)\n",
    "    \n",
    "    Returns\n",
    "    =======\n",
    "    Llim (quantity): luminosity limit(s), solar luminosity\n",
    "    \"\"\"\n",
    "    Msun = 4.74\n",
    "    Llim=u.solLum*10**((Msun-Mlim)/2.5)\n",
    "    return Llim.decompose()\n",
    "\n",
    "def TeffLim(Rlim,Llim):\n",
    "    \"\"\" Limit effective temp based on radius, luminosity\n",
    "    \n",
    "    Parameters\n",
    "    ==========\n",
    "    Rlim (quantity): estimate of stellar radius, solar radii\n",
    "    Llim (quantity): estimate of stellar luminosity, solar luminosity\n",
    "    \n",
    "    Returns\n",
    "    =======\n",
    "    Tlim (quantity): upper limit on Teff, Kelvin\n",
    "    \"\"\"\n",
    "    from astropy.units.cds import c\n",
    "    sbc = 5.6704e-8*u.W*u.meter**-2*u.K**-4\n",
    "    Tlim=(Llim/(4*np.pi*Rlim**2*sbc))**0.25\n",
    "    return Tlim.decompose()"
   ]
  },
  {
   "cell_type": "code",
   "execution_count": 88,
   "id": "a5ebf7c7",
   "metadata": {},
   "outputs": [
    {
     "name": "stdout",
     "output_type": "stream",
     "text": [
      "J0032+6946: 0.417-0.496 Msun\n",
      "[8.15744886 8.87735886 9.31334886 8.84094886 8.15479886]\n",
      "g spectral type limit: K5 (8.157448863433533<8.290000000000001)\n",
      "Teff limit?: 12743.716308871619 K\n",
      "g spectral type limit: K7 (8.157448863433533<8.959999999999999)\n",
      "Teff limit?: 10921.847165582456 K\n",
      "g spectral type limit: M0 (8.157448863433533<9.34)\n",
      "Teff limit?: 10006.820163087528 K\n",
      "g spectral type limit: M1 (8.157448863433533<9.81)\n",
      "Teff limit?: 8980.408555745424 K\n",
      "g spectral type limit: M2 (8.157448863433533<10.36)\n",
      "Teff limit?: 7912.178837191034 K\n",
      "g spectral type limit: M2.5 (8.157448863433533<10.940000000000001)\n",
      "Teff limit?: 6923.028109240033 K\n",
      "g spectral type limit: M3 (8.157448863433533<11.469999999999999)\n",
      "Teff limit?: 6127.680246786012 K\n",
      "g spectral type limit: M4 (8.157448863433533<12.37)\n",
      "Teff limit?: 4980.765497883628 K\n",
      "g spectral type limit: M5 (8.157448863433533<13.61)\n",
      "Teff limit?: 3743.657377945321 K\n",
      "g spectral type limit: M6 (8.157448863433533<15.110000000000001)\n",
      "Teff limit?: 2650.3064588949637 K\n",
      "J1239+3239: 0.126-0.147 Msun\n",
      "[11.55634237 11.45634237 11.35634237 10.55634237  9.65634237]\n",
      "g spectral type limit: M4 (11.556342365980221<12.37)\n",
      "Teff limit?: 5751.292601947026 K\n",
      "g spectral type limit: M5 (11.556342365980221<13.61)\n",
      "Teff limit?: 4322.803189820919 K\n",
      "g spectral type limit: M6 (11.556342365980221<15.110000000000001)\n",
      "Teff limit?: 3060.310294956022 K\n"
     ]
    }
   ],
   "source": [
    "# extinction from http://argonaut.skymaps.info (see Green et al. 2015)\n",
    "# these take distance (largest NE vs. YMW) into account\n",
    "EBmV_dict = {\n",
    "    \"J0032+6946\":0.91,\n",
    "    \"J1239+3239\":0.0\n",
    "}\n",
    "\n",
    "R_dict = {\n",
    "    \"J0032+6946\":0.04*u.Rsun,\n",
    "    \"J1239+3239\":0.03*u.Rsun\n",
    "}\n",
    "\n",
    "# Read Covey 2007 table (assume spectral classification V - main sequence)\n",
    "with open('data/covey07.txt') as covey:\n",
    "    covey_info = covey.readlines()\n",
    "\n",
    "SpectType_griz_Dict = {}\n",
    "for ci in covey_info:\n",
    "    ci_list = ci.strip().split(' ')\n",
    "    spect_type = ci_list[0]\n",
    "    MJ = float(ci_list[-1])\n",
    "    z = float(ci_list[5])+MJ\n",
    "    i = float(ci_list[4])+z\n",
    "    r = float(ci_list[3])+i\n",
    "    g = float(ci_list[2])+r\n",
    "    #print(f\"{spect_type:4s}: {g:.2f}, {r:.2f}, {i:.2f}, {z:.2f}\")\n",
    "    \n",
    "    SpectType_griz_Dict[spect_type] = [g,r,i,z]\n",
    "\n",
    "# reddening in PS1 bands from Schlafly & Finkbeiner 2011, Table 6\n",
    "# grizy\n",
    "ps1_redden=np.array([3.172,2.271,1.682,1.322,1.087]) # y not constraining?\n",
    "\n",
    "# assume no detection.  Typical PS1 griz stack limits are:\n",
    "ps1_lims = np.array([23.3,23.2,23.1,22.3,21.4])\n",
    "\n",
    "for psr in EBmV_dict.keys():\n",
    "    par_path = f\"data/{psr}_tdb.par\"\n",
    "    mo = model.get_model(par_path)\n",
    "    \n",
    "    mp = 1.4*u.M_sun\n",
    "    mcmed = dq.companion_mass(mo['PB'].quantity, mo['A1'].quantity, i=60.0*u.deg, mp=mp)\n",
    "    mcmin = dq.companion_mass(mo['PB'].quantity, mo['A1'].quantity, i=90.0*u.deg, mp=mp)\n",
    "    \n",
    "    gcoord = mo.coords_as_GAL()\n",
    "    dmdist_ne, dmdist_ymw = tu.get_dmdists(gcoord,mo['DM'].value)\n",
    "    \n",
    "    dmdist = max([dmdist_ne,dmdist_ymw])\n",
    "    \n",
    "    distance_mod = 5*np.log10((dmdist*u.kpc/(10.0*u.pc)).decompose())\n",
    "    \n",
    "    print(f\"{psr}: {mcmin.value:.3f}-{mcmed.value:.3f} Msun\")\n",
    "    griz_lims = ps1_lims-EBmV_dict[psr]*ps1_redden-distance_mod # de-reddened limits\n",
    "    print(griz_lims)\n",
    "    \n",
    "    a = (mo['A1'].quantity * np.sin(60.0*u.deg)).to(u.R_sun) # assume i = 60 deg\n",
    "    mp = 1.4*u.M_sun\n",
    "    mc = dq.companion_mass(mo['PB'].quantity, mo['A1'].quantity, i=60.0*u.deg, mp=mp)\n",
    "#     R_L = RL_Eggleton(a,mc,mp=mp)\n",
    "#     print(f\"Radius (RL) estimate: {R_L}\") # why is this important?\n",
    "\n",
    "    # check griz_lims against SpectType_griz_Dict\n",
    "    # g=0, r=1, i=2, z=3, y=4\n",
    "    # g is always the most limiting, so range(1) rather than range(3)\n",
    "    for band_i in range(1): \n",
    "        for stk in SpectType_griz_Dict.keys():\n",
    "            if griz_lims[band_i] < SpectType_griz_Dict[stk][band_i]:\n",
    "                print(f\"{['g','r','i','z','y'][band_i]} spectral type limit: {stk} ({griz_lims[band_i]}<{SpectType_griz_Dict[stk][band_i]})\")\n",
    "                Tlim = TeffLim(R_dict[psr],MagLim_to_Lum(SpectType_griz_Dict[stk][band_i]))\n",
    "                print(f\"Teff limit?: {Tlim.decompose()}\")\n",
    "                \n",
    "        \n",
    "    #print(dmdist,distance_mod)\n",
    "    #print(f\"{psr} {dmdist:.4f} {mo['DM'].value:.4f} {mcmed.value:.4f} {mo['PB'].value:.4f}\")"
   ]
  },
  {
   "cell_type": "markdown",
   "id": "e7eab162",
   "metadata": {},
   "source": [
    "I think the issue with temperature constraints reported here for M-stars is that they're based on band-specific magnitude to luminosity limits. What I want to do instead is, once I've determined the correct band/spectral type to do the limiting, use the bolometric correction (??) to convert the band-limiting (g-band across the board it looks like) magnitude to a bolometric magnitude, convert to luminosity, and THEN set a Teff limit with R_L. For now, I'll just grab estimates for Teff from the web associated with M6, M5, M3, M1. These limits and spectral types assume main sequence stars (V) so I think all of this is already really uncertain.\n",
    "\n",
    "Teff for M6 = 3100 K, M5 = 3200 K, M3 = 3500 K, M1 = 3700 K.\n",
    "Grabbed these from https://sites.uni.edu/morgans/astro/course/Notes/section2/spectraltemps.html"
   ]
  },
  {
   "cell_type": "code",
   "execution_count": 84,
   "id": "99d39d4b",
   "metadata": {},
   "outputs": [
    {
     "name": "stdout",
     "output_type": "stream",
     "text": [
      "J0032+6946: using values for 0.49562111 Msun, cooling age 37.9 Myr: 54954 K\n",
      "J1239+3239: using values for 0.14661164 Msun, cooling age 1450.5 Myr: 8511 K\n"
     ]
    },
    {
     "data": {
      "text/plain": [
       "<matplotlib.legend.Legend at 0x7fa7932dda60>"
      ]
     },
     "execution_count": 84,
     "metadata": {},
     "output_type": "execute_result"
    },
    {
     "data": {
      "image/png": "[encoded data removed]",
      "text/plain": [
       "<Figure size 432x288 with 1 Axes>"
      ]
     },
     "metadata": {
      "needs_background": "light"
     },
     "output_type": "display_data"
    }
   ],
   "source": [
    "import matplotlib.pyplot as plt\n",
    "from astropy.units import cds\n",
    "\n",
    "\"\"\"\n",
    "> 0.3 can assume He core can treat as cold degenerate matter, have mass-radius relation\n",
    "two things can change: \n",
    "    1. what is atmo made of (change spectrum but won't change colors much DA (H)/DB (He) atmospheres)\n",
    "    2. Mag ~ T, Mass: mass, limit mag -> limit T -> limit age \n",
    "                             using Bergeron models (table first half is H grid, second is He)\n",
    "                             abs mag as func of T\n",
    "probably repeat for 0.5, 0.6, etc.\n",
    "\"\"\"\n",
    "\"\"\"\n",
    "v. low mass not monotonic\n",
    "H core\n",
    "excess nuclear energy\n",
    "Dunc paper in 90s -> companions hotter, wd ages wrong\n",
    "< 0.2 Msun, bigger and warmer than expected, but more stable\n",
    "\"\"\"\n",
    "\n",
    "#m = 0.4956\n",
    "ms = [0.4956, 0.1467]\n",
    "psrs = [\"J0032+6946\", \"J1239+3239\"]\n",
    "rs = [0.003, 0.004]\n",
    "\n",
    "# read in Althaus 2013 table (http://cdsarc.u-strasbg.fr/viz-bin/qcat?J/A+A/557/A19#/browse)\n",
    "althausdata = np.loadtxt('data/althaus+13.dat',delimiter=\"|\")\n",
    "logteffs = althausdata[:,0] # log effective temperature [K]\n",
    "loggs    = althausdata[:,1] # log surface gravity [cm/s^2]\n",
    "masses   = althausdata[:,2] # WD mass [Msun]\n",
    "cooling_ages     = althausdata[:,4] # WD age [Myr]\n",
    "\n",
    "for m,psr in zip(ms,psrs):\n",
    "\n",
    "    idx = (np.abs(masses - m)).argmin()\n",
    "    \n",
    "    teff, mass, age = 10**logteffs[idx], masses[idx], ages[idx]\n",
    "\n",
    "    radius=((cds.G*mass*u.solMass/(g*u.cm/u.s**2))**0.5).to(u.Rsun).value\n",
    "    \n",
    "    print(f\"{psr}: using values for {mass} Msun, cooling age {age:.1f} Myr: {teff:0.0f} K\")\n",
    "    \n",
    "# sort_inds = np.argsort(loggs)\n",
    "# plt.plot(loggs[sort_inds],logteffs[sort_inds],label='Althaus+ 2013')\n",
    "# plt.legend()\n",
    "\n",
    "# plt.plot(np.log10(r_m.value),teff_i16[inds]*1e3,label='Istrate 2016')\n",
    "# plt.plot(np.log10(ber_radii_m),bteff,label='Bergeron 2011')\n",
    "# plt.legend()"
   ]
  },
  {
   "cell_type": "code",
   "execution_count": 75,
   "id": "9386ca7c",
   "metadata": {},
   "outputs": [
    {
     "name": "stdout",
     "output_type": "stream",
     "text": [
      "0.14661164 1450.54334285\n",
      "0.14689009 1524.94422941\n"
     ]
    }
   ],
   "source": [
    "for m,age in zip(masses,ages):\n",
    "    short_m = f\"{m:0.3f}\"\n",
    "    if short_m == \"0.147\":\n",
    "        print(m,age)"
   ]
  },
  {
   "cell_type": "code",
   "execution_count": 24,
   "id": "c0108396",
   "metadata": {},
   "outputs": [],
   "source": [
    "# Implement Mamajek values instead (include BC, but how to get griz from colors provided?)\n",
    "with open('data/mamajek.txt') as mamajek:\n",
    "    mj_data = mamajek.readlines()"
   ]
  },
  {
   "cell_type": "code",
   "execution_count": 25,
   "id": "3feb0c0a",
   "metadata": {
    "scrolled": true
   },
   "outputs": [
    {
     "name": "stdout",
     "output_type": "stream",
     "text": [
      "O3V    44900 4.652 -4.01   5.82  -9.81 13.43   -5.80 -0.330  ...    ...    ...    ...    ...    ..... -1.175  ...    .....  .....  .....  .....  ....   ....   ...     ...    ...    ...     ...   ...  ...  59    O3V   \n",
      "\n",
      "O4V    42900 4.632 -3.89   5.65  -9.39 12.13   -5.50 -0.326  ...    ...    ...    ...    ...    ..... -1.160  ...    .....  .....  .....  .....  ....   ....   ...     ...    ...    ...     ...   ...  ...  48    O4V   \n",
      "\n",
      "O5V    41400 4.617 -3.76   5.54  -9.11 11.45   -5.35 -0.323  ...    ...    ...    ...    ...   -0.133 -1.150  ...    .....  .....  .....  .....  ....   ....   ...     ...    ...    ...    -0.620 ...  ...  43    O5V   \n",
      "\n",
      "O5.5V  40500 4.607 -3.67   5.44  -8.87 10.71   -5.20 -0.322  ...    ...    ...    ...    ...   -0.133 -1.145  ...    .....  .....  .....  .....  ....   ....   ...     ...    ...    ...    -0.620 ...  ...  38    O5.5V \n",
      "\n",
      "O6V    39500 4.597 -3.57   5.36  -8.67 10.27   -5.10 -0.321  ...    ...    ...    ...    ...   -0.132 -1.140  ...    .....  .....  .....  .....  ....   ....   ...     ...    ...    ...    -0.620 ...  ...  35    O6V   \n",
      "\n",
      "O6.5V  38300 4.583 -3.49   5.27  -8.44  9.82   -4.95 -0.319  ...    ...    ...    ...    ...   -0.131 -1.135  ...    .....  .....  .....  .....  ....   ....   ...     ...    ...    ...    -0.620 ...  ...  31    O6.5V \n",
      "\n",
      "O7V    37100 4.569 -3.41   5.18  -8.21  9.42   -4.80 -0.318  ...    ...    ...    ...    ...   -0.130 -1.130  ...    .....  .....  .....  .....  ....   ....   ...     ...    ...    ...    -0.620 ...  ...  28    O7V   \n",
      "\n",
      "O7.5V  36100 4.558 -3.33   5.09  -7.98  8.95   -4.65 -0.317  ...    ...    ...    ...    ...   -0.130 -1.125  ...    .....  .....  .....  .....  ....   ....   ...     ...    ...    ...    -0.620 ...  ...  26    O7.5V \n",
      "\n",
      "O8V    35100 4.545 -3.24   4.99  -7.74  8.47   -4.50 -0.315  ...    ...    ...    ...    ...   -0.129 -1.120  ...    .....  .....  .....  .....  ....   ....   ...     ...    ...    ...    -0.620 ...  ...  23.6  O8V   \n",
      "\n",
      "O8.5V  34300 4.535 -3.18   4.91  -7.53  8.06   -4.35 -0.314  ...    ...    ...    ...    ...   -0.128 -1.115  ...    .....  .....  .....  .....  ....   ....   ...     ...    ...    ...    -0.620 ...  ...  21.9  O8.5V \n",
      "\n",
      "O9V    33300 4.522 -3.11   4.82  -7.31  7.72   -4.20 -0.312  ...    ...    ...    ...    ...   -0.127 -1.110  ...   -0.369 -1.000 -0.164 -0.071 -3.44  -3.20   ...     ...    ...    ...    -0.620 ...  ...  20.2  O9V   \n",
      "\n",
      "O9.5V  31900 4.504 -3.01   4.72  -7.06  7.50   -4.05 -0.307  ...    ...    ...    ...    ...   -0.125 -1.090  ...   -0.361 -0.977 -0.161 -0.069 -3.30  -3.073  ...     ...    ...    ...    -0.605 ...  ...  18.7  O9.5V \n",
      "\n",
      "B0V    31400 4.497 -2.99   4.65  -6.89  7.16   -3.90 -0.301  ...    ...    ...    ...    ...   -0.122 -1.070  ...   -0.355 -0.958 -0.159 -0.067 -3.17  -2.942  0.016   ...    ...    ...    -0.590 ...  ...  17.7  B0V   \n",
      "\n",
      "B0.5V  29000 4.462 -2.83   4.43  -6.33  6.48   -3.50 -0.289  ...    ...    ...    ...    ...   -0.120 -1.030  ...   -0.338 -0.913 -0.153 -0.063 -2.80  -2.587  0.017   ...    ...    ...    -0.540 ...  ...  14.8  B0.5V \n",
      "\n",
      "B1V    26000 4.415 -2.58   4.13  -5.58  5.71   -3.00 -0.278  ...    ...    ...    ...    ...   -0.113 -0.995 -0.115 -0.325 -0.874 -0.148 -0.059 -2.33  -2.126  0.018   ...    ...    ...    -0.490 ...  ...  11.8  B1V   \n",
      "\n",
      "B1.5V  24500 4.389 -2.44   3.91  -5.04  5.02   -2.60 -0.252 -0.274 -0.021  ...    ...    ...   -0.103 -0.910 -0.114 -0.281 -0.752 -0.132 -0.047 -2.03  -1.848  0.021   ...    ...    ...    -0.483 ...  ...  9.9   B1.5V \n",
      "\n",
      "B2V    20600 4.314 -2.03   3.43  -3.83  4.06   -1.80 -0.215 -0.219 -0.008  ...    ...    ...   -0.094 -0.790 -0.094 -0.230 -0.602 -0.113 -0.032 -1.34  -1.198  0.023   ...    ...    ...    -0.475 ...  ...  7.3   B2V   \n",
      "\n",
      "B2.5V  18500 4.267 -1.77   3.20  -3.27  3.89   -1.50 -0.198 -0.206 -0.003  ...    ...    ...   -0.087 -0.732 -0.087 -0.210 -0.544 -0.105 -0.026 -1.09  -0.956  0.025   ...    ...    ...    -0.468 ...  ...  6.1   B2.5V \n",
      "\n",
      "B3V    17000 4.230 -1.54   2.99  -2.74  3.61   -1.20 -0.178 -0.184  0.001  ...    ...   -1.19  -0.083 -0.673 -0.080 -0.192 -0.492 -0.098 -0.021 -0.83  -0.708  0.026   ...    ...    ...    -0.460 ...  ...  5.4   B3V   \n",
      "\n",
      "B4V    16400 4.215 -1.49   2.89  -2.49  3.46   -1.00 -0.165 -0.170  0.004  ...    ...   -0.99  -0.078 -0.619 -0.074 -0.176 -0.447 -0.092 -0.016 -0.66  -0.553  0.028   ...    ...    ...    -0.437 ...  ...  5.1   B4V   \n",
      "\n",
      "B5V    15700 4.196 -1.34   2.77  -2.19  3.36   -0.85 -0.156 -0.160  0.007  ...    ...   -0.84  -0.072 -0.581 -0.070 -0.165 -0.380 -0.084 -0.010 -0.54  -0.376  0.029  -0.045 -0.117 -0.070  -0.413 ...  ...  4.7   B5V   \n",
      "\n",
      "B6V    14500 4.161 -1.13   2.57  -1.68  3.27   -0.55 -0.140 -0.142  0.010  ...    ...   -0.54  -0.066 -0.504 -0.062 -0.145 -0.358 -0.081 -0.007 -0.28  -0.192  0.030  -0.045 -0.117 -0.070  -0.390 ...  ...  4.3   B6V   \n",
      "\n",
      "B7V    14000 4.146 -1.05   2.48  -1.45  2.94   -0.40 -0.128 -0.129  0.012  ...    ...   -0.39  -0.062 -0.459 -0.058 -0.133 -0.325 -0.077 -0.004 -0.16  -0.075  0.031  -0.045 -0.117 -0.070  -0.360 ...  ...  3.92  B7V   \n",
      "\n",
      "B8V    12300 4.090 -0.73   2.19  -0.73  2.86    0.00 -0.109 -0.107  0.016  ...    ...   -0.01  -0.045 -0.364 -0.048 -0.108 -0.254 -0.067  0.003  0.19   0.254  0.033  -0.046 -0.116 -0.067  -0.330 ...  ...  3.38  B8V   \n",
      "\n",
      "B9V    10700 4.029 -0.42   1.86   0.08  2.49    0.50 -0.070 -0.063  0.018 -0.120 -0.036  0.515 -0.029 -0.200 -0.028 -0.061 -0.121 -0.050  0.016  0.59   0.621  0.038  -0.063 -0.104 -0.054  -0.280 ...  ...  2.75  B9V   \n",
      "\n",
      "B9.5V  10400 4.017 -0.36   1.80   0.24  2.45    0.60 -0.050 -0.040  0.017 -0.087 -0.016  0.615 -0.021 -0.130 -0.017 -0.035 -0.048 -0.044  0.021  0.63   0.648  0.040  -0.044 -0.091 -0.043  -0.265 ...  ...  2.68  B9.5V \n",
      "\n",
      "A0V    9700  3.987 -0.21   1.58   0.78  2.193   0.99  0.000  0.013  0.015 -0.037 -0.020  1.00   0.000 -0.005  0.001  0.004  0.041 -0.032  0.028  0.95   0.949  0.042  -0.041 -0.074 -0.022  -0.250 ...  ...  2.18  A0V   \n",
      "\n",
      "A1V    9300  3.968 -0.14   1.49   1.02  2.136   1.16  0.035  0.056  0.01   0.005  0.032  1.16   0.017  0.033  0.019  0.044  0.090 -0.025  0.030  1.08   1.07   0.043  -0.036 -0.068 -0.023  -0.210 ...  ...  2.05  A1V   \n",
      "\n",
      "A2V    8800  3.944 -0.07   1.38   1.28  2.117   1.35  0.070  0.091  0.00   0.068  0.050  1.345  0.038  0.063  0.042  0.091  0.178 -0.012  0.034  1.19   1.172  0.044  -0.034 -0.067 -0.029  -0.170 ...  ...  1.98  A2V   \n",
      "\n",
      "A3V    8600  3.934 -0.04   1.23   1.66  1.861   1.70  0.100  0.109 -0.005  0.110  0.092  1.69   0.055  0.077  0.050  0.108  0.253  0.003  0.035  1.49   1.447  0.045  -0.033 -0.066 -0.029  -0.140 ...  ...  1.86  A3V   \n",
      "\n",
      "A4V    8250  3.917 -0.02   1.13   1.92  1.794   1.94  0.140  0.166 -0.01   0.166  0.113  1.92   0.071  0.097  0.078  0.164  0.353  0.022  0.037  1.65   1.587  0.046  -0.031 -0.059 -0.021  -0.090 ...  ...  1.93  A4V   \n",
      "\n",
      "A5V    8100  3.908  0.00   1.09   2.01  1.785   2.01  0.160  0.185 -0.015  0.194  0.130  1.98   0.090  0.100  0.089  0.186  0.403  0.031  0.038  1.68   1.607  0.046  -0.030 -0.058 -0.021  -0.070 ...  ...  1.88  A5V   \n",
      "\n",
      "A6V    7910  3.898  0.005  1.05   2.13  1.775   2.12  0.185  0.194 -0.02   0.222  0.152  2.09   0.099  0.098  0.094  0.197  0.465  0.043  0.039  1.74   1.655  0.046  -0.030 -0.057 -0.018  -0.050 ...  ...  1.83  A6V   \n",
      "\n",
      "A7V    7760  3.890  0.01   1.00   2.24  1.750   2.23  0.210  0.233 -0.03   0.263  0.173  2.19   0.107  0.091  0.117  0.242  0.528  0.055  0.040  1.80   1.702  0.047  -0.030 -0.056 -0.017  -0.020 ...  ...  1.77  A7V   \n",
      "\n",
      "A8V    7590  3.880  0.02   0.96   2.34  1.747   2.32  0.250  0.274 -0.04   0.320  0.204  2.27   0.132  0.082  0.140  0.288  0.601  0.070  0.042  1.81   1.694  0.048  -0.028 -0.055 -0.009   0.030 ...  ...  1.81  A8V   \n",
      "\n",
      "A9V    7400  3.869  0.02   0.92   2.45  1.747   2.43  0.270  0.279 -0.05   0.327  0.207  2.37   0.145  0.080  0.143  0.294  0.674  0.086  0.044  1.89   1.756  0.048  -0.028 -0.055 -0.007   0.060 ...  ...  1.75  A9V   \n",
      "\n",
      "F0V    7220  3.859  0.01   0.86   2.58  1.728   2.57  0.295  0.317 -0.06   0.377  0.230  2.51   0.158  0.053  0.166  0.339  0.734  0.096  0.045  1.98   1.836  0.049  -0.026 -0.050  0.003   0.100 ...  ...  1.61  F0V   \n",
      "\n",
      "F1V    7020  3.846  0.005  0.79   2.77  1.679   2.76  0.330  0.350 -0.07   0.434  0.252  2.69   0.204  0.021  0.190  0.385  0.819  0.117  0.047  2.11   1.941  0.050  -0.026 -0.047  0.009   0.140 ...  ...  1.50  F1V   \n",
      "\n",
      "F2V    6820  3.834 -0.005  0.71   2.97  1.622   2.97  0.370  0.390 -0.08   0.490  0.279  2.89   0.250 -0.008  0.213  0.432  0.925  0.140  0.050  2.24   2.045  0.051  -0.027 -0.046  0.011   0.190 ...  ...  1.46  F2V   \n",
      "\n",
      "F3V    6750  3.829 -0.01   0.67   3.07  1.578   3.08  0.390  0.405 -0.09   0.518  0.293  2.99   0.263 -0.016  0.222  0.449  0.964  0.148  0.051  2.32   2.116  0.051  -0.028 -0.046  0.008   0.210 ...  ...  1.44  F3V   \n",
      "\n",
      "F4V    6670  3.824 -0.015  0.62   3.19  1.533   3.20  0.410  0.428 -0.10   0.546  0.307  3.10   0.277 -0.026  0.236  0.476  1.012  0.159  0.052  2.40   2.188  0.052  -0.029 -0.046  0.000   0.240 ...  ...  1.38  F4V   \n",
      "\n",
      "F5V    6550  3.816 -0.02   0.56   3.35  1.473   3.37  0.440  0.455 -0.11   0.587  0.329  3.26   0.290 -0.029  0.252  0.506  1.079  0.173  0.054  2.52   2.291  0.052  -0.030 -0.045 -0.004   0.280 ...  ...  1.33  F5V   \n",
      "\n",
      "F6V    6350  3.803 -0.03   0.43   3.66  1.359   3.69  0.486  0.504 -0.13   0.640  0.356  3.56   0.317 -0.021  0.276  0.553  1.190  0.199  0.057  2.76   2.50   0.054  -0.033 -0.045 -0.012   0.290 ...  ...  1.25  F6V   \n",
      "\n",
      "F7V    6280  3.798 -0.035  0.39   3.77  1.324   3.80  0.500  0.534 -0.14   0.670  0.372  3.66   0.332 -0.012  0.290  0.579  1.221  0.213  0.060  2.85   2.579  0.055  -0.036 -0.045 -0.013   0.320 ...  ...  1.21  F7V   \n",
      "\n",
      "F8V    6180  3.791 -0.04   0.29   4.01  1.221   4.05  0.530  0.558 -0.15   0.694  0.385  3.90   0.350  0.001  0.300  0.599  1.290  0.225  0.061  3.05   2.76   0.056  -0.039 -0.044 -0.016   0.360 ...  ...  1.18  F8V   \n",
      "\n",
      "F9V    6050  3.782 -0.05   0.22   4.20  1.167   4.25  0.560  0.587 -0.145  0.719  0.399  4.105  0.378  0.014  0.312  0.620  1.335  0.236  0.063  3.21   2.915  0.057  -0.041 -0.044 -0.014   0.380 ...  ...  1.13  F9V   \n",
      "\n",
      "F9.5V  5990  3.777 -0.06   0.18   4.29  1.142   4.35  0.580  0.615 -0.155  0.767  0.431  4.195  ...    0.033  0.323  0.640  1.403  0.249  0.065  3.26   2.947  0.057  -0.042 -0.043 -0.012   0.390 ...  ...  1.08  F9.5V   \n",
      "\n",
      "G0V    5930  3.773 -0.065  0.13   4.42  1.100   4.48  0.595  0.650 -0.155  0.784  0.439  4.325  ...    0.057  0.341  0.673  1.437  0.262  0.067  3.37   3.043  0.058  -0.043 -0.043 -0.010   0.420 ...  ...  1.06  G0V   \n",
      "\n",
      "G1V    5860  3.768 -0.073  0.08   4.55  1.060   4.62  0.622  0.661 -0.158  0.803  0.448  4.462  ...    0.067  0.340  0.672  1.500  0.279  0.070  3.47   3.120  0.060  -0.044 -0.042 -0.010   0.450 ...  ...  1.03  G1V   \n",
      "\n",
      "G2V    5770  3.761 -0.085  0.01   4.72  1.012   4.80  0.650  0.724 -0.165  0.823  0.459  4.635  ...    0.133  0.363  0.713  1.564  0.293  0.073  3.60   3.236  0.061  -0.050 -0.040 -0.016   0.476 ...  ...  1.00  G2V   \n",
      "\n",
      "G3V    5720  3.757 -0.095 -0.01   4.78  1.002   4.87  0.660  0.739 -0.167  0.832  0.464  4.703  ...    0.152  0.368  0.722  1.588  0.299  0.074  3.66   3.282  0.061  -0.050 -0.040 -0.014   0.480 ...  ...  0.99  G3V   \n",
      "\n",
      "G4V    5680  3.754 -0.10  -0.04   4.83  0.991   4.93  0.670  0.757 -0.173  0.841  0.468  4.757  ...    0.175  0.374  0.733  1.611  0.304  0.075  3.70   3.319  0.062  -0.052 -0.041 -0.014   0.490 ...  ...  0.985 G4V   \n",
      "\n",
      "G5V    5660  3.753 -0.105 -0.05   4.88  0.977   4.98  0.680  0.764 -0.179  0.850  0.473  4.801  ...    0.185  0.377  0.738  1.635  0.310  0.076  3.73   3.345  0.062  -0.052 -0.041 -0.014   0.500 ...  ...  0.98  G5V   \n",
      "\n",
      "G6V    5600  3.748 -0.115 -0.10   4.99  0.949   5.10  0.700  0.796 -0.186  0.869  0.483  4.914  ...    0.227  0.388  0.758  1.691  0.324  0.079  3.81   3.409  0.063  -0.053 -0.040 -0.012   0.520 ...  ...  0.97  G6V   \n",
      "\n",
      "G7V    5550  3.744 -0.125 -0.13   5.08  0.927   5.20  0.710  0.809 -0.194  0.880  0.489  5.006  ...    0.243  0.393  0.766  1.705  0.327  0.080  3.90   3.495  0.064  -0.054 -0.040 -0.013   0.540 ...  ...  0.95  G7V   \n",
      "\n",
      "G8V    5480  3.739 -0.14  -0.17   5.16  0.914   5.30  0.730  0.842 -0.202  0.900  0.499  5.098  ...    0.284  0.404  0.786  1.768  0.342  0.082  3.96   3.532  0.065  -0.057 -0.039 -0.018   0.570 ...  ...  0.94  G8V   \n",
      "\n",
      "G9V    5380  3.731 -0.16  -0.26   5.39  0.853   5.55  0.775  0.894 -0.210  0.950  0.524  5.34   ...    0.358  0.423  0.820  1.857  0.364  0.087  4.14   3.693  0.067  -0.060 -0.038 -0.018   0.600 ...  ...  0.90  G9V   \n",
      "\n",
      "K0V    5270  3.723 -0.195 -0.34   5.59  0.813   5.78  0.816  0.944 -0.227  0.983  0.56   5.553  ...    0.436  0.443  0.853  1.953  0.387  0.091  4.31   3.827  0.070  -0.063 -0.037 -0.015   0.620 ...  ...  0.88  K0V   \n",
      "\n",
      "K1V    5170  3.713 -0.23  -0.39   5.72  0.797   5.95  0.857  0.976 -0.25   1.01   0.56   5.65   ...    0.491  0.457  0.879  2.06   0.404  0.094  4.39   3.889  0.071  -0.064 -0.038 -0.013   0.690 ...  ...  0.86  K1V   \n",
      "\n",
      "K2V    5100  3.708 -0.26  -0.43   5.81  0.783   6.07  0.884  1.035 -0.27   1.10   0.62   5.83   ...    0.581  0.482  0.920  2.13   0.427  0.098  4.46   3.938  0.073  -0.068 -0.037 -0.009   0.740 ...  ...  0.82  K2V   \n",
      "\n",
      "K3V    4830  3.684 -0.375 -0.55   6.13  0.755   6.50  0.990  1.150 -0.32   1.21   0.66   6.20   ...    0.776  0.537  1.013  2.40   0.487  0.109  4.70   4.100  0.079  -0.071 -0.031 -0.008   0.850 ...  ...  0.78  K3V   \n",
      "\n",
      "K4V    4600  3.663 -0.52  -0.69   6.46  0.713   6.98  1.090  1.292 -0.42   1.34   0.70   6.53   ...    0.986  0.635  1.182  2.70   0.539  0.123  4.91   4.247  0.087  -0.072 -0.030  0.009   0.990 ...  ...  0.73  K4V   \n",
      "\n",
      "K5V    4440  3.647 -0.63  -0.76   6.65  0.701   7.28  1.150  1.373 -0.44   1.43   0.74   6.83   ...    1.081  0.685  1.272  2.88   0.568  0.132  5.10   4.397  0.092  -0.073 -0.029  0.019   1.040 ...  ...  0.70  K5V   \n",
      "\n",
      "K6V    4300  3.633 -0.75  -0.86   6.89  0.669   7.64  1.240  1.439 -0.51   1.53   0.79   7.02   ...    1.184  0.759  1.420  3.08   0.601  0.148  5.31   4.56   0.101   ...    ...    ...     1.140 ...  ...  0.69  K6V   \n",
      "\n",
      "K7V    4100  3.613 -0.93  -1.00   7.23  0.630   8.16  1.340  1.506 -0.58   1.70   0.86   7.57   ...    1.222  0.802  1.519  3.35   0.619  0.164  5.59   4.81   0.110   ...    ...    ...     1.260 ...  ...  0.64  K7V   \n",
      "\n",
      "K8V    3990  3.601 -1.03  -1.06   7.40  0.615   8.43  1.363  1.562 -0.625  1.73   0.88   7.74   ...    1.216  0.843  1.632  3.48   0.626  0.171  5.75   4.95   0.115   ...    ...    ...     1.290 ...  ...  0.62  K8V   \n",
      "\n",
      "K9V    3930  3.594 -1.07  -1.10   7.49  0.608   8.56  1.400  1.593 -0.66   1.79   0.90   8.03   ...    1.210  0.866  1.699  3.55   0.631  0.180  5.82   5.01   0.117   ...    ...    ...     1.320 ...  ...  0.59  K9V   \n",
      "\n",
      "M0V    3850  3.585 -1.15  -1.16   7.65  0.588   8.80  1.420  1.623 -0.70   1.84   0.92   8.16   ...    1.204  0.889  1.766  3.65   0.627  0.190  5.97   5.15   0.120   ...    ...    ...      ...  0.33 ...  0.57  M0V   \n",
      "\n",
      "M0.5V  3770  3.576 -1.29  -1.27   7.91  0.544   9.20  1.445  ...   -0.76   1.97   0.97   8.44   ...    1.184  0.924  1.886  3.84   0.620  0.208  6.19   5.36   0.125   ...    ...    ...      ...  0.37 ...  0.54  M0.5V \n",
      "\n",
      "M1V    3660  3.563 -1.42  -1.39   8.22  0.501   9.64  1.485  ...   -0.82   2.09   1.00   8.82   ...    1.172  0.956  2.005  4.00   0.614  0.222  6.48   5.64   0.130   ...    ...    ...      ...  0.41 ...  0.50  M1V   \n",
      "\n",
      "M1.5V  3620  3.559 -1.50  -1.44   8.35  0.482   9.85  1.495  ...   -0.87   2.13   1.02   8.98   ...    1.170  0.978  2.089  4.10   0.608  0.227  6.59   5.75   0.135   ...    ...    ...      ...  0.47 ...  0.47  M1.5V \n",
      "\n",
      "M2V    3560  3.551 -1.62  -1.54   8.59  0.446  10.21  1.505  ...   -0.925  2.23   1.06   9.29   ...    1.170  1.001  2.173  4.23   0.600  0.234  6.81   5.98   0.140   ...    ...    ...      ...  0.53 ...  0.44  M2V   \n",
      "\n",
      "M2.5V  3470  3.540 -1.78  -1.64   8.82  0.421  10.61  1.522  ...   -1.02   2.39   1.10   9.67   ...    1.175  1.041  2.306  4.43   0.589  0.244  7.01   6.18   0.145   ...    ...    ...      ...  0.57 ...  0.40  M2.5V \n",
      "\n",
      "M3V    3430  3.535 -1.93  -1.79   9.21  0.361  11.15  1.53   ...   -1.10   2.50   1.13  10.05   ...    1.181  1.079  2.420  4.60   0.579  0.252  7.38   6.55   0.150   ...    ...    ...      ...  0.61 ...  0.37  M3V   \n",
      "\n",
      "M3.5V  3270  3.515 -2.28  -2.03   9.82  0.300  12.10  1.60   ...   -1.28   2.78   1.19  10.87   ...    1.200  1.178  2.680  5.00   0.558  0.269  7.93   7.10   0.170   ...    ...    ...      ...  0.66 ...  0.27  M3.5V \n",
      "\n",
      "M4V    3210  3.507 -2.51  -2.14  10.10  0.274  12.61  1.65   ...   -1.40   2.94   1.24  11.21   ...    1.222  1.241  2.831  5.25   0.557  0.280  8.20   7.36   0.180   ...    ...    ...      ...  0.71 ...  0.23  M4V   \n",
      "\n",
      "M4.5V  3110  3.493 -2.84  -2.40  10.74  0.217  13.58  1.69   ...   -1.54   3.16   1.28  12.04   ...    1.23   1.345  3.073  5.65   0.564  0.301  8.80   7.93   0.200   ...    ...    ...      ...  0.81 ...  0.184 M4.5V \n",
      "\n",
      "M5V    3060  3.486 -3.11  -2.52  11.04  0.196  14.15  1.83   ...   -1.70   3.35   1.33  12.45   ...    1.24   1.446  3.278  5.95   0.580  0.312  9.09   8.20   0.210   0.17   ...    ...      ...  0.91 0.47 0.162 M5V   \n",
      "\n",
      "M5.5V  2930  3.467 -3.58  -2.79  11.72  0.156  15.30  1.94   ...   -1.95   3.71   1.38  13.35   ...    1.3    1.656  3.664  6.50   0.588  0.329  9.72   8.80   0.220   0.19   ...    ...      ...  1.13 0.52 0.123 M5.5V \n",
      "\n",
      "M6V    2810  3.449 -4.13  -2.98  12.19  0.137  16.32  2.01   ...   -2.37   4.16   1.43  14.26   ...    1.3    1.950  4.10   7.10   0.605  0.352 10.18   9.22   0.225   0.21   ...    ...      ...  1.45 0.60 0.102 M6V   \n",
      "\n",
      "M6.5V  2740  3.438 -4.62  -3.10  12.48  0.126  17.10  2.07   ...   -2.70   4.50   1.48  14.40   ...    ...    1.988  4.26   7.60   0.609  0.360 10.47   9.50   0.235   0.22   ...    ...      ...  1.58 0.64 0.093 M6.5V \n",
      "\n",
      "M7V    2680  3.428 -4.99  -3.19  12.71  0.120  17.70  2.12   ...   -2.98   4.65   1.52  14.72   ...    ...    2.180  4.50   8.00   0.613  0.390 10.70   9.70   0.240   0.24   ...    ...      ...  1.77 0.70 0.090 M7V   \n",
      "\n",
      "M7.5V  2630  3.420 -5.32  -3.24  12.84  0.116  18.16  2.14   ...   -3.15   4.72   1.55  15.20   ...    ...    2.160  4.56   8.35   0.650  0.422 10.88   9.81   0.260   0.25   ...    ...      ...  1.85 0.74 0.088 M7.5V \n",
      "\n",
      "M8V    2570  3.410 -5.65  -3.28  12.95  0.114  18.60  2.15   ...   -3.11   4.86   1.57  15.20   ...    ...    2.150  4.62   8.70   0.677  0.450 11.05   9.92   0.285   0.26   ...    ...      ...  1.93 0.77 0.085 M8V   \n",
      "\n",
      "M8.5V  2420  3.384 -5.78  -3.47  13.42  0.104  19.20  2.16   ...   -3.09   5.10   1.59  15.90   ...    ...    1.967  4.63   8.90   0.69   0.465 11.46  10.30   0.310   0.265  ...    ...      ...  1.96 0.80 0.080 M8.5V \n",
      "\n",
      "M9V    2380  3.377 -5.86  -3.52  13.54  0.102  19.40  2.17   ...   -3.00   4.78   1.60  16.20   ...    ...    1.890  4.66   9.00   0.72   0.47  11.59  10.40   0.330   0.27   ...    ...      ...  1.99 0.82 0.079 M9V   \n",
      "\n",
      "M9.5V  2350  3.371 -6.13  -3.57  13.67  0.101  19.75  ...    ...   -3.10   4.86   1.61  16.40   ...    ...    2.510  4.73   9.30   0.745  0.50  11.75  10.50   0.350   0.27   ...    ...      ...  2.00 0.84 0.078 M9.5V \n",
      "\n",
      "L0V    2270  3.356 -6.25  -3.60  13.75  0.102  20.0   ...    ...   -3.45   ...    1.68  16.60   ...    ...    ...    4.85   9.40   0.76   0.51  11.76  10.55   0.36    0.27   ...    ...      ...  2.01 0.86 0.077 L0V    \n",
      "\n",
      "L1V    2160  3.334 -6.48  -3.71  14.02  0.0995 20.5   ...    ...    ...    ...    1.66  16.90   ...    ...    ...    4.91   9.65   0.82   0.54  12.12  10.77   0.37    0.28   ...    ...      ...  2.02 0.88 0.076 L1V    \n",
      "\n",
      "L2V    2060  3.314 -6.62  -3.82  14.28  0.0970 20.9   ...    ...    ...    ...    1.69  17.30   ...    ...    ...    5.05   9.90   0.89   0.58  12.47  11.00   0.47    0.28   ...    ...      ...  2.04 0.90 0.075 L2V    \n",
      "\n",
      "L3V    1920  3.283 -7.05  -3.96  14.65  0.0942 21.7   ...    ...    ...    ...    1.70  18.10   ...    ...    ...    5.29   10.1   0.97   0.61  12.78  11.40   0.50    0.29   ...    ...      ...  2.10 0.92 ...   L3V    \n",
      "\n",
      "L4V    1870  3.272 -7.53  -4.01  14.77  0.0940 22.3   ...    ...    ...    ...    1.74  18.35   ...    ...    ...    5.57   10.5   1.00   0.63  13.09  11.50   0.60    0.30   ...    ...      ...  2.20 0.94 ...   L4V    \n",
      "\n",
      "L5V    1710  3.233 -7.87  -4.20  15.23  0.0909 ...    ...    ...    ...    ...    1.71  18.50   ...    ...    ...    6.28   11.1   1.02   0.648 13.46  11.87   0.68    0.32   ...    ...      ...  2.33 0.97 ...   L5V    \n",
      "\n",
      "L6V    1550  3.190 ...    -4.38  15.70  0.0891 ...    ...    ...    ...    ...    1.74  19.25:  ...    ...    ...    ...    ...    1.06   0.654 13.89  12.20   0.76    0.36   ...    ...      ...  2.51 1.00 ...   L6V    \n",
      "\n",
      "L7V    1530  3.185 ...    -4.41  15.77  0.0886 ...    ...    ...    ...    ...    2.11  19.30:  ...    ...    ...    ...    ...    1.13   0.645 14.31  12.55   0.84    0.41   ...    ...      ...  2.71 1.04 ...   L7V    \n",
      "\n",
      "L8V    1420  3.152 ...    -4.55  16.12  0.0875 ...    ...    ...    ...    ...    1.87  20.00:  ...    ...    ...    ...    ...    1.16   0.625 14.65  12.74   0.845   0.48   ...    ...      ...  2.93 1.09 ...   L8V    \n",
      "\n",
      "L9V    1370  3.137 ...    -4.61  16.27  0.0877 ...    ...    ...    ...    ...    ...     ...   ...    ...    ...    ...    ...    1.18   0.59  14.82  12.93   0.82    0.57   ...    ...      ...  3.15 1.16 ...   L9V\n",
      "\n",
      "T0V    1255  3.099 ...    -4.66  16.39  0.098  ...    ...    ...    ...    ...    ...     ...   ...    ...    ...    ...    ...    1.02   0.54  14.81  13.12   0.70    0.68   ...    ...      ...  3.36 1.23 ...   T0V    \n",
      "\n",
      "T1V    1240  3.093 ...    -4.69  16.47  0.100  ...    ...    ...    ...    ...    ...     ...   ...    ...    ...    ...    ...    1.02   0.45  14.63  13.29   0.58    0.82   ...    ...      ...  3.55 1.33 ...   T1V    \n",
      "\n",
      "T2V    1220  3.086 ...    -4.73  16.57  0.100  ...    ...    ...    ...    ...    ...     ...   ...    ...    ...    ...    ...    0.86   0.27  14.52  13.45   0.53    0.99   ...    ...      ...  3.70 1.43 ...   T2V    \n",
      "\n",
      "T3V    1200  3.079 ...    -4.77  16.67  0.102  ...    ...    ...    ...    ...    ...     ...   ...    ...    ...    ...    ...    0.68   0.08  14.45  13.52   ...     1.19   ...    ...      ...  3.82 1.55 ...   T3V    \n",
      "\n",
      "T4V    1180  3.072 ...    -4.84  16.84  0.101  ...    ...    ...    ...    ...    ...     ...   ...    ...    ...    ...    ...    0.35  -0.19  14.55  14.20   ...     1.43   ...    ...      ...  3.90 1.68 ...   T4V    \n",
      "\n",
      "T4.5V  1170  3.068 ...    -4.90  16.99  0.099  ...    ...    ...    ...    ...    ...     ...   ...    ...    ...    ...    ...    0.2   -0.06  14.69  14.55   ...     1.57   ...    ...      ...  3.93 1.75 ...   T4.5V \n",
      "\n",
      "T5V    1160  3.064 ...    -4.95  17.12  0.101  ...    ...    ...    ...    ...    ...     ...   ...    ...    ...    ...    ...    0.2   -0.08  14.88  14.9    ...     1.70   ...    ...      ...  3.95 1.81 ...   T5V    \n",
      "\n",
      "T5.5V  1040  3.017 ...    -5.04  17.34  0.099  ...    ...    ...    ...    ...    ...     ...   ...    ...    ...    ...    ...    0.2   -0.10  15.13  15.1    ...     1.86   ...    ...      ...  3.97 1.89 ...   T5.5V \n",
      "\n",
      "T6V     950  2.978 ...    -5.12  17.54  0.100  ...    ...    ...    ...    ...    ...     ...   ...    ...    ...    ...    ...    0.1   -0.03  15.34  15.3    ...     2.0    ...    ...      ...  3.98 1.96 ...   T6V\n",
      "\n",
      "T7V     825  2.916 ...    -5.37  18.17  0.098  ...    ...    ...    ...    ...    ...     ...   ...    ...    ...    ...    ...    0.0    0.00  15.83  15.8    ...     2.4    ...    ...      ...  4.01 2.11 ...   T7V    \n",
      "\n",
      "T7.5V   750  2.875 ...    -5.54  18.59  0.095  ...    ...    ...    ...    ...    ...     ...   ...    ...    ...    ...    ...    0.2   -0.05  16.61  16.5    ...     2.6    ...    ...      ...  4.05 2.19 ...   T7.5V \n",
      "\n",
      "T8V     680  2.833 ...    -5.71  19.02  0.095  ...    ...    ...    ...    ...    ...     ...   ...    ...    ...    ...    ...    0.2   -0.05  17.30  16.9    ...     2.8    ...    ...      ...  4.08 2.26 ...   T8V    \n",
      "\n",
      "T8.5V   600  2.778 ...    -5.93  19.57  0.097  ...    ...    ...    ...    ...    ...     ...   ...    ...    ...    ...    ...    0.2    ...   18.05  18.3    ...     3.0    ...    ...      ...  ...  ...  ...   T8.5V \n",
      "\n",
      "T9V     560  2.748 ...    -6.15  20.12  0.100  ...    ...    ...    ...    ...    ...     ...   ...    ...    ...    ...    ...    0.1   -0.20  18.51  18.6    ...     3.2    ...    ...      ...  ...  ...  ...   T9V    \n",
      "\n",
      "T9.5V   510  2.708 ...     ...   ...    ...    ...    ...    ...    ...    ...    ...     ...   ...    ...    ...    ...    ...    ...    ...   19.75  20.5    ...     3.4    ...    ...      ...  ...  ...  ...   T9.5V \n",
      "\n",
      "Y0V     450  2.653 ...    -6.52  21.04  0.104  ...    ...    ...    ...    ...    ...     ...   ...    ...    ...    ...    ...    ...   -0.5   20.15  21.0    ...     3.6    ...    ...      ...  ...  ...  ...   Y0V    \n",
      "\n",
      "Y0.5V   400  2.602 ...     ...   ...    ...    ...    ...    ...    ...    ...    ...     ...   ...    ...    ...    ...    ...    ...   -0.6   22.0   21.6    ...     3.9    ...    ...      ...  ...  ...  ...   Y0.5V \n",
      "\n",
      "Y1V     360  2.556 ...     ...   ...    ...    ...    ...    ...    ...    ...    ...     ...   ...    ...    ...    ...    ...    ...    ...   22.7   22.2    ...     4.1    ...    ...      ...  ...  ...  ...   Y1V    \n",
      "\n",
      "Y1.5V   325  2.512 ...     ...   ...    ...    ...    ...    ...    ...    ...    ...     ...   ...    ...    ...    ...    ...    ...   -0.8   23.2   22.9    ...     4.4    ...    ...      ...  ...  ...  ...   Y1.5V \n",
      "\n",
      "Y2V     320  2.505 ...     ...   ...    ...    ...    ...    ...    ...    ...    ...     ...   ...    ...    ...    ...    ...    ...    ...   23.6   23.5    ...     4.7    ...    ...      ...  ...  ...  ...   Y2V    \n",
      "\n",
      "Y4V     250  2.398 ...     ...   ...    ...    ...    ...    ...    ...    ...    ...     ...   ...    ...    ...    ...    ....   ...    ...   28.2   ...     ...     6.1    ...    ...      ...  ...  ...  ...   Y4V\n",
      "\n"
     ]
    }
   ],
   "source": [
    "for mj in mj_data:\n",
    "    if mj.startswith(\"#\"):\n",
    "        continue\n",
    "    print(mj)"
   ]
  },
  {
   "cell_type": "markdown",
   "id": "86314ccf",
   "metadata": {},
   "source": [
    "F-tests for parameter inclusion in timing solutions.\n",
    "\n",
    "Subscripts \"1\" are without the parameter in question, \"2\" includes the parameter."
   ]
  },
  {
   "cell_type": "code",
   "execution_count": 2,
   "id": "03832611",
   "metadata": {},
   "outputs": [],
   "source": [
    "def ftest(chi2_1, chi2_2, dof_1, dof_2):\n",
    "    delta_chi2 = chi2_1 - chi2_2\n",
    "    delta_dof = dof_1 - dof_2\n",
    "    redchi2_2 = chi2_2 / dof_2\n",
    "    F = float((delta_chi2 / delta_dof) / redchi2_2) # F-statistic\n",
    "    ft = fdtrc(delta_dof, dof_2, F) # probability of null hypothesis (?)\n",
    "    return ft"
   ]
  },
  {
   "cell_type": "markdown",
   "id": "cd5cf0cb",
   "metadata": {},
   "source": [
    "F-test for PSR J0636+5128 PX."
   ]
  },
  {
   "cell_type": "code",
   "execution_count": 4,
   "id": "ebf49be2",
   "metadata": {},
   "outputs": [
    {
     "name": "stdout",
     "output_type": "stream",
     "text": [
      "0.21814667466085338\n"
     ]
    }
   ],
   "source": [
    "chi2_1 = 1836.87\n",
    "chi2_2 = 1834.81\n",
    "dof_1 = 1403-50\n",
    "dof_2 = 1403-51\n",
    "ft = ftest(chi2_1, chi2_2, dof_1, dof_2)\n",
    "print(ft)"
   ]
  },
  {
   "cell_type": "markdown",
   "id": "ce093647",
   "metadata": {},
   "source": [
    "We want this to be below ~0.0027 or so. PX is not significant for J0636."
   ]
  },
  {
   "cell_type": "markdown",
   "id": "0025e881",
   "metadata": {},
   "source": [
    "F-test for PSR J1816+4510 F2"
   ]
  },
  {
   "cell_type": "code",
   "execution_count": null,
   "id": "0777c6be",
   "metadata": {},
   "outputs": [],
   "source": [
    "chi2_1 = 2047.67\n",
    "chi2_2 = 1829.15\n",
    "dof_1 = 749-15\n",
    "dof_2 = 749-16\n",
    "ft = ftest(chi2_1, chi2_2, dof_1, dof_2)\n",
    "print(ft)"
   ]
  },
  {
   "cell_type": "markdown",
   "id": "8816acc3",
   "metadata": {},
   "source": [
    "\\< 0.0027; F2 is significant for J1816."
   ]
  },
  {
   "cell_type": "markdown",
   "id": "821f5936",
   "metadata": {},
   "source": [
    "F-test for PSR J1816+4510 FB1 (adding to F2)"
   ]
  },
  {
   "cell_type": "code",
   "execution_count": null,
   "id": "a9e3ae54",
   "metadata": {},
   "outputs": [],
   "source": [
    "chi2_1 = 1829.15\n",
    "chi2_2 = 1800.46\n",
    "dof_1 = 749-16\n",
    "dof_2 = 749-17\n",
    "ft = ftest(chi2_1, chi2_2, dof_1, dof_2)\n",
    "print(ft)"
   ]
  },
  {
   "cell_type": "markdown",
   "id": "bf03d984",
   "metadata": {},
   "source": [
    "\\< 0.0027; FB1 is significant for J1816 when F2 is fit beforehand (it's not when fit by itself)."
   ]
  },
  {
   "cell_type": "markdown",
   "id": "25d0d417",
   "metadata": {},
   "source": [
    "F-test for PSR J1816+4510 FB2 (adding to F2+FB1)"
   ]
  },
  {
   "cell_type": "code",
   "execution_count": null,
   "id": "dea85052",
   "metadata": {},
   "outputs": [],
   "source": [
    "chi2_1 = 1800.46\n",
    "chi2_2 = 1786.65\n",
    "dof_1 = 749-17\n",
    "dof_2 = 749-18\n",
    "ft = ftest(chi2_1, chi2_2, dof_1, dof_2)\n",
    "print(ft)"
   ]
  },
  {
   "cell_type": "markdown",
   "id": "c6eb8833",
   "metadata": {},
   "source": [
    "\\> 0.0027; FB2 is not significant for J1816."
   ]
  },
  {
   "cell_type": "markdown",
   "id": "e6aed17c",
   "metadata": {},
   "source": [
    "F-test for PSR J1816+4510 XDOT (adding to F2+FB1)"
   ]
  },
  {
   "cell_type": "code",
   "execution_count": null,
   "id": "474b66b3",
   "metadata": {},
   "outputs": [],
   "source": [
    "chi2_1 = 1800.46\n",
    "chi2_2 = 1789.12\n",
    "dof_1 = 749-17\n",
    "dof_2 = 749-18\n",
    "ft = ftest(chi2_1, chi2_2, dof_1, dof_2)\n",
    "print(ft)"
   ]
  },
  {
   "cell_type": "markdown",
   "id": "80a04449",
   "metadata": {},
   "source": [
    "\\> 0.0027; XDOT is not significant for J1816."
   ]
  },
  {
   "cell_type": "markdown",
   "id": "e2d7f9d5",
   "metadata": {},
   "source": [
    "F-test for PSR J1816+4510 XDOT (adding to F2 only)"
   ]
  },
  {
   "cell_type": "code",
   "execution_count": null,
   "id": "259384ac",
   "metadata": {},
   "outputs": [],
   "source": [
    "chi2_1 = 1829.15\n",
    "chi2_2 = 1820.37\n",
    "dof_1 = 749-16\n",
    "dof_2 = 749-17\n",
    "ft = ftest(chi2_1, chi2_2, dof_1, dof_2)\n",
    "print(ft)"
   ]
  },
  {
   "cell_type": "markdown",
   "id": "1451adf7",
   "metadata": {},
   "source": [
    "\\> 0.0027; XDOT is not significant for J1816."
   ]
  },
  {
   "cell_type": "markdown",
   "id": "86c67943",
   "metadata": {},
   "source": [
    "F-test for PSR J1816+4510 XDOT (only extra parameter, no F2 or FB1)"
   ]
  },
  {
   "cell_type": "code",
   "execution_count": null,
   "id": "9be21626",
   "metadata": {},
   "outputs": [],
   "source": [
    "chi2_1 = 2047.67\n",
    "chi2_2 = 1975.85\n",
    "dof_1 = 749-15\n",
    "dof_2 = 749-16\n",
    "ft = ftest(chi2_1, chi2_2, dof_1, dof_2)\n",
    "print(ft)"
   ]
  },
  {
   "cell_type": "markdown",
   "id": "400e5e8f",
   "metadata": {},
   "source": [
    "\\> 0.0027; XDOT is significant for J1816."
   ]
  },
  {
   "cell_type": "markdown",
   "id": "c95eca7a",
   "metadata": {},
   "source": [
    "F-test for PSR J1816+4510 F3 (adding to F2)"
   ]
  },
  {
   "cell_type": "code",
   "execution_count": null,
   "id": "d796dbeb",
   "metadata": {},
   "outputs": [],
   "source": [
    "chi2_1 = 1829.15\n",
    "chi2_2 = 1820.94\n",
    "dof_1 = 749-16\n",
    "dof_2 = 749-17\n",
    "ft = ftest(chi2_1, chi2_2, dof_1, dof_2)\n",
    "print(ft)"
   ]
  },
  {
   "cell_type": "markdown",
   "id": "e44a8f62",
   "metadata": {},
   "source": [
    "\\> 0.0027; XDOT is significant for J1816."
   ]
  },
  {
   "cell_type": "markdown",
   "id": "eaafd2e2",
   "metadata": {},
   "source": [
    "F-test for PSR J1239+3239 PMDEC"
   ]
  },
  {
   "cell_type": "code",
   "execution_count": null,
   "id": "932d6a00",
   "metadata": {},
   "outputs": [],
   "source": [
    "chi2_1 = 346.7\n",
    "chi2_2 = 339.07\n",
    "dof_1 = 283-12\n",
    "dof_2 = 283-13\n",
    "ft = ftest(chi2_1, chi2_2, dof_1, dof_2)\n",
    "print(ft)"
   ]
  },
  {
   "cell_type": "markdown",
   "id": "20f4198a",
   "metadata": {},
   "source": [
    "We want this to be below ~0.0027 or so. PMDEC is not significant for J1239."
   ]
  },
  {
   "cell_type": "markdown",
   "id": "9d1dde9d",
   "metadata": {},
   "source": [
    "F-test for PSR J1239+3239 PBDOT"
   ]
  },
  {
   "cell_type": "code",
   "execution_count": null,
   "id": "b837e5dc",
   "metadata": {},
   "outputs": [],
   "source": [
    "chi2_1 = 346.7\n",
    "chi2_2 = 341.23\n",
    "dof_1 = 283-12\n",
    "dof_2 = 283-13\n",
    "ft = ftest(chi2_1, chi2_2, dof_1, dof_2)\n",
    "print(ft)"
   ]
  },
  {
   "cell_type": "markdown",
   "id": "587d7e6d",
   "metadata": {},
   "source": [
    "We want this to be below ~0.0027 or so. PBDOT is not significant for J1239."
   ]
  },
  {
   "cell_type": "markdown",
   "id": "f719cdef",
   "metadata": {},
   "source": [
    "F-test for PSR J1239+3239 PMDEC & PBDOT"
   ]
  },
  {
   "cell_type": "code",
   "execution_count": null,
   "id": "350dd994",
   "metadata": {},
   "outputs": [],
   "source": [
    "chi2_1 = 346.7\n",
    "chi2_2 = 332.17\n",
    "dof_1 = 283-12\n",
    "dof_2 = 283-14\n",
    "ft = ftest(chi2_1, chi2_2, dof_1, dof_2)\n",
    "print(ft)"
   ]
  },
  {
   "cell_type": "markdown",
   "id": "920399c3",
   "metadata": {},
   "source": [
    "We want this to be below ~0.0027 or so. It's closer, but PMDEC and PBDOT are not significant for J1239."
   ]
  },
  {
   "cell_type": "markdown",
   "id": "adfb038f",
   "metadata": {},
   "source": [
    "F-test for PSR J1327+3423 PX"
   ]
  },
  {
   "cell_type": "code",
   "execution_count": 6,
   "id": "074e4421",
   "metadata": {},
   "outputs": [
    {
     "name": "stdout",
     "output_type": "stream",
     "text": [
      "0.000995443012847512\n"
     ]
    }
   ],
   "source": [
    "chi2_1 = 2131.91\n",
    "chi2_2 = 2116.83\n",
    "dof_1 = 1575-47\n",
    "dof_2 = 1575-48\n",
    "ft = ftest(chi2_1, chi2_2, dof_1, dof_2)\n",
    "print(ft)"
   ]
  },
  {
   "cell_type": "markdown",
   "id": "bce9dd32",
   "metadata": {},
   "source": [
    "This is < 0.0027. PX is significant for PSR J1327+3423."
   ]
  },
  {
   "cell_type": "markdown",
   "id": "d2a91269",
   "metadata": {},
   "source": [
    "F-test for PSR J1816+4510 F2 (with DMX)"
   ]
  },
  {
   "cell_type": "code",
   "execution_count": 10,
   "id": "6e54fc5d",
   "metadata": {},
   "outputs": [
    {
     "name": "stdout",
     "output_type": "stream",
     "text": [
      "0.057089071613551\n"
     ]
    }
   ],
   "source": [
    "chi2_1 = 1137.24\n",
    "chi2_2 = 1131.08\n",
    "dof_1 = 749-81\n",
    "dof_2 = 749-82\n",
    "ft = ftest(chi2_1, chi2_2, dof_1, dof_2)\n",
    "print(ft)"
   ]
  },
  {
   "cell_type": "markdown",
   "id": "f91232de",
   "metadata": {},
   "source": [
    "This is > 0.0027. With DMX, F2 is not significant for PSR J1816+4510."
   ]
  },
  {
   "cell_type": "markdown",
   "id": "9d5016f1",
   "metadata": {},
   "source": [
    "F-test for PSR J1816+4510 FB1 (with DMX)"
   ]
  },
  {
   "cell_type": "code",
   "execution_count": 11,
   "id": "e21e2300",
   "metadata": {},
   "outputs": [
    {
     "name": "stdout",
     "output_type": "stream",
     "text": [
      "0.08228305805880497\n"
     ]
    }
   ],
   "source": [
    "chi2_1 = 1137.24\n",
    "chi2_2 = 1132.1\n",
    "dof_1 = 749-81\n",
    "dof_2 = 749-82\n",
    "ft = ftest(chi2_1, chi2_2, dof_1, dof_2)\n",
    "print(ft)"
   ]
  },
  {
   "cell_type": "markdown",
   "id": "d20b2365",
   "metadata": {},
   "source": [
    "This is > 0.0027. With DMX, FB1 is not significant for PSR J1816+4510."
   ]
  },
  {
   "cell_type": "markdown",
   "id": "42417570",
   "metadata": {},
   "source": [
    "F-test for PSR J1816+4510 XDOT (with DMX)"
   ]
  },
  {
   "cell_type": "code",
   "execution_count": 3,
   "id": "793932fe",
   "metadata": {},
   "outputs": [
    {
     "name": "stdout",
     "output_type": "stream",
     "text": [
      "0.010830907269635929\n"
     ]
    }
   ],
   "source": [
    "chi2_1 = 1444.69\n",
    "chi2_2 = 1431.13\n",
    "dof_1 = 749-59\n",
    "dof_2 = 749-60\n",
    "ft = ftest(chi2_1, chi2_2, dof_1, dof_2)\n",
    "print(ft)"
   ]
  },
  {
   "cell_type": "markdown",
   "id": "ba57c861",
   "metadata": {},
   "source": [
    "This is > 0.0027. With DMX, XDOT is not significant for PSR J1816+4510."
   ]
  },
  {
   "cell_type": "markdown",
   "id": "3d9513db",
   "metadata": {},
   "source": [
    "F-test for PSR J0214+5222 XDOT (PINT, third-order ELL1 model)"
   ]
  },
  {
   "cell_type": "code",
   "execution_count": 7,
   "id": "d58385bd",
   "metadata": {},
   "outputs": [
    {
     "name": "stdout",
     "output_type": "stream",
     "text": [
      "0.0005871812815575302\n"
     ]
    }
   ],
   "source": [
    "chi2_1 = 1042.04\n",
    "chi2_2 = 1028.947\n",
    "dof_1 = 936\n",
    "dof_2 = 935\n",
    "ft = ftest(chi2_1, chi2_2, dof_1, dof_2)\n",
    "print(ft)"
   ]
  },
  {
   "cell_type": "markdown",
   "id": "6afca7a3",
   "metadata": {},
   "source": [
    "This is < 0.0027. XDOT is significant for PSR J0214+5222."
   ]
  },
  {
   "cell_type": "markdown",
   "id": "88bfec68",
   "metadata": {},
   "source": [
    "F-test for PSR J0214+5222 XDOT (TEMPO2, BT model)"
   ]
  },
  {
   "cell_type": "code",
   "execution_count": 6,
   "id": "793932fe",
   "metadata": {},
   "outputs": [
    {
     "name": "stdout",
     "output_type": "stream",
     "text": [
      "0.0006022668980345058\n"
     ]
    }
   ],
   "source": [
    "chi2_1 = 1041.96\n",
    "chi2_2 = 1028.92\n",
    "dof_1 = 936\n",
    "dof_2 = 935\n",
    "ft = ftest(chi2_1, chi2_2, dof_1, dof_2)\n",
    "print(ft)"
   ]
  },
  {
   "cell_type": "markdown",
   "id": "ba57c861",
   "metadata": {},
   "source": [
    "This is < 0.0027. XDOT is significant for PSR J0214+5222."
   ]
  }
 ],
 "metadata": {
  "kernelspec": {
   "display_name": "Python 3 (ipykernel)",
   "language": "python",
   "name": "python3"
  },
  "language_info": {
   "codemirror_mode": {
    "name": "ipython",
    "version": 3
   },
   "file_extension": ".py",
   "mimetype": "text/x-python",
   "name": "python",
   "nbconvert_exporter": "python",
   "pygments_lexer": "ipython3",
   "version": "3.8.12"
  }
 },
 "nbformat": 4,
 "nbformat_minor": 5
}
