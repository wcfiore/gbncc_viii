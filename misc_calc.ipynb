{
 "cells": [
  {
   "cell_type": "code",
   "execution_count": 2,
   "id": "1e710955",
   "metadata": {},
   "outputs": [
    {
     "data": {
      "text/plain": [
       "1"
      ]
     },
     "execution_count": 2,
     "metadata": {},
     "output_type": "execute_result"
    }
   ],
   "source": [
    "import pint.models as model\n",
    "import pint.toa as toa\n",
    "import pint.logging\n",
    "import pint.fitter\n",
    "from pint.modelutils import model_ecliptic_to_equatorial\n",
    "import numpy as np\n",
    "import astropy.units as u\n",
    "import pint.derived_quantities as dq\n",
    "import table_utils as tu\n",
    "from scipy.special import fdtrc\n",
    "\n",
    "pint.logging.setup(level=\"ERROR\")"
   ]
  },
  {
   "cell_type": "code",
   "execution_count": null,
   "id": "5e11fc46",
   "metadata": {},
   "outputs": [],
   "source": [
    "#aplpy download fits cutouts from panstarrs use 1 or 3 to make images with real WCS & tickmarks"
   ]
  },
  {
   "cell_type": "markdown",
   "id": "71526423",
   "metadata": {},
   "source": [
    "**J1816+4510 eclipsing calculations**\n",
    "\n",
    "For J1816+4510, we see additional delays around superior conjuntion at 820 MHz, probably due to additional electron content around the companion that the signal must travel through when the pulsar eclipses. First I want to figure out the DM bump corresponding to this delay (roughly 800 microseconds)."
   ]
  },
  {
   "cell_type": "code",
   "execution_count": 9,
   "id": "1a1312ad",
   "metadata": {},
   "outputs": [],
   "source": [
    "def SC_dDM(dt,freq):\n",
    "    \"\"\" Calculate additional column density at superior conjunction (given additional timing delay)\n",
    "    \n",
    "    Parameters\n",
    "    ==========\n",
    "    dt: quantity, additional dispersive timing delay due to plasma around companion\n",
    "    freq: quantity, observing frequency of measured delay\n",
    "    \n",
    "    Returns\n",
    "    =======\n",
    "    dDM_sup: quantity, additional column density at superior conjunction (cm^-2)\n",
    "    \"\"\"\n",
    "    Dconst = 4.148808e3*(1e6*u.Hz)**2*u.cm**3*u.s*u.pc**-1 # HBOPA, eqn. 4.6\n",
    "    dDM_sup = (dt*freq**2/Dconst).to(u.pc*u.cm**-3) # extra DM corresponding to delay\n",
    "    return dDM_sup.to(u.cm**-2)"
   ]
  },
  {
   "cell_type": "markdown",
   "id": "0ef12cde",
   "metadata": {},
   "source": [
    "To compare to a similar calculation in Freire (2005; ASPCS, p. 407), I convert DM (column density) to 1/cm^2. The result is comparable to the column density of J2051-0827 (Stappers et al. 2001)."
   ]
  },
  {
   "cell_type": "code",
   "execution_count": 10,
   "id": "a2b21392",
   "metadata": {},
   "outputs": [
    {
     "name": "stdout",
     "output_type": "stream",
     "text": [
      "4.0007821153349005e+17 1 / cm2\n",
      "0.12965651820956764 pc / cm3\n"
     ]
    }
   ],
   "source": [
    "dDM_1816 = SC_dDM(800.0*1e-6*u.s,820.0*(1e6*u.Hz))\n",
    "print(dDM_1816)\n",
    "print(dDM_1816.to(u.pc*u.cm**-3))"
   ]
  },
  {
   "cell_type": "markdown",
   "id": "fc776f1d",
   "metadata": {},
   "source": [
    "How big might the companion be based on the duration of the eclipse? Assume inclination angle of 90 deg for now, and consider an eclipse that lasts some fraction of an orbit (based on gap between ingress-egress)."
   ]
  },
  {
   "cell_type": "code",
   "execution_count": 11,
   "id": "2b57256f",
   "metadata": {},
   "outputs": [
    {
     "name": "stdout",
     "output_type": "stream",
     "text": [
      "J1816+4510 is obscured for 4% of an orbit...\n",
      "Nominal pulsar-companion separation: 2.6041 Rsun\n",
      "Companion's estimated plasma radius: 0.3264 Rsun (227061 km)\n"
     ]
    }
   ],
   "source": [
    "def psr_comp_separation(model,inc=90.0*u.deg,mp=1.4*u.solMass):\n",
    "    \"\"\" Calculate separation between pulsar and binary companion\n",
    "    \n",
    "    Parameters\n",
    "    ==========\n",
    "    model: object, PINT timing model\n",
    "    inc: quantity, assumed orbital inclination (optional, default = 90 deg)\n",
    "    mp: quantity, assumed pulsar mass (optional, default = 1.4 Msun)\n",
    "    \"\"\"\n",
    "    mc = dq.companion_mass(mo['PB'].quantity, mo['A1'].quantity, i=inc, mp=mp)\n",
    "    return (mo['A1'].quantity/np.sin(inc)).to(u.R_sun)*(1+(mp/mc))\n",
    "\n",
    "def Rplasma(a, frac_eclipse):\n",
    "    \"\"\" Estimate companion (plasma?) radius based on extent of eclipse\n",
    "    \n",
    "    Parameters\n",
    "    ==========\n",
    "    a: quantity, separation between the pulsar and companion\n",
    "    frac_eclipse: float, fraction of the orbit where pulsar signal is obscured\n",
    "    \n",
    "    Returns\n",
    "    =======\n",
    "    Rplasma: quantity, companion's plasma(?) radius (Solar Radii)\n",
    "    \"\"\"\n",
    "    print(f\"Nominal pulsar-companion separation: {a.value:.4f} Rsun\")\n",
    "    ing2sup = frac_eclipse*180.0*u.deg # angle from ingress to superior conjunction\n",
    "    Rplasma = a*np.sin(ing2sup)\n",
    "    print(f\"Companion's estimated plasma radius: {Rplasma.value:.4f} Rsun ({Rplasma.to(u.km).value:.0f} km)\")\n",
    "    return Rplasma\n",
    "\n",
    "frac_eclipse = 0.04\n",
    "\n",
    "par_path = f\"data/J1816+4510_eclipseDMX.par\"\n",
    "tim_path = f\"data/J1816+4510_eclipseDMX.tim\"\n",
    "mo = model.get_model(par_path)\n",
    "to = toa.get_TOAs(tim_path,model=mo)\n",
    "fo = pint.fitter.WLSFitter(to,mo)\n",
    "x = fo.fit_toas()\n",
    "a = psr_comp_separation(mo, mp=1.64*u.solMass) # using lower limit on M_psr from Clark et al. (2023)\n",
    "print(f\"J1816+4510 is obscured for {frac_eclipse:.0%} of an orbit...\")\n",
    "rp = Rplasma(a,frac_eclipse)"
   ]
  },
  {
   "cell_type": "markdown",
   "id": "b9d3e6fb",
   "metadata": {},
   "source": [
    "I can use the estimated companion's plasma radius to get some idea of the electron density near the companion (using the additional column density around superior conjunction). This is probably ~order of magnitude."
   ]
  },
  {
   "cell_type": "code",
   "execution_count": 12,
   "id": "60eaf49d",
   "metadata": {},
   "outputs": [
    {
     "data": {
      "text/latex": [
       "$17619863 \\; \\mathrm{\\frac{1}{cm^{3}}}$"
      ],
      "text/plain": [
       "<Quantity 17619863.47492632 1 / cm3>"
      ]
     },
     "execution_count": 12,
     "metadata": {},
     "output_type": "execute_result"
    }
   ],
   "source": [
    "(dDM_1816/rp).to(u.cm**-3)"
   ]
  },
  {
   "cell_type": "markdown",
   "id": "2c127864",
   "metadata": {},
   "source": [
    "Next, I want to use the equation from Eggleton et al. (1983) to estimate the size of the companion's Roche Lobe, and thus, the path length the pulsar might be encountering around superior conjunction. Do this for a few possible inclination angles and assume pulsar mass is 1.64 solar masses."
   ]
  },
  {
   "cell_type": "code",
   "execution_count": 13,
   "id": "4e5bc1fe",
   "metadata": {},
   "outputs": [
    {
     "name": "stdout",
     "output_type": "stream",
     "text": [
      "  i = 90.0 deg; mc = 0.1792 Msun; q = 0.1093; a = 2.6041 Rsun; RL = 0.55252 Rsun; RL/Rp = 1.69\n",
      "  i = 85.0 deg; mc = 0.1800 Msun; q = 0.1097; a = 2.6044 Rsun; RL = 0.55324 Rsun; RL/Rp = 1.70\n",
      "  i = 80.0 deg; mc = 0.1822 Msun; q = 0.1111; a = 2.6055 Rsun; RL = 0.55544 Rsun; RL/Rp = 1.70\n",
      "  i = 75.0 deg; mc = 0.1860 Msun; q = 0.1134; a = 2.6073 Rsun; RL = 0.55917 Rsun; RL/Rp = 1.71\n"
     ]
    }
   ],
   "source": [
    "def RL_Eggleton(a,mc,mp=1.4*u.solMass):\n",
    "    \"\"\" Calculate Roche Lobe size in solar radii (see Eggleton 1983)\n",
    "    \n",
    "    Parameters\n",
    "    ==========\n",
    "    a: quantity, separation between the pulsar and companion\n",
    "    mc: quantity, companion mass (solar masses)\n",
    "    mp: pulsar mass (default: 1.4 Msun), optional\n",
    "    \n",
    "    Returns\n",
    "    =======\n",
    "    R_L: quantity, Roche Lobe size (solar radii)\n",
    "    \"\"\"\n",
    "    q = mc/mp\n",
    "    R_L = 0.49*a*q**(2.0/3)/(0.6*q**(2.0/3)+np.log(1.0+q**(1.0/3)))\n",
    "    return R_L.to(u.R_sun)\n",
    "\n",
    "incs = [90.0,85.0,80.0,75.0] # trial inclination angles, degrees\n",
    "\n",
    "mo = model.get_model(par_path)\n",
    "to = toa.get_TOAs(tim_path,model=mo)\n",
    "fo = pint.fitter.WLSFitter(to,mo)\n",
    "x = fo.fit_toas()\n",
    "\n",
    "for inc in incs:\n",
    "    mp = 1.64*u.M_sun\n",
    "    a = psr_comp_separation(mo,inc=inc*u.deg,mp=mp)\n",
    "    mc = dq.companion_mass(mo['PB'].quantity, mo['A1'].quantity, i=inc*u.deg, mp=mp)\n",
    "    R_L = RL_Eggleton(a,mc,mp=mp)\n",
    "    RlRp_ratio = R_L/rp\n",
    "\n",
    "    mc_str = f\"{mc.value:.4f}\"\n",
    "    q_str = f\"{mc/mp:.4f}\"\n",
    "    a_str = f\"{a.value:.4f}\"\n",
    "    rl_str = f\"{R_L.value:.5f}\"\n",
    "    rlrp_str = f\"{RlRp_ratio:.2f}\"\n",
    "\n",
    "    print(f\"  i = {inc} deg; mc = {mc_str} Msun; q = {q_str}; a = {a_str} Rsun; RL = {rl_str} Rsun; RL/Rp = {rlrp_str}\")"
   ]
  },
  {
   "cell_type": "markdown",
   "id": "8a05e293",
   "metadata": {},
   "source": [
    "Therefore (unlike the systems considered in Freire 2005), the Roche Lobe (R_L above) is somewhat larger than the size of the plasma cloud (R_p), so matter responsible for increased dispersive delays is bound to the companion."
   ]
  },
  {
   "cell_type": "markdown",
   "id": "4cf167fb",
   "metadata": {},
   "source": [
    "**Optical Constraints Calculations**\n",
    "\n",
    "I follow a procedure similar to that described in Section 4.7 of Swiggum et al. (2023) / Section 7 of Lynch et al. (2018)."
   ]
  },
  {
   "cell_type": "code",
   "execution_count": 8,
   "id": "febb2402",
   "metadata": {},
   "outputs": [],
   "source": [
    "def MagLim_to_Lum(Mlim):\n",
    "    \"\"\" Convert magnitude limit to luminosity\n",
    "    \n",
    "    Parameter\n",
    "    =========\n",
    "    Mlim (float): limiting magnitude(s)\n",
    "    \n",
    "    Returns\n",
    "    =======\n",
    "    Llim (quantity): luminosity limit(s), solar luminosity\n",
    "    \"\"\"\n",
    "    Msun = 4.74\n",
    "    Llim=u.solLum*10**((Msun-Mlim)/2.5)\n",
    "    return Llim.decompose()\n",
    "\n",
    "def TeffLim(Rlim,Llim):\n",
    "    \"\"\" Limit effective temp based on radius, luminosity\n",
    "    \n",
    "    Parameters\n",
    "    ==========\n",
    "    Rlim (quantity): estimate of stellar radius, solar radii\n",
    "    Llim (quantity): estimate of stellar luminosity, solar luminosity\n",
    "    \n",
    "    Returns\n",
    "    =======\n",
    "    Tlim (quantity): upper limit on Teff, Kelvin\n",
    "    \"\"\"\n",
    "    from astropy.units.cds import c\n",
    "    sbc = 5.6704e-8*u.W*u.meter**-2*u.K**-4\n",
    "    Tlim=(Llim/(4*np.pi*Rlim**2*sbc))**0.25\n",
    "    return Tlim.decompose()"
   ]
  },
  {
   "cell_type": "code",
   "execution_count": 130,
   "id": "a5ebf7c7",
   "metadata": {},
   "outputs": [
    {
     "name": "stdout",
     "output_type": "stream",
     "text": [
      "J0032+6946: 0.417-0.496-1.212 Msun\n",
      "[8.15744868 8.87735868 9.31334868 8.84094868 8.15479868]\n"
     ]
    }
   ],
   "source": [
    "# reddening in PS1 bands from Schlafly & Finkbeiner 2011, Table 6\n",
    "# grizy\n",
    "ps1_redden=np.array([3.172,2.271,1.682,1.322,1.087]) # y not constraining?\n",
    "\n",
    "# assume no detection.  Typical PS1 grizy stack limits are:\n",
    "ps1_lims = np.array([23.3,23.2,23.1,22.3,21.4])\n",
    "\n",
    "# extinction from http://argonaut.skymaps.info (see Green et al. 2015)\n",
    "# these take distance (largest NE vs. YMW) into account\n",
    "psr = \"J0032+6946\"\n",
    "extinction = 0.91\n",
    "\n",
    "par_path = f\"data/{psr}_fiore+23.par\"\n",
    "mo = model.get_model(par_path)\n",
    "\n",
    "mp = 1.4*u.Msun\n",
    "\n",
    "pb = (1./mo['FB0'].quantity).to(u.day)\n",
    "\n",
    "mcmax = dq.companion_mass(pb, mo['A1'].quantity, i=26.0*u.deg, mp=mp)\n",
    "mcmed = dq.companion_mass(pb, mo['A1'].quantity, i=60.0*u.deg, mp=mp)\n",
    "mcmin = dq.companion_mass(pb, mo['A1'].quantity, i=90.0*u.deg, mp=mp)\n",
    "\n",
    "gcoord = mo.coords_as_GAL()\n",
    "dmdist_ne, dmdist_ymw = tu.get_dmdists(gcoord,mo['DM'].value)\n",
    "\n",
    "dmdist = max([dmdist_ne,dmdist_ymw])\n",
    "\n",
    "distance_mod = 5*np.log10((dmdist*u.kpc/(10.0*u.pc)).decompose())\n",
    "\n",
    "print(f\"{psr}: {mcmin.value:.3f}-{mcmed.value:.3f}-{mcmax.value:.3f} Msun\")\n",
    "grizy_lims = ps1_lims-extinction*ps1_redden-distance_mod # de-reddened limits\n",
    "print(grizy_lims)"
   ]
  },
  {
   "cell_type": "code",
   "execution_count": 135,
   "id": "99d39d4b",
   "metadata": {},
   "outputs": [],
   "source": [
    "import matplotlib.pyplot as plt\n",
    "from astropy.units import cds\n",
    "\n",
    "# > 0.3 Msun, WD behaves nicely (cold degenerate matter), has mass-radius relationship\n",
    "# type of atmosphere can change, H (DA) vs. He (DB)\n",
    "# abs. magnitude depends on surface temperature, which depends on age & mass (cooling models)\n",
    "# with PanSTARRS nondetection, limit M -> limit Teff -> limit age for a given mass\n",
    "\n",
    "m = 0.4956\n",
    "psr = \"J0032+6946\"\n",
    "\n",
    "m, psr= ms[0], psrs[0]\n",
    "\n",
    "# read in Bergeron tables (https://www.astro.umontreal.ca/~bergeron/CoolingModels/)\n",
    "\n",
    "def limit(maglims,atmo=\"DA\",m=\"0.4\"):\n",
    "    check_rows = np.loadtxt(f'data/berg{m}.txt',dtype=str,usecols=2)\n",
    "    dbrow = np.max(np.where(check_rows==\"Mo\"))\n",
    "    if atmo==\"DA\":\n",
    "        teffs, g, r, i, z, y, ages = np.loadtxt(f'data/berg{m}.txt',dtype=str,skiprows=2,max_rows=dbrow-2, \n",
    "                                                usecols=[0,29,30,31,32,33,42],unpack=True)\n",
    "        parenthesis = \"(DA / H atmosphere)\"\n",
    "    elif atmo==\"DB\":\n",
    "        teffs, g, r, i, z, y, ages = np.loadtxt(f'data/berg{m}.txt',dtype=str,skiprows=dbrow+3, \n",
    "                                                usecols=[0,29,30,31,32,33,42],unpack=True)\n",
    "        parenthesis = \"(DB / He atmosphere)\"\n",
    "    else:\n",
    "        print(\"Atmosphere must be 'DA' or 'DB'\")\n",
    "        return\n",
    "    grizydata = [g,r,i,z,y]\n",
    "    bands = ['g','r','i','z','y']\n",
    "    teff_lims = []\n",
    "    age_lims = []\n",
    "    for band, maglim, bergmags in zip(bands, maglims, grizydata):\n",
    "        idx = (np.abs(maglim - np.array(bergmags).astype(float))).argmin()\n",
    "        teff, age = teffs[idx], ages[idx]\n",
    "        teff_lims.append(float(teff))\n",
    "        age_lims.append(float(age))\n",
    "        #print(f\"{psr}: using values for {m} Msun, {band} band, cooling age {age} yr: {teff} K\")\n",
    "    idx = np.argmin(np.array(teff_lims))\n",
    "    print(f\"{psr}: Mc = {m} Msun, {bands[idx]}-band limited (M_{bands[idx]} < {maglims[idx]:.1f}), cooling age {age_lims[idx]*10**-6:.2f} Myr: {teff_lims[idx]:.0f} K {parenthesis}\")"
   ]
  },
  {
   "cell_type": "code",
   "execution_count": 136,
   "id": "9386ca7c",
   "metadata": {},
   "outputs": [
    {
     "name": "stdout",
     "output_type": "stream",
     "text": [
      "J0032+6946: Mc = 0.4 Msun, r-band limited (M_r < 8.9), cooling age 0.94 Myr: 35000 K (DA / H atmosphere)\n",
      "J0032+6946: Mc = 0.4 Msun, i-band limited (M_i < 9.3), cooling age 0.44 Myr: 40000 K (DB / He atmosphere)\n",
      "J0032+6946: Mc = 0.5 Msun, r-band limited (M_r < 8.9), cooling age 1.74 Myr: 45000 K (DA / H atmosphere)\n",
      "J0032+6946: Mc = 0.5 Msun, r-band limited (M_r < 8.9), cooling age 1.70 Myr: 47500 K (DB / He atmosphere)\n",
      "J0032+6946: Mc = 0.6 Msun, r-band limited (M_r < 8.9), cooling age 1.51 Myr: 55000 K (DA / H atmosphere)\n",
      "J0032+6946: Mc = 0.6 Msun, i-band limited (M_i < 9.3), cooling age 1.40 Myr: 60000 K (DB / He atmosphere)\n"
     ]
    }
   ],
   "source": [
    "for mass in [0.4,0.5,0.6]:\n",
    "    limit(maglims=grizy_lims,atmo=\"DA\",m=str(mass))\n",
    "    limit(maglims=grizy_lims,atmo=\"DB\",m=str(mass))"
   ]
  },
  {
   "cell_type": "markdown",
   "id": "86314ccf",
   "metadata": {},
   "source": [
    "F-tests for parameter inclusion in timing solutions.\n",
    "\n",
    "Subscripts \"1\" are without the parameter in question, \"2\" includes the parameter."
   ]
  },
  {
   "cell_type": "code",
   "execution_count": 3,
   "id": "03832611",
   "metadata": {},
   "outputs": [],
   "source": [
    "def ftest(chi2_1, chi2_2, dof_1, dof_2):\n",
    "    delta_chi2 = chi2_1 - chi2_2\n",
    "    delta_dof = dof_1 - dof_2\n",
    "    redchi2_2 = chi2_2 / dof_2\n",
    "    F = float((delta_chi2 / delta_dof) / redchi2_2) # F-statistic\n",
    "    ft = fdtrc(delta_dof, dof_2, F) # probability of null hypothesis (?)\n",
    "    return ft"
   ]
  },
  {
   "cell_type": "markdown",
   "id": "cd5cf0cb",
   "metadata": {},
   "source": [
    "F-test for PSR J0636+5128 PX."
   ]
  },
  {
   "cell_type": "code",
   "execution_count": 4,
   "id": "ebf49be2",
   "metadata": {},
   "outputs": [
    {
     "name": "stdout",
     "output_type": "stream",
     "text": [
      "0.21814667466085338\n"
     ]
    }
   ],
   "source": [
    "chi2_1 = 1836.87\n",
    "chi2_2 = 1834.81\n",
    "dof_1 = 1403-50\n",
    "dof_2 = 1403-51\n",
    "ft = ftest(chi2_1, chi2_2, dof_1, dof_2)\n",
    "print(ft)"
   ]
  },
  {
   "cell_type": "markdown",
   "id": "ce093647",
   "metadata": {},
   "source": [
    "We want this to be below ~0.0027 or so. PX is not significant for J0636."
   ]
  },
  {
   "cell_type": "markdown",
   "id": "eaafd2e2",
   "metadata": {},
   "source": [
    "F-test for PSR J1239+3239 PMDEC"
   ]
  },
  {
   "cell_type": "code",
   "execution_count": 139,
   "id": "932d6a00",
   "metadata": {},
   "outputs": [
    {
     "name": "stdout",
     "output_type": "stream",
     "text": [
      "0.01432787774388313\n"
     ]
    }
   ],
   "source": [
    "chi2_1 = 346.7\n",
    "chi2_2 = 339.07\n",
    "dof_1 = 283-12\n",
    "dof_2 = 283-13\n",
    "ft = ftest(chi2_1, chi2_2, dof_1, dof_2)\n",
    "print(ft)"
   ]
  },
  {
   "cell_type": "markdown",
   "id": "20f4198a",
   "metadata": {},
   "source": [
    "We want this to be below ~0.0027 or so. PMDEC is not significant for J1239."
   ]
  },
  {
   "cell_type": "markdown",
   "id": "9d1dde9d",
   "metadata": {},
   "source": [
    "F-test for PSR J1239+3239 PBDOT"
   ]
  },
  {
   "cell_type": "code",
   "execution_count": 138,
   "id": "b837e5dc",
   "metadata": {},
   "outputs": [
    {
     "name": "stdout",
     "output_type": "stream",
     "text": [
      "0.03842955847403444\n"
     ]
    }
   ],
   "source": [
    "chi2_1 = 346.7\n",
    "chi2_2 = 341.23\n",
    "dof_1 = 283-12\n",
    "dof_2 = 283-13\n",
    "ft = ftest(chi2_1, chi2_2, dof_1, dof_2)\n",
    "print(ft)"
   ]
  },
  {
   "cell_type": "markdown",
   "id": "587d7e6d",
   "metadata": {},
   "source": [
    "We want this to be below ~0.0027 or so. PBDOT is not significant for J1239."
   ]
  },
  {
   "cell_type": "markdown",
   "id": "adfb038f",
   "metadata": {},
   "source": [
    "F-test for PSR J1327+3423 PX"
   ]
  },
  {
   "cell_type": "code",
   "execution_count": 6,
   "id": "074e4421",
   "metadata": {},
   "outputs": [
    {
     "name": "stdout",
     "output_type": "stream",
     "text": [
      "0.000995443012847512\n"
     ]
    }
   ],
   "source": [
    "chi2_1 = 2131.91\n",
    "chi2_2 = 2116.83\n",
    "dof_1 = 1575-47\n",
    "dof_2 = 1575-48\n",
    "ft = ftest(chi2_1, chi2_2, dof_1, dof_2)\n",
    "print(ft)"
   ]
  },
  {
   "cell_type": "markdown",
   "id": "bce9dd32",
   "metadata": {},
   "source": [
    "This is < 0.0027. PX is significant for PSR J1327+3423."
   ]
  },
  {
   "cell_type": "markdown",
   "id": "d2a91269",
   "metadata": {},
   "source": [
    "F-test for PSR J1816+4510 F2 (with DMX)"
   ]
  },
  {
   "cell_type": "code",
   "execution_count": 10,
   "id": "6e54fc5d",
   "metadata": {},
   "outputs": [
    {
     "name": "stdout",
     "output_type": "stream",
     "text": [
      "0.057089071613551\n"
     ]
    }
   ],
   "source": [
    "chi2_1 = 1137.24\n",
    "chi2_2 = 1131.08\n",
    "dof_1 = 749-81\n",
    "dof_2 = 749-82\n",
    "ft = ftest(chi2_1, chi2_2, dof_1, dof_2)\n",
    "print(ft)"
   ]
  },
  {
   "cell_type": "markdown",
   "id": "f91232de",
   "metadata": {},
   "source": [
    "This is > 0.0027. With DMX, F2 is not significant for PSR J1816+4510."
   ]
  },
  {
   "cell_type": "markdown",
   "id": "9d5016f1",
   "metadata": {},
   "source": [
    "F-test for PSR J1816+4510 FB1 (with DMX)"
   ]
  },
  {
   "cell_type": "code",
   "execution_count": 11,
   "id": "e21e2300",
   "metadata": {},
   "outputs": [
    {
     "name": "stdout",
     "output_type": "stream",
     "text": [
      "0.08228305805880497\n"
     ]
    }
   ],
   "source": [
    "chi2_1 = 1137.24\n",
    "chi2_2 = 1132.1\n",
    "dof_1 = 749-81\n",
    "dof_2 = 749-82\n",
    "ft = ftest(chi2_1, chi2_2, dof_1, dof_2)\n",
    "print(ft)"
   ]
  },
  {
   "cell_type": "markdown",
   "id": "d20b2365",
   "metadata": {},
   "source": [
    "This is > 0.0027. With DMX, FB1 is not significant for PSR J1816+4510."
   ]
  },
  {
   "cell_type": "markdown",
   "id": "42417570",
   "metadata": {},
   "source": [
    "F-test for PSR J1816+4510 XDOT (with DMX)"
   ]
  },
  {
   "cell_type": "code",
   "execution_count": 3,
   "id": "793932fe",
   "metadata": {},
   "outputs": [
    {
     "name": "stdout",
     "output_type": "stream",
     "text": [
      "0.010830907269635929\n"
     ]
    }
   ],
   "source": [
    "chi2_1 = 1444.69\n",
    "chi2_2 = 1431.13\n",
    "dof_1 = 749-59\n",
    "dof_2 = 749-60\n",
    "ft = ftest(chi2_1, chi2_2, dof_1, dof_2)\n",
    "print(ft)"
   ]
  },
  {
   "cell_type": "markdown",
   "id": "ba57c861",
   "metadata": {},
   "source": [
    "This is > 0.0027. With DMX, XDOT is not significant for PSR J1816+4510."
   ]
  },
  {
   "cell_type": "markdown",
   "id": "3d9513db",
   "metadata": {},
   "source": [
    "F-test for PSR J0214+5222 XDOT (PINT, third-order ELL1 model)"
   ]
  },
  {
   "cell_type": "code",
   "execution_count": 4,
   "id": "d58385bd",
   "metadata": {},
   "outputs": [
    {
     "name": "stdout",
     "output_type": "stream",
     "text": [
      "0.0005953038887263694\n"
     ]
    }
   ],
   "source": [
    "chi2_1 = 1042.053\n",
    "chi2_2 = 1028.988\n",
    "dof_1 = 936\n",
    "dof_2 = 935\n",
    "ft = ftest(chi2_1, chi2_2, dof_1, dof_2)\n",
    "print(ft)"
   ]
  },
  {
   "cell_type": "markdown",
   "id": "6afca7a3",
   "metadata": {},
   "source": [
    "This is < 0.0027. XDOT is significant for PSR J0214+5222."
   ]
  },
  {
   "cell_type": "markdown",
   "id": "88bfec68",
   "metadata": {},
   "source": [
    "F-test for PSR J0214+5222 XDOT (TEMPO2, BT model)"
   ]
  },
  {
   "cell_type": "code",
   "execution_count": 6,
   "id": "04e5510d",
   "metadata": {},
   "outputs": [
    {
     "name": "stdout",
     "output_type": "stream",
     "text": [
      "0.0006022668980345058\n"
     ]
    }
   ],
   "source": [
    "chi2_1 = 1041.96\n",
    "chi2_2 = 1028.92\n",
    "dof_1 = 936\n",
    "dof_2 = 935\n",
    "ft = ftest(chi2_1, chi2_2, dof_1, dof_2)\n",
    "print(ft)"
   ]
  },
  {
   "cell_type": "markdown",
   "id": "7e91a747",
   "metadata": {},
   "source": [
    "This is < 0.0027. XDOT is significant for PSR J0214+5222."
   ]
  },
  {
   "cell_type": "markdown",
   "id": "88a11191",
   "metadata": {},
   "source": [
    "F-test for PSR J0032+6946 PBDOT (PINT, third-order ELL1 model)"
   ]
  },
  {
   "cell_type": "code",
   "execution_count": 3,
   "id": "826786ba",
   "metadata": {},
   "outputs": [
    {
     "name": "stdout",
     "output_type": "stream",
     "text": [
      "0.12097377461662188\n"
     ]
    }
   ],
   "source": [
    "chi2_1 = 1656.660\n",
    "chi2_2 = 1653.852\n",
    "dof_1 = 1419\n",
    "dof_2 = 1418\n",
    "ft = ftest(chi2_1, chi2_2, dof_1, dof_2)\n",
    "print(ft)"
   ]
  },
  {
   "cell_type": "markdown",
   "id": "abcd3d26",
   "metadata": {},
   "source": [
    "This is > 0.0027. PBDOT is not significant for PSR J0032+6946."
   ]
  },
  {
   "cell_type": "markdown",
   "id": "fcef5d0e",
   "metadata": {},
   "source": [
    "F-test for PSR J0214+5222 XDOT (PINT, third-order ELL1 model)"
   ]
  },
  {
   "cell_type": "code",
   "execution_count": 4,
   "id": "3e85fb02",
   "metadata": {},
   "outputs": [
    {
     "name": "stdout",
     "output_type": "stream",
     "text": [
      "0.0005953038887263694\n"
     ]
    }
   ],
   "source": [
    "chi2_1 = 1042.053\n",
    "chi2_2 = 1028.988\n",
    "dof_1 = 936\n",
    "dof_2 = 935\n",
    "ft = ftest(chi2_1, chi2_2, dof_1, dof_2)\n",
    "print(ft)"
   ]
  },
  {
   "cell_type": "markdown",
   "id": "4bbc39f2",
   "metadata": {},
   "source": [
    "This is < 0.0027. XDOT is significant for PSR J0214+5222."
   ]
  },
  {
   "cell_type": "markdown",
   "id": "9596c52f",
   "metadata": {},
   "source": [
    "F-test for PSR J0214+5222 PMDEC (PINT, third-order ELL1 model)"
   ]
  },
  {
   "cell_type": "code",
   "execution_count": 5,
   "id": "02f35a19",
   "metadata": {},
   "outputs": [
    {
     "name": "stdout",
     "output_type": "stream",
     "text": [
      "0.2838857475473009\n"
     ]
    }
   ],
   "source": [
    "chi2_1 = 934.568\n",
    "chi2_2 = 933.419\n",
    "dof_1 = 935\n",
    "dof_2 = 934\n",
    "ft = ftest(chi2_1, chi2_2, dof_1, dof_2)\n",
    "print(ft)"
   ]
  },
  {
   "cell_type": "markdown",
   "id": "5251483f",
   "metadata": {},
   "source": [
    "This is > 0.0027. PMDEC is not significant for PSR J0214+5222."
   ]
  },
  {
   "cell_type": "markdown",
   "id": "a1b98d21",
   "metadata": {},
   "source": [
    "F-test for PSR 1816+4510 FB1 (without DMX)"
   ]
  },
  {
   "cell_type": "code",
   "execution_count": 140,
   "id": "f0d70aca",
   "metadata": {},
   "outputs": [
    {
     "name": "stdout",
     "output_type": "stream",
     "text": [
      "0.6817617064484285\n"
     ]
    }
   ],
   "source": [
    "chi2_1 = 2047.67\n",
    "chi2_2 = 2047.20\n",
    "dof_1 = 734\n",
    "dof_2 = 733\n",
    "ft = ftest(chi2_1, chi2_2, dof_1, dof_2)\n",
    "print(ft)"
   ]
  },
  {
   "cell_type": "markdown",
   "id": "d15adc1e",
   "metadata": {},
   "source": [
    "This is > 0.0027. FB1 is not significant for PSR J1816+4510."
   ]
  },
  {
   "cell_type": "markdown",
   "id": "703250f7",
   "metadata": {},
   "source": [
    "F-test for PSR 1816+4510 XDOT (without DMX)"
   ]
  },
  {
   "cell_type": "code",
   "execution_count": 142,
   "id": "02f35a19",
   "metadata": {},
   "outputs": [
    {
     "name": "stdout",
     "output_type": "stream",
     "text": [
      "7.745261572086393e-07\n"
     ]
    }
   ],
   "source": [
    "chi2_1 = 2047.67\n",
    "chi2_2 = 1980.53\n",
    "dof_1 = 734\n",
    "dof_2 = 733\n",
    "ft = ftest(chi2_1, chi2_2, dof_1, dof_2)\n",
    "print(ft)"
   ]
  },
  {
   "cell_type": "markdown",
   "id": "5251483f",
   "metadata": {},
   "source": [
    "This is < 0.0027. XDOT is significant for PSR J1816+4510 in the absence of a DMX fit."
   ]
  },
  {
   "cell_type": "markdown",
   "id": "9596c52f",
   "metadata": {},
   "source": [
    "F-test for PSR 1816+4510 EPS1DOT (without DMX)"
   ]
  },
  {
   "cell_type": "code",
   "execution_count": 143,
   "id": "02f35a19",
   "metadata": {},
   "outputs": [
    {
     "name": "stdout",
     "output_type": "stream",
     "text": [
      "2.1622015830690272e-08\n"
     ]
    }
   ],
   "source": [
    "chi2_1 = 2047.67\n",
    "chi2_2 = 1961.901995.86\n",
    "dof_1 = 734\n",
    "dof_2 = 733\n",
    "ft = ftest(chi2_1, chi2_2, dof_1, dof_2)\n",
    "print(ft)"
   ]
  },
  {
   "cell_type": "markdown",
   "id": "5251483f",
   "metadata": {},
   "source": [
    "This is < 0.0027. EPS1DOT is significant for PSR J1816+4510 in the absence of a DMX fit."
   ]
  },
  {
   "cell_type": "markdown",
   "id": "9596c52f",
   "metadata": {},
   "source": [
    "F-test for PSR 1816+4510 EPS2DOT (without DMX)"
   ]
  },
  {
   "cell_type": "code",
   "execution_count": 144,
   "id": "02f35a19",
   "metadata": {},
   "outputs": [
    {
     "name": "stdout",
     "output_type": "stream",
     "text": [
      "1.4729906017427073e-05\n"
     ]
    }
   ],
   "source": [
    "chi2_1 = 2047.67\n",
    "chi2_2 = 1995.86\n",
    "dof_1 = 734\n",
    "dof_2 = 733\n",
    "ft = ftest(chi2_1, chi2_2, dof_1, dof_2)\n",
    "print(ft)"
   ]
  },
  {
   "cell_type": "markdown",
   "id": "5251483f",
   "metadata": {},
   "source": [
    "This is < 0.0027. EPS2DOT is significant for PSR J1816+4510 in the absence of a DMX fit."
   ]
  },
  {
   "cell_type": "markdown",
   "id": "9596c52f",
   "metadata": {},
   "source": [
    "F-tests for testing PSR J1816+4510 binary params (without DMX)"
   ]
  },
  {
   "cell_type": "code",
   "execution_count": 146,
   "id": "02f35a19",
   "metadata": {},
   "outputs": [
    {
     "name": "stdout",
     "output_type": "stream",
     "text": [
      "Removing XDOT: 6.905276346396521e-06\n",
      "Removing EPS1DOT: 0.04941373908072355\n",
      "Removing EPS2DOT: 4.195625771467472e-06\n"
     ]
    }
   ],
   "source": [
    "chi2_removeXDOT = 1935.96\n",
    "chi2_removeEPS1DOT = 1893.09\n",
    "chi2_removeEPS2DOT = 1938.49\n",
    "chi2_initial = 1883.11\n",
    "dof_1 = 732\n",
    "dof_2 = 731\n",
    "ft_removeXDOT = ftest(chi2_removeXDOT, chi2_initial, dof_1, dof_2)\n",
    "ft_removeEPS1DOT = ftest(chi2_removeEPS1DOT, chi2_initial, dof_1, dof_2)\n",
    "ft_removeEPS2DOT = ftest(chi2_removeEPS2DOT, chi2_initial, dof_1, dof_2)\n",
    "print(f\"Removing XDOT: {ft_removeXDOT}\")\n",
    "print(f\"Removing EPS1DOT: {ft_removeEPS1DOT}\")\n",
    "print(f\"Removing EPS2DOT: {ft_removeEPS2DOT}\")"
   ]
  },
  {
   "cell_type": "markdown",
   "id": "9596c52f",
   "metadata": {},
   "source": [
    "F-test for PSR 1816+4510 F2 (without DMX; adding to XDOT, EPS2DOT)"
   ]
  },
  {
   "cell_type": "code",
   "execution_count": 147,
   "id": "02f35a19",
   "metadata": {},
   "outputs": [
    {
     "name": "stdout",
     "output_type": "stream",
     "text": [
      "1.6467761709440166e-08\n"
     ]
    }
   ],
   "source": [
    "chi2_1 = 1893.09\n",
    "chi2_2 = 1812.27\n",
    "dof_1 = 732\n",
    "dof_2 = 731\n",
    "ft = ftest(chi2_1, chi2_2, dof_1, dof_2)\n",
    "print(ft)"
   ]
  },
  {
   "cell_type": "markdown",
   "id": "5251483f",
   "metadata": {},
   "source": [
    "This is < 0.0027. F2 is significant for PSR J1816+4510 in the absence of a DMX fit."
   ]
  },
  {
   "cell_type": "markdown",
   "id": "9596c52f",
   "metadata": {},
   "source": [
    "F-test for PSR 1816+4510 FB1 (without DMX; adding to XDOT, EPS2DOT)"
   ]
  },
  {
   "cell_type": "code",
   "execution_count": 150,
   "id": "02f35a19",
   "metadata": {},
   "outputs": [
    {
     "name": "stdout",
     "output_type": "stream",
     "text": [
      "0.000887697044361157\n"
     ]
    }
   ],
   "source": [
    "chi2_1 = 1809.39\n",
    "chi2_2 = 1890.77\n",
    "dof_1 = 733\n",
    "dof_2 = 732\n",
    "ft = ftest(chi2_1, chi2_2, dof_1, dof_2)\n",
    "print(ft)"
   ]
  },
  {
   "cell_type": "markdown",
   "id": "5251483f",
   "metadata": {},
   "source": [
    "This is < 0.0027. FB1 is significant for PSR J1816+4510 in the absence of a DMX fit, but only if F2 is present."
   ]
  },
  {
   "cell_type": "markdown",
   "id": "9596c52f",
   "metadata": {},
   "source": [
    "F-test for PSR 1816+4510 FB1 (without DMX; adding to F2, XDOT, EPS2DOT)"
   ]
  },
  {
   "cell_type": "code",
   "execution_count": 150,
   "id": "02f35a19",
   "metadata": {},
   "outputs": [
    {
     "name": "stdout",
     "output_type": "stream",
     "text": [
      "0.000887697044361157\n"
     ]
    }
   ],
   "source": [
    "chi2_1 = 1812.27\n",
    "chi2_2 = 1785.03\n",
    "dof_1 = 731\n",
    "dof_2 = 730\n",
    "ft = ftest(chi2_1, chi2_2, dof_1, dof_2)\n",
    "print(ft)"
   ]
  },
  {
   "cell_type": "markdown",
   "id": "5251483f",
   "metadata": {},
   "source": [
    "This is < 0.0027. FB1 is significant for PSR J1816+4510 in the absence of a DMX fit, but only if F2 is present."
   ]
  },
  {
   "cell_type": "markdown",
   "id": "9596c52f",
   "metadata": {},
   "source": [
    "F-test for PSR 1816+4510 XDOT (with DMX)"
   ]
  },
  {
   "cell_type": "code",
   "execution_count": 148,
   "id": "02f35a19",
   "metadata": {},
   "outputs": [
    {
     "name": "stdout",
     "output_type": "stream",
     "text": [
      "0.010881956520331311\n"
     ]
    }
   ],
   "source": [
    "chi2_1 = 1444.41\n",
    "chi2_2 = 1430.87 # EPS2DOT is 1435.19, FB1 is 1444.39, F2 is 1439.08\n",
    "dof_1 = 690\n",
    "dof_2 = 689\n",
    "ft = ftest(chi2_1, chi2_2, dof_1, dof_2)\n",
    "print(ft)"
   ]
  },
  {
   "cell_type": "markdown",
   "id": "5251483f",
   "metadata": {},
   "source": [
    "This is > 0.0027. XDOT is not significant for PSR J1816+4510 when fitting for DMX."
   ]
  },
  {
   "cell_type": "markdown",
   "id": "9596c52f",
   "metadata": {},
   "source": [
    "F-test for PSR 1816+4510 XDOT & EPS2DOT (with DMX)"
   ]
  },
  {
   "cell_type": "code",
   "execution_count": 149,
   "id": "02f35a19",
   "metadata": {},
   "outputs": [
    {
     "name": "stdout",
     "output_type": "stream",
     "text": [
      "0.004923769231877012\n"
     ]
    }
   ],
   "source": [
    "chi2_1 = 1444.41\n",
    "chi2_2 = 1422.27\n",
    "dof_1 = 690\n",
    "dof_2 = 688\n",
    "ft = ftest(chi2_1, chi2_2, dof_1, dof_2)\n",
    "print(ft)"
   ]
  },
  {
   "cell_type": "markdown",
   "id": "5251483f",
   "metadata": {},
   "source": [
    "This is > 0.0027. XDOT + EPS2DOT is not significant for PSR J1816+4510 when fitting for DMX."
   ]
  },
  {
   "cell_type": "markdown",
   "id": "9596c52f",
   "metadata": {},
   "source": [
    "F-test for PSR 1816+4510 DMX"
   ]
  },
  {
   "cell_type": "code",
   "execution_count": 4,
   "id": "02f35a19",
   "metadata": {},
   "outputs": [
    {
     "name": "stdout",
     "output_type": "stream",
     "text": [
      "1.2505937414492888e-16\n"
     ]
    }
   ],
   "source": [
    "chi2_1 = 1829.15\n",
    "chi2_2 = 1444.41\n",
    "dof_1 = 733\n",
    "dof_2 = 690\n",
    "ft = ftest(chi2_1, chi2_2, dof_1, dof_2)\n",
    "print(ft)"
   ]
  },
  {
   "cell_type": "markdown",
   "id": "5251483f",
   "metadata": {},
   "source": [
    "This is << 0.0027. DMX is very significant for PSR J1816+4510."
   ]
  },
  {
   "cell_type": "code",
   "execution_count": null,
   "id": "b95e1003",
   "metadata": {},
   "outputs": [],
   "source": []
  }
 ],
 "metadata": {
  "kernelspec": {
   "display_name": "Python 3 (ipykernel)",
   "language": "python",
   "name": "python3"
  },
  "language_info": {
   "codemirror_mode": {
    "name": "ipython",
    "version": 3
   },
   "file_extension": ".py",
   "mimetype": "text/x-python",
   "name": "python",
   "nbconvert_exporter": "python",
   "pygments_lexer": "ipython3",
   "version": "3.8.12"
  }
 },
 "nbformat": 4,
 "nbformat_minor": 5
}
