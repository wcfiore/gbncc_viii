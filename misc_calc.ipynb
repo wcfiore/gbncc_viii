{
 "cells": [
  {
   "cell_type": "code",
   "execution_count": 1,
   "id": "3c3bc834",
   "metadata": {},
   "outputs": [
    {
     "data": {
      "text/plain": [
       "1"
      ]
     },
     "execution_count": 1,
     "metadata": {},
     "output_type": "execute_result"
    }
   ],
   "source": [
    "import pint.models as model\n",
    "import pint.toa as toa\n",
    "import pint.logging\n",
    "import pint.fitter\n",
    "from pint.modelutils import model_ecliptic_to_equatorial\n",
    "import numpy as np\n",
    "import astropy.units as u\n",
    "import pint.derived_quantities as dq\n",
    "import table_utils as tu\n",
    "from scipy.special import fdtrc\n",
    "\n",
    "pint.logging.setup(level=\"ERROR\")"
   ]
  },
  {
   "cell_type": "markdown",
   "id": "621589ce",
   "metadata": {},
   "source": [
    "**J1816+4510 eclipsing calculations**\n",
    "\n",
    "For J1816+4510, we see additional delays around superior conjuntion at 820 MHz, probably due to additional electron content around the companion that the signal must travel through when the pulsar eclipses. First I want to figure out the DM bump corresponding to this delay (roughly 300 microseconds)."
   ]
  },
  {
   "cell_type": "code",
   "execution_count": 2,
   "id": "417ddc5a",
   "metadata": {},
   "outputs": [],
   "source": [
    "def SC_dDM(dt,freq):\n",
    "    \"\"\" Calculate additional column density at superior conjunction (given additional timing delay)\n",
    "    \n",
    "    Parameters\n",
    "    ==========\n",
    "    dt: quantity, additional dispersive timing delay due to plasma around companion\n",
    "    freq: quantity, observing frequency of measured delay\n",
    "    \n",
    "    Returns\n",
    "    =======\n",
    "    dDM_sup: quantity, additional column density at superior conjunction (cm^-2)\n",
    "    \"\"\"\n",
    "    Dconst = 4.148808e3*(1e6*u.Hz)**2*u.cm**3*u.s*u.pc**-1 # HBOPA, eqn. 4.6\n",
    "    dDM_sup = (dt*freq**2/Dconst).to(u.pc*u.cm**-3) # extra DM corresponding to delay\n",
    "    return dDM_sup.to(u.cm**-2)"
   ]
  },
  {
   "cell_type": "markdown",
   "id": "dd0e26f0",
   "metadata": {},
   "source": [
    "To compare to a similar calculation in Freire (2005; ASPCS, p. 407), I convert DM (column density) to 1/cm^2. The result is comparable to the column density of J2051-0827 (Stappers et al. 2001)."
   ]
  },
  {
   "cell_type": "code",
   "execution_count": 3,
   "id": "468b1cc8",
   "metadata": {},
   "outputs": [
    {
     "name": "stdout",
     "output_type": "stream",
     "text": [
      "2.250439939875882e+17 1 / cm2\n",
      "0.07293179149288181 pc / cm3\n"
     ]
    }
   ],
   "source": [
    "dDM_1816 = SC_dDM(450.0*1e-6*u.s,820.0*(1e6*u.Hz))\n",
    "print(dDM_1816)\n",
    "print(dDM_1816.to(u.pc*u.cm**-3))"
   ]
  },
  {
   "cell_type": "markdown",
   "id": "117991c7",
   "metadata": {},
   "source": [
    "How big might the companion be based on the duration of the eclipse? Assume inclination angle of 90 deg for now, and consider an eclipse that lasts some fraction of an orbit (based on gap between ingress-egress)."
   ]
  },
  {
   "cell_type": "code",
   "execution_count": 4,
   "id": "1560d1f3",
   "metadata": {},
   "outputs": [
    {
     "name": "stdout",
     "output_type": "stream",
     "text": [
      "J1816+4510 is obscured for 4% of an orbit...\n",
      "Nominal pulsar-companion separation: 2.4750 Rsun\n",
      "Companion's estimated plasma radius: 0.3179 Rsun (221172 km)\n"
     ]
    }
   ],
   "source": [
    "def psr_comp_separation(model,inc=90.0*u.deg,mp=1.4*u.solMass):\n",
    "    \"\"\" Calculate separation between pulsar and binary companion\n",
    "    \n",
    "    Parameters\n",
    "    ==========\n",
    "    model: object, PINT timing model\n",
    "    inc: quantity, assumed orbital inclination (optional, default = 90 deg)\n",
    "    mp: quantity, assumed pulsar mass (optional, default = 1.4 Msun)\n",
    "    \"\"\"\n",
    "    mp = 1.4*u.solMass\n",
    "    mc = dq.companion_mass(mo['PB'].quantity, mo['A1'].quantity, i=inc, mp=mp)\n",
    "    return (mo['A1'].quantity/np.sin(inc)).to(u.R_sun)*(1+(mp/mc))\n",
    "\n",
    "def Rplasma(a, frac_eclipse):\n",
    "    \"\"\" Estimate companion (plasma?) radius based on extent of eclipse\n",
    "    \n",
    "    Parameters\n",
    "    ==========\n",
    "    a: quantity, separation between the pulsar and companion\n",
    "    frac_eclipse: float, fraction of the orbit where pulsar signal is obscured\n",
    "    \n",
    "    Returns\n",
    "    =======\n",
    "    Rplasma: quantity, companion's plasma(?) radius (Solar Radii)\n",
    "    \"\"\"\n",
    "    print(f\"Nominal pulsar-companion separation: {a.value:.4f} Rsun\")\n",
    "    ing2sup = frac_eclipse*180.0*u.deg # angle from ingress to superior conjunction\n",
    "    Rplasma = a*np.sin(ing2sup)\n",
    "    print(f\"Companion's estimated plasma radius: {Rplasma.value:.4f} Rsun ({Rplasma.to(u.km).value:.0f} km)\")\n",
    "    return Rplasma\n",
    "\n",
    "frac_eclipse = 0.041\n",
    "\n",
    "par_path = f\"data/J1816+4510_eclipseDMX.par\"\n",
    "tim_path = f\"data/J1816+4510_eclipseDMX.tim\"\n",
    "mo = model.get_model(par_path)\n",
    "to = toa.get_TOAs(tim_path,model=mo)\n",
    "fo = pint.fitter.WLSFitter(to,mo)\n",
    "x = fo.fit_toas()\n",
    "a = psr_comp_separation(mo)\n",
    "print(f\"J1816+4510 is obscured for {frac_eclipse:.0%} of an orbit...\")\n",
    "rp = Rplasma(a,frac_eclipse)"
   ]
  },
  {
   "cell_type": "markdown",
   "id": "2076f6ed",
   "metadata": {},
   "source": [
    "I can use the estimated companion's plasma radius to get some idea of the electron density near the companion (using the additional column density around superior conjunction). This is probably ~order of magnitude."
   ]
  },
  {
   "cell_type": "code",
   "execution_count": 5,
   "id": "0d249243",
   "metadata": {},
   "outputs": [
    {
     "data": {
      "text/latex": [
       "$10175058 \\; \\mathrm{\\frac{1}{cm^{3}}}$"
      ],
      "text/plain": [
       "<Quantity 10175058.45551465 1 / cm3>"
      ]
     },
     "execution_count": 5,
     "metadata": {},
     "output_type": "execute_result"
    }
   ],
   "source": [
    "(dDM_1816/rp).to(u.cm**-3)"
   ]
  },
  {
   "cell_type": "markdown",
   "id": "d440f675",
   "metadata": {},
   "source": [
    "Next, I want to use the equation from Eggleton et al. (1983) to estimate the size of the companion's Roche Lobe, and thus, the path length the pulsar might be encountering around superior conjunction. Do this for a few possible inclination angles and assume pulsar mass is 1.4 solar masses."
   ]
  },
  {
   "cell_type": "code",
   "execution_count": 7,
   "id": "b5a79b1f",
   "metadata": {},
   "outputs": [
    {
     "name": "stdout",
     "output_type": "stream",
     "text": [
      "  i = 90.0 deg; mc = 0.1619 Msun; q = 0.1157; a = 2.4750 Rsun; RL = 0.53377 Rsun; RL/Rp = 1.68\n",
      "  i = 80.0 deg; mc = 0.1646 Msun; q = 0.1176; a = 2.4750 Rsun; RL = 0.53631 Rsun; RL/Rp = 1.69\n",
      "  i = 70.0 deg; mc = 0.1731 Msun; q = 0.1237; a = 2.4750 Rsun; RL = 0.54415 Rsun; RL/Rp = 1.71\n",
      "  i = 60.0 deg; mc = 0.1891 Msun; q = 0.1351; a = 2.4750 Rsun; RL = 0.55808 Rsun; RL/Rp = 1.76\n"
     ]
    }
   ],
   "source": [
    "def RL_Eggleton(a,mc,mp=1.4*u.solMass):\n",
    "    \"\"\" Calculate Roche Lobe size in solar radii (see Eggleton 1983)\n",
    "    \n",
    "    Parameters\n",
    "    ==========\n",
    "    a: quantity, separation between the pulsar and companion\n",
    "    mc: quantity, companion mass (solar masses)\n",
    "    mp: pulsar mass (default: 1.4 Msun), optional\n",
    "    \n",
    "    Returns\n",
    "    =======\n",
    "    R_L: quantity, Roche Lobe size (solar radii)\n",
    "    \"\"\"\n",
    "    q = mc/mp\n",
    "    R_L = 0.49*a*q**(2.0/3)/(0.6*q**(2.0/3)+np.log(1.0+q**(1.0/3)))\n",
    "    return R_L.to(u.R_sun)\n",
    "\n",
    "incs = [90.0,80.0,70.0,60.0] # trial inclination angles, degrees\n",
    "\n",
    "mo = model.get_model(par_path)\n",
    "to = toa.get_TOAs(tim_path,model=mo)\n",
    "fo = pint.fitter.WLSFitter(to,mo)\n",
    "x = fo.fit_toas()\n",
    "\n",
    "for inc in incs:\n",
    "    a = psr_comp_separation(mo)\n",
    "    mp = 1.4*u.M_sun\n",
    "    mc = dq.companion_mass(mo['PB'].quantity, mo['A1'].quantity, i=inc*u.deg, mp=mp)\n",
    "    R_L = RL_Eggleton(a,mc,mp=mp)\n",
    "    RlRp_ratio = R_L/rp\n",
    "\n",
    "    mc_str = f\"{mc.value:.4f}\"\n",
    "    q_str = f\"{mc/mp:.4f}\"\n",
    "    a_str = f\"{a.value:.4f}\"\n",
    "    rl_str = f\"{R_L.value:.5f}\"\n",
    "    rlrp_str = f\"{RlRp_ratio:.2f}\"\n",
    "\n",
    "    print(f\"  i = {inc} deg; mc = {mc_str} Msun; q = {q_str}; a = {a_str} Rsun; RL = {rl_str} Rsun; RL/Rp = {rlrp_str}\")"
   ]
  },
  {
   "cell_type": "markdown",
   "id": "819e194a",
   "metadata": {},
   "source": [
    "Therefore (unlike the systems considered in Freire 2005), the Roche Lobe (R_L above) is somewhat larger than the size of the plasma cloud (R_p), so matter responsible for increased dispersive delays is bound to the companion."
   ]
  },
  {
   "cell_type": "markdown",
   "id": "a57fa954",
   "metadata": {},
   "source": [
    "**Optical Constraints Calculations**\n",
    "\n",
    "I follow a procedure similar to that described in Section 7 of Lynch et al. (2018). For non-WD companions, I include a couple functions to convert magnitude limits to limits on effective temperature, but I'm not sure this is quite good enough since Covey 2007 (where I establish spectral types) doesn't include bolometric corrections."
   ]
  },
  {
   "cell_type": "code",
   "execution_count": null,
   "id": "2b693c3c",
   "metadata": {},
   "outputs": [],
   "source": [
    "def MagLim_to_Lum(Mlim):\n",
    "    \"\"\" Convert magnitude limit to luminosity\n",
    "    \n",
    "    Parameter\n",
    "    =========\n",
    "    Mlim (float): limiting magnitude(s)\n",
    "    \n",
    "    Returns\n",
    "    =======\n",
    "    Llim (quantity): luminosity limit(s), solar luminosity\n",
    "    \"\"\"\n",
    "    Msun = 4.74\n",
    "    Llim=u.solLum*10**((Msun-Mlim)/2.5)\n",
    "    return Llim.decompose()\n",
    "\n",
    "def TeffLim(Rlim,Llim):\n",
    "    \"\"\" Limit effective temp based on radius, luminosity\n",
    "    \n",
    "    Parameters\n",
    "    ==========\n",
    "    Rlim (quantity): estimate of stellar radius, solar radii\n",
    "    Llim (quantity): estimate of stellar luminosity, solar luminosity\n",
    "    \n",
    "    Returns\n",
    "    =======\n",
    "    Tlim (quantity): upper limit on Teff, Kelvin\n",
    "    \"\"\"\n",
    "    from astropy.units.cds import c\n",
    "    sbc = 5.6704e-8*u.W*u.meter**-2*u.K**-4\n",
    "    Tlim=(Llim/(4*np.pi*Rlim**2*sbc))**0.25\n",
    "    return Tlim.decompose()"
   ]
  },
  {
   "cell_type": "code",
   "execution_count": null,
   "id": "8941974c",
   "metadata": {},
   "outputs": [],
   "source": [
    "# extinction from http://argonaut.skymaps.info (see Green et al. 2015)\n",
    "# these take distance (largest NE vs. YMW) into account\n",
    "EBmV_dict = {\n",
    "    \"J0742+4110\":0.05,\n",
    "    \"J1045-0436\":0.03,\n",
    "    \"J1221-0633\":0.03,\n",
    "    \"J1317-0157\":0.01,\n",
    "    \"J2022+2534\":0.23,\n",
    "    \"J2039-3616\":0.0, # justification to ignore reddening?\n",
    "}\n",
    "\n",
    "# Read Covey 2007 table (assume spectral classification V - main sequence)\n",
    "with open('data/covey07.txt') as covey:\n",
    "   covey_info = covey.readlines()\n",
    "\n",
    "SpectType_griz_Dict = {}\n",
    "for ci in covey_info:\n",
    "    ci_list = ci.strip().split(' ')\n",
    "    spect_type = ci_list[0]\n",
    "    MJ = float(ci_list[-1])\n",
    "    z = float(ci_list[5])+MJ\n",
    "    i = float(ci_list[4])+z\n",
    "    r = float(ci_list[3])+i\n",
    "    g = float(ci_list[2])+r\n",
    "    #print(f\"{spect_type:4s}: {g:.2f}, {r:.2f}, {i:.2f}, {z:.2f}\")\n",
    "    \n",
    "    SpectType_griz_Dict[spect_type] = [g,r,i,z]\n",
    "\n",
    "# reddening in PS1 bands from Schlafly & Finkbeiner 2011, Table 6\n",
    "# grizy\n",
    "ps1_redden=np.array([3.172,2.271,1.682,1.322]) # ,1.087]) y not constraining (and not common to skymapper)\n",
    "\n",
    "# assume no detection.  Typical PS1 griz stack limits are:\n",
    "ps1_lims = np.array([23.3,23.2,23.1,22.3]) # ,21.4])\n",
    "# Skymapper DR2 stack lims (griz); Onken et al 2019\n",
    "sm_lims = np.array([22.0,22.0,21.0,20.0])\n",
    "\n",
    "for psr in EBmV_dict.keys():\n",
    "    par_path = f\"data/{psr}_swiggum+22.par\"\n",
    "    mo = model.get_model(par_path)\n",
    "    \n",
    "    mp = 1.4*u.M_sun\n",
    "    mcmed = dq.companion_mass(mo['PB'].quantity, mo['A1'].quantity, i=60.0*u.deg, mp=mp)\n",
    "    mcmin = dq.companion_mass(mo['PB'].quantity, mo['A1'].quantity, i=90.0*u.deg, mp=mp)\n",
    "    \n",
    "    gcoord = mo.coords_as_GAL()\n",
    "    dmdist_ne, dmdist_ymw = tu.get_dmdists(gcoord,mo['DM'])\n",
    "    \n",
    "    if psr == \"J1317-0157\":\n",
    "        dmdist = dmdist_ne # ymw distance estimate maxed out\n",
    "    else:\n",
    "        dmdist = max([dmdist_ne,dmdist_ymw])\n",
    "    \n",
    "    distance_mod = 5*np.log10((dmdist*u.kpc/(10.0*u.pc)).decompose())\n",
    "    if psr == \"J2039-3616\":\n",
    "        print(f\"{psr}: {mcmin.value:.3f}-{mcmed.value:.3f} Msun\")\n",
    "        print(sm_lims-distance_mod)\n",
    "    else:\n",
    "        print(f\"{psr}: {mcmin.value:.3f}-{mcmed.value:.3f} Msun\")\n",
    "        griz_lims = ps1_lims-EBmV_dict[psr]*ps1_redden-distance_mod # de-reddened limits\n",
    "        print(griz_lims)\n",
    "        if psr != \"J1045-0436\":\n",
    "            a = (mo['A1'].quantity * np.sin(60.0*u.deg)).to(u.R_sun) # assume i = 60 deg\n",
    "            mp = 1.4*u.M_sun\n",
    "            mc = dq.companion_mass(mo['PB'].quantity, mo['A1'].quantity, i=60.0*u.deg, mp=mp)\n",
    "            R_L = RL_Eggleton(a,mc,mp=mp)\n",
    "            print(f\"Radius (RL) estimate: {R_L}\") # why is this important?\n",
    "            \n",
    "            # check griz_lims against SpectType_griz_Dict\n",
    "            # g=0, r=1, i=2, z=3\n",
    "            # g is always the most limiting, so range(1) rather than range(3)\n",
    "            for band_i in range(1): \n",
    "                for stk in SpectType_griz_Dict.keys():\n",
    "                    if griz_lims[band_i] < SpectType_griz_Dict[stk][band_i]:\n",
    "                        print(f\"{['g','r','i','z'][band_i]} spectral type limit: {stk} ({griz_lims[band_i]}<{SpectType_griz_Dict[stk][band_i]})\")\n",
    "                        Tlim = TeffLim(R_L,MagLim_to_Lum(SpectType_griz_Dict[stk][band_i]))\n",
    "                        print(f\"Teff limit?: {Tlim.decompose()}\")\n",
    "                        break\n",
    "        \n",
    "    print(dmdist,distance_mod)"
   ]
  },
  {
   "cell_type": "markdown",
   "id": "5a42bf1a",
   "metadata": {},
   "source": [
    "I think the issue with temperature constraints reported here for M-stars is that they're based on band-specific magnitude to luminosity limits. What I want to do instead is, once I've determined the correct band/spectral type to do the limiting, use the bolometric correction (??) to convert the band-limiting (g-band across the board it looks like) magnitude to a bolometric magnitude, convert to luminosity, and THEN set a Teff limit with R_L. For now, I'll just grab estimates for Teff from the web associated with M6, M5, M3, M1. These limits and spectral types assume main sequence stars (V) so I think all of this is already really uncertain.\n",
    "\n",
    "Teff for M6 = 3100 K, M5 = 3200 K, M3 = 3500 K, M1 = 3700 K.\n",
    "Grabbed these from https://sites.uni.edu/morgans/astro/course/Notes/section2/spectraltemps.html"
   ]
  },
  {
   "cell_type": "code",
   "execution_count": null,
   "id": "80711eb3",
   "metadata": {},
   "outputs": [],
   "source": [
    "import matplotlib.pyplot as plt\n",
    "from astropy.units import cds\n",
    "\n",
    "# Didn't end up using Istrate 2016 radius correction\n",
    "r_i16,teff_i16,m_i16,xxx,age_i16=np.loadtxt(\"data/radius_teff_mass.txt\",dtype='float',unpack=True)\n",
    "#set(m_i16) # which WD masses are modeled here?\n",
    "inds_0p2=np.where(m_i16==0.1961)\n",
    "\n",
    "# read in example Bergeron 2011 m=0.2 Msun table (He; https://www.astro.umontreal.ca/~bergeron/CoolingModels/)\n",
    "bergdata=np.loadtxt('data/berg0.2.txt')\n",
    "bteff = bergdata[:,0]\n",
    "blogg = bergdata[:,1]\n",
    "ber_radii_m=(cds.G*0.2*u.solMass/(10**blogg*u.meter/u.s**2)).decompose().value**0.5\n",
    "\n",
    "m_kg = (m*u.solMass).to(u.kg)\n",
    "r_m = (r_i16[inds]*u.solRad).to(u.meter)\n",
    "logg = np.log10((cds.G*m_kg/r_m**2).decompose().value)\n",
    "\n",
    "plt.plot(logg,teff_i16[inds]*1e3,label='Istrate 2016')\n",
    "plt.plot(blogg,bteff,label='Bergeron 2011')\n",
    "plt.legend()\n",
    "\n",
    "#plt.plot(np.log10(r_m.value),teff_i16[inds]*1e3,label='Istrate 2016')\n",
    "#plt.plot(np.log10(ber_radii_m),bteff,label='Bergeron 2011')\n",
    "#plt.legend()"
   ]
  },
  {
   "cell_type": "code",
   "execution_count": null,
   "id": "ba88bf1d",
   "metadata": {},
   "outputs": [],
   "source": [
    "# Implement Mamajek values instead (include BC, but how to get griz from colors provided?)\n",
    "with open('data/mamajek.txt') as mamajek:\n",
    "    mj_data = mamajek.readlines()"
   ]
  },
  {
   "cell_type": "code",
   "execution_count": null,
   "id": "9f2a1926",
   "metadata": {},
   "outputs": [],
   "source": [
    "for mj in mj_data:\n",
    "    if mj.startswith(\"#\"):\n",
    "        continue\n",
    "    print(mj)"
   ]
  },
  {
   "cell_type": "code",
   "execution_count": null,
   "id": "e2483991",
   "metadata": {},
   "outputs": [],
   "source": [
    "def orbital_parallax(i, e, om)"
   ]
  },
  {
   "cell_type": "markdown",
   "id": "a329ab42",
   "metadata": {},
   "source": [
    "F-tests for parameter inclusion in timing solutions.\n",
    "\n",
    "Subscripts \"1\" are without the parameter in question, \"2\" includes the parameter."
   ]
  },
  {
   "cell_type": "code",
   "execution_count": 29,
   "id": "83e5c025",
   "metadata": {},
   "outputs": [],
   "source": [
    "def ftest(chi2_1, chi2_2, dof_1, dof_2):\n",
    "    delta_chi2 = chi2_1 - chi2_2\n",
    "    delta_dof = dof_1 - dof_2\n",
    "    redchi2_2 = chi2_2 / dof_2\n",
    "    F = float((delta_chi2 / delta_dof) / redchi2_2) # F-statistic\n",
    "    ft = fdtrc(delta_dof, dof_2, F) # probability of null hypothesis (?)\n",
    "    return ft"
   ]
  },
  {
   "cell_type": "markdown",
   "id": "43fd19e6",
   "metadata": {},
   "source": [
    "F-test for PSR J0636+5128 PX."
   ]
  },
  {
   "cell_type": "code",
   "execution_count": 33,
   "id": "bc4c321e",
   "metadata": {},
   "outputs": [
    {
     "name": "stdout",
     "output_type": "stream",
     "text": [
      "0.28149855392598716\n"
     ]
    }
   ],
   "source": [
    "chi2_1 = 1228.02\n",
    "chi2_2 = 1226.18\n",
    "dof_1 = 827-52\n",
    "dof_2 = 827-53\n",
    "ft = ftest(chi2_1, chi2_2, dof_1, dof_2)\n",
    "print(ft)"
   ]
  },
  {
   "cell_type": "markdown",
   "id": "3c57c762",
   "metadata": {},
   "source": [
    "We want this to be below ~0.0027 or so. PX is not significant for J0636."
   ]
  },
  {
   "cell_type": "markdown",
   "id": "ce41a394",
   "metadata": {},
   "source": [
    "F-test for PSR J0214+5222 XDOT."
   ]
  },
  {
   "cell_type": "code",
   "execution_count": 31,
   "id": "3c5866a1",
   "metadata": {},
   "outputs": [
    {
     "name": "stdout",
     "output_type": "stream",
     "text": [
      "0.10354715423675658\n"
     ]
    }
   ],
   "source": [
    "chi2_1 = 916.93\n",
    "chi2_2 = 914.19\n",
    "dof_1 = 902-15\n",
    "dof_2 = 902-16\n",
    "ft = ftest(chi2_1, chi2_2, dof_1, dof_2)\n",
    "print(ft)"
   ]
  },
  {
   "cell_type": "markdown",
   "id": "0ed6d0f4",
   "metadata": {},
   "source": [
    "We want this to be below ~0.0027 or so. XDOT is not significant for J0214."
   ]
  },
  {
   "cell_type": "markdown",
   "id": "7a1c464a",
   "metadata": {},
   "source": [
    "F-test for PSR J0214+5222 OMDOT."
   ]
  },
  {
   "cell_type": "code",
   "execution_count": 32,
   "id": "ba7418d5",
   "metadata": {},
   "outputs": [
    {
     "name": "stdout",
     "output_type": "stream",
     "text": [
      "0.04556929096084071\n"
     ]
    }
   ],
   "source": [
    "chi2_1 = 916.93\n",
    "chi2_2 = 912.8\n",
    "dof_1 = 902-15\n",
    "dof_2 = 902-16\n",
    "ft = ftest(chi2_1, chi2_2, dof_1, dof_2)\n",
    "print(ft)"
   ]
  },
  {
   "cell_type": "markdown",
   "id": "4eb7689c",
   "metadata": {},
   "source": [
    "We want this to be below ~0.0027 or so. OMDOT is not significant for J0214."
   ]
  },
  {
   "cell_type": "markdown",
   "id": "1b92ba0b",
   "metadata": {},
   "source": [
    "F-test for PSR J0214+5222 XDOT & OMDOT together."
   ]
  },
  {
   "cell_type": "code",
   "execution_count": 34,
   "id": "197cae21",
   "metadata": {},
   "outputs": [
    {
     "name": "stdout",
     "output_type": "stream",
     "text": [
      "0.017626801693585038\n"
     ]
    }
   ],
   "source": [
    "chi2_1 = 916.93\n",
    "chi2_2 = 908.6\n",
    "dof_1 = 902-15\n",
    "dof_2 = 902-17\n",
    "ft = ftest(chi2_1, chi2_2, dof_1, dof_2)\n",
    "print(ft)"
   ]
  },
  {
   "cell_type": "markdown",
   "id": "9580117b",
   "metadata": {},
   "source": [
    "We want this to be below ~0.0027 or so. Taken together, XDOT and OMDOT are not significant for J0214."
   ]
  },
  {
   "cell_type": "markdown",
   "id": "13e2044a",
   "metadata": {},
   "source": [
    "F-test for PSR J1816+4510 FB1"
   ]
  },
  {
   "cell_type": "code",
   "execution_count": 35,
   "id": "17581b6d",
   "metadata": {},
   "outputs": [
    {
     "name": "stdout",
     "output_type": "stream",
     "text": [
      "3.609507717408535e-07\n"
     ]
    }
   ],
   "source": [
    "chi2_1 = 3788.07\n",
    "chi2_2 = 3653.99\n",
    "dof_1 = 735-15\n",
    "dof_2 = 735-16\n",
    "ft = ftest(chi2_1, chi2_2, dof_1, dof_2)\n",
    "print(ft)"
   ]
  },
  {
   "cell_type": "markdown",
   "id": "de860f7f",
   "metadata": {},
   "source": [
    "\\< 0.0027; FB1 is significant for J1816."
   ]
  },
  {
   "cell_type": "markdown",
   "id": "135d5460",
   "metadata": {},
   "source": [
    "F-test for PSR J1816+4510 FB2 (comparing with FB0 & FB1)"
   ]
  },
  {
   "cell_type": "code",
   "execution_count": 36,
   "id": "32a7615c",
   "metadata": {},
   "outputs": [
    {
     "name": "stdout",
     "output_type": "stream",
     "text": [
      "0.0004927166601997667\n"
     ]
    }
   ],
   "source": [
    "chi2_1 = 3653.99\n",
    "chi2_2 = 3592.67\n",
    "dof_1 = 735-16\n",
    "dof_2 = 735-17\n",
    "ft = ftest(chi2_1, chi2_2, dof_1, dof_2)\n",
    "print(ft)"
   ]
  },
  {
   "cell_type": "markdown",
   "id": "a3321c49",
   "metadata": {},
   "source": [
    "\\< 0.0027; FB2 is significant for J1816."
   ]
  },
  {
   "cell_type": "markdown",
   "id": "4719db32",
   "metadata": {},
   "source": [
    "F-test for PSR J1816+4510 FB3 (comparing with FB0, FB1, FB2)"
   ]
  },
  {
   "cell_type": "code",
   "execution_count": 39,
   "id": "cf6dad11",
   "metadata": {},
   "outputs": [
    {
     "name": "stdout",
     "output_type": "stream",
     "text": [
      "0.025446577050575653\n"
     ]
    }
   ],
   "source": [
    "chi2_1 = 3592.67\n",
    "chi2_2 = 3567.72\n",
    "dof_1 = 735-17\n",
    "dof_2 = 735-18\n",
    "ft = ftest(chi2_1, chi2_2, dof_1, dof_2)\n",
    "print(ft)"
   ]
  },
  {
   "cell_type": "markdown",
   "id": "fc7a09f3",
   "metadata": {},
   "source": [
    "We want this to be below ~0.0027 or so. FB3 is not significant for J1816."
   ]
  },
  {
   "cell_type": "markdown",
   "id": "01d80b3e",
   "metadata": {},
   "source": [
    "F-test for PSR J1816+4510 XDOT (comparing with FB0, FB1, FB2)"
   ]
  },
  {
   "cell_type": "code",
   "execution_count": 40,
   "id": "b2313c9a",
   "metadata": {},
   "outputs": [
    {
     "name": "stdout",
     "output_type": "stream",
     "text": [
      "8.053330652229446e-07\n"
     ]
    }
   ],
   "source": [
    "chi2_1 = 3592.67\n",
    "chi2_2 = 3472.65\n",
    "dof_1 = 735-17\n",
    "dof_2 = 735-18\n",
    "ft = ftest(chi2_1, chi2_2, dof_1, dof_2)\n",
    "print(ft)"
   ]
  },
  {
   "cell_type": "markdown",
   "id": "0aceb3fb",
   "metadata": {},
   "source": [
    "\\< 0.0027; XDOT is significant for J1816."
   ]
  },
  {
   "cell_type": "markdown",
   "id": "149d4688",
   "metadata": {},
   "source": [
    "F-test for PSR J1816+4510 XDOT (comparing with FB0 only)"
   ]
  },
  {
   "cell_type": "code",
   "execution_count": 41,
   "id": "c8aad956",
   "metadata": {},
   "outputs": [
    {
     "name": "stdout",
     "output_type": "stream",
     "text": [
      "1.0017840471542493e-07\n"
     ]
    }
   ],
   "source": [
    "chi2_1 = 3788.07\n",
    "chi2_2 = 3641.41\n",
    "dof_1 = 735-15\n",
    "dof_2 = 735-16\n",
    "ft = ftest(chi2_1, chi2_2, dof_1, dof_2)\n",
    "print(ft)"
   ]
  },
  {
   "cell_type": "markdown",
   "id": "df427cc6",
   "metadata": {},
   "source": [
    "\\< 0.0027; XDOT is significant for J1816."
   ]
  },
  {
   "cell_type": "markdown",
   "id": "c5fcf77e",
   "metadata": {},
   "source": [
    "F-test for PSR J1816+4510 FB1 (comparing with FB0 & XDOT)"
   ]
  },
  {
   "cell_type": "code",
   "execution_count": 42,
   "id": "8398f66c",
   "metadata": {},
   "outputs": [
    {
     "name": "stdout",
     "output_type": "stream",
     "text": [
      "1.2615538950603867e-06\n"
     ]
    }
   ],
   "source": [
    "chi2_1 = 3641.41\n",
    "chi2_2 = 3524.17\n",
    "dof_1 = 735-16\n",
    "dof_2 = 735-17\n",
    "ft = ftest(chi2_1, chi2_2, dof_1, dof_2)\n",
    "print(ft)"
   ]
  },
  {
   "cell_type": "markdown",
   "id": "7516cf75",
   "metadata": {},
   "source": [
    "\\< 0.0027; FB1 is still significant for J1816 if we start with XDOT."
   ]
  },
  {
   "cell_type": "markdown",
   "id": "679cd304",
   "metadata": {},
   "source": [
    "F-test for PSR J1816+4510 FB2 (comparing with FB1 & XDOT)"
   ]
  },
  {
   "cell_type": "code",
   "execution_count": 44,
   "id": "da102f65",
   "metadata": {},
   "outputs": [
    {
     "name": "stdout",
     "output_type": "stream",
     "text": [
      "0.0011607023433736713\n"
     ]
    }
   ],
   "source": [
    "chi2_1 = 3524.17\n",
    "chi2_2 = 3472.65\n",
    "dof_1 = 735-17\n",
    "dof_2 = 735-18\n",
    "ft = ftest(chi2_1, chi2_2, dof_1, dof_2)\n",
    "print(ft)"
   ]
  },
  {
   "cell_type": "markdown",
   "id": "91ff8bc4",
   "metadata": {},
   "source": [
    "\\< 0.0027; FB2 is still significant for J1816 if we fit XDOT first."
   ]
  },
  {
   "cell_type": "markdown",
   "id": "20280e1b",
   "metadata": {},
   "source": [
    "F-test for PSR J1239+3239 PMDEC"
   ]
  },
  {
   "cell_type": "code",
   "execution_count": 45,
   "id": "25868eda",
   "metadata": {},
   "outputs": [
    {
     "name": "stdout",
     "output_type": "stream",
     "text": [
      "0.01432787774388313\n"
     ]
    }
   ],
   "source": [
    "chi2_1 = 346.7\n",
    "chi2_2 = 339.07\n",
    "dof_1 = 283-12\n",
    "dof_2 = 283-13\n",
    "ft = ftest(chi2_1, chi2_2, dof_1, dof_2)\n",
    "print(ft)"
   ]
  },
  {
   "cell_type": "markdown",
   "id": "b0c59368",
   "metadata": {},
   "source": [
    "We want this to be below ~0.0027 or so. PMDEC is not significant for J1239."
   ]
  },
  {
   "cell_type": "markdown",
   "id": "3ad11e3d",
   "metadata": {},
   "source": [
    "F-test for PSR J1239+3239 PBDOT"
   ]
  },
  {
   "cell_type": "code",
   "execution_count": 46,
   "id": "f48648a2",
   "metadata": {},
   "outputs": [
    {
     "name": "stdout",
     "output_type": "stream",
     "text": [
      "0.03842955847403444\n"
     ]
    }
   ],
   "source": [
    "chi2_1 = 346.7\n",
    "chi2_2 = 341.23\n",
    "dof_1 = 283-12\n",
    "dof_2 = 283-13\n",
    "ft = ftest(chi2_1, chi2_2, dof_1, dof_2)\n",
    "print(ft)"
   ]
  },
  {
   "cell_type": "markdown",
   "id": "6b01c1e1",
   "metadata": {},
   "source": [
    "We want this to be below ~0.0027 or so. PBDOT is not significant for J1239."
   ]
  },
  {
   "cell_type": "markdown",
   "id": "5c67bc8b",
   "metadata": {},
   "source": [
    "F-test for PSR J1239+3239 PMDEC & PBDOT"
   ]
  },
  {
   "cell_type": "code",
   "execution_count": 47,
   "id": "cb69a4f5",
   "metadata": {},
   "outputs": [
    {
     "name": "stdout",
     "output_type": "stream",
     "text": [
      "0.0031563341237478516\n"
     ]
    }
   ],
   "source": [
    "chi2_1 = 346.7\n",
    "chi2_2 = 332.17\n",
    "dof_1 = 283-12\n",
    "dof_2 = 283-14\n",
    "ft = ftest(chi2_1, chi2_2, dof_1, dof_2)\n",
    "print(ft)"
   ]
  },
  {
   "cell_type": "markdown",
   "id": "03e6fdd3",
   "metadata": {},
   "source": [
    "We want this to be below ~0.0027 or so. It's closer, but PMDEC and PBDOT are not significant for J1239."
   ]
  },
  {
   "cell_type": "code",
   "execution_count": null,
   "id": "0db05b9a",
   "metadata": {},
   "outputs": [],
   "source": []
  }
 ],
 "metadata": {
  "kernelspec": {
   "display_name": "Python 3 (ipykernel)",
   "language": "python",
   "name": "python3"
  },
  "language_info": {
   "codemirror_mode": {
    "name": "ipython",
    "version": 3
   },
   "file_extension": ".py",
   "mimetype": "text/x-python",
   "name": "python",
   "nbconvert_exporter": "python",
   "pygments_lexer": "ipython3",
   "version": "3.8.12"
  }
 },
 "nbformat": 4,
 "nbformat_minor": 5
}
