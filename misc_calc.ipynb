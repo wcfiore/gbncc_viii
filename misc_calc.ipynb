{
 "cells": [
  {
   "cell_type": "code",
   "execution_count": 1,
   "id": "1e710955",
   "metadata": {},
   "outputs": [
    {
     "data": {
      "text/plain": [
       "1"
      ]
     },
     "execution_count": 1,
     "metadata": {},
     "output_type": "execute_result"
    }
   ],
   "source": [
    "import pint.models as model\n",
    "import pint.toa as toa\n",
    "import pint.logging\n",
    "import pint.fitter\n",
    "from pint.modelutils import model_ecliptic_to_equatorial\n",
    "import numpy as np\n",
    "import astropy.units as u\n",
    "import pint.derived_quantities as dq\n",
    "import table_utils as tu\n",
    "from scipy.special import fdtrc\n",
    "\n",
    "pint.logging.setup(level=\"ERROR\")"
   ]
  },
  {
   "cell_type": "markdown",
   "id": "71526423",
   "metadata": {},
   "source": [
    "**J1816+4510 eclipsing calculations**\n",
    "\n",
    "For J1816+4510, we see additional delays around superior conjuntion at 820 MHz, probably due to additional electron content around the companion that the signal must travel through when the pulsar eclipses. First I want to figure out the DM bump corresponding to this delay (roughly 800 microseconds)."
   ]
  },
  {
   "cell_type": "code",
   "execution_count": 2,
   "id": "1a1312ad",
   "metadata": {},
   "outputs": [],
   "source": [
    "def SC_dDM(dt,freq):\n",
    "    \"\"\" Calculate additional column density at superior conjunction (given additional timing delay)\n",
    "    \n",
    "    Parameters\n",
    "    ==========\n",
    "    dt: quantity, additional dispersive timing delay due to plasma around companion\n",
    "    freq: quantity, observing frequency of measured delay\n",
    "    \n",
    "    Returns\n",
    "    =======\n",
    "    dDM_sup: quantity, additional column density at superior conjunction (cm^-2)\n",
    "    \"\"\"\n",
    "    Dconst = 4.148808e3*(1e6*u.Hz)**2*u.cm**3*u.s*u.pc**-1 # HBOPA, eqn. 4.6\n",
    "    dDM_sup = (dt*freq**2/Dconst).to(u.pc*u.cm**-3) # extra DM corresponding to delay\n",
    "    return dDM_sup.to(u.cm**-2)"
   ]
  },
  {
   "cell_type": "markdown",
   "id": "0ef12cde",
   "metadata": {},
   "source": [
    "To compare to a similar calculation in Freire (2005; ASPCS, p. 407), I convert DM (column density) to 1/cm^2. The result is comparable to the column density of J2051-0827 (Stappers et al. 2001)."
   ]
  },
  {
   "cell_type": "code",
   "execution_count": 3,
   "id": "a2b21392",
   "metadata": {},
   "outputs": [
    {
     "name": "stdout",
     "output_type": "stream",
     "text": [
      "4.0007821153349005e+17 1 / cm2\n",
      "0.12965651820956764 pc / cm3\n"
     ]
    }
   ],
   "source": [
    "dDM_1816 = SC_dDM(800.0*1e-6*u.s,820.0*(1e6*u.Hz))\n",
    "print(dDM_1816)\n",
    "print(dDM_1816.to(u.pc*u.cm**-3))"
   ]
  },
  {
   "cell_type": "markdown",
   "id": "fc776f1d",
   "metadata": {},
   "source": [
    "How big might the companion be based on the duration of the eclipse? Assume inclination angle of 90 deg for now, and consider an eclipse that lasts some fraction of an orbit (based on gap between ingress-egress)."
   ]
  },
  {
   "cell_type": "code",
   "execution_count": 4,
   "id": "2b57256f",
   "metadata": {},
   "outputs": [
    {
     "name": "stdout",
     "output_type": "stream",
     "text": [
      "J1816+4510 is obscured for 4% of an orbit...\n",
      "Nominal pulsar-companion separation: 2.6041 Rsun\n",
      "Companion's estimated plasma radius: 0.3264 Rsun (227061 km)\n"
     ]
    }
   ],
   "source": [
    "def psr_comp_separation(model,inc=90.0*u.deg,mp=1.4*u.solMass):\n",
    "    \"\"\" Calculate separation between pulsar and binary companion\n",
    "    \n",
    "    Parameters\n",
    "    ==========\n",
    "    model: object, PINT timing model\n",
    "    inc: quantity, assumed orbital inclination (optional, default = 90 deg)\n",
    "    mp: quantity, assumed pulsar mass (optional, default = 1.4 Msun)\n",
    "    \"\"\"\n",
    "    mc = dq.companion_mass(mo['PB'].quantity, mo['A1'].quantity, i=inc, mp=mp)\n",
    "    return (mo['A1'].quantity/np.sin(inc)).to(u.R_sun)*(1+(mp/mc))\n",
    "\n",
    "def Rplasma(a, frac_eclipse):\n",
    "    \"\"\" Estimate companion (plasma?) radius based on extent of eclipse\n",
    "    \n",
    "    Parameters\n",
    "    ==========\n",
    "    a: quantity, separation between the pulsar and companion\n",
    "    frac_eclipse: float, fraction of the orbit where pulsar signal is obscured\n",
    "    \n",
    "    Returns\n",
    "    =======\n",
    "    Rplasma: quantity, companion's plasma(?) radius (Solar Radii)\n",
    "    \"\"\"\n",
    "    print(f\"Nominal pulsar-companion separation: {a.value:.4f} Rsun\")\n",
    "    ing2sup = frac_eclipse*180.0*u.deg # angle from ingress to superior conjunction\n",
    "    Rplasma = a*np.sin(ing2sup)\n",
    "    print(f\"Companion's estimated plasma radius: {Rplasma.value:.4f} Rsun ({Rplasma.to(u.km).value:.0f} km)\")\n",
    "    return Rplasma\n",
    "\n",
    "frac_eclipse = 0.04\n",
    "\n",
    "par_path = f\"data/J1816+4510_eclipseDMX.par\"\n",
    "tim_path = f\"data/J1816+4510_eclipseDMX.tim\"\n",
    "mo = model.get_model(par_path)\n",
    "to = toa.get_TOAs(tim_path,model=mo)\n",
    "fo = pint.fitter.WLSFitter(to,mo)\n",
    "x = fo.fit_toas()\n",
    "a = psr_comp_separation(mo, mp=1.64*u.solMass) # using lower limit on M_psr from Clark et al. (2023)\n",
    "print(f\"J1816+4510 is obscured for {frac_eclipse:.0%} of an orbit...\")\n",
    "rp = Rplasma(a,frac_eclipse)"
   ]
  },
  {
   "cell_type": "markdown",
   "id": "b9d3e6fb",
   "metadata": {},
   "source": [
    "I can use the estimated companion's plasma radius to get some idea of the electron density near the companion (using the additional column density around superior conjunction). This is probably ~order of magnitude."
   ]
  },
  {
   "cell_type": "code",
   "execution_count": 6,
   "id": "60eaf49d",
   "metadata": {},
   "outputs": [
    {
     "data": {
      "text/latex": [
       "$17619863 \\; \\mathrm{\\frac{1}{cm^{3}}}$"
      ],
      "text/plain": [
       "<Quantity 17619863.47492632 1 / cm3>"
      ]
     },
     "execution_count": 6,
     "metadata": {},
     "output_type": "execute_result"
    }
   ],
   "source": [
    "(dDM_1816/rp).to(u.cm**-3)"
   ]
  },
  {
   "cell_type": "markdown",
   "id": "2c127864",
   "metadata": {},
   "source": [
    "Next, I want to use the equation from Eggleton et al. (1983) to estimate the size of the companion's Roche Lobe, and thus, the path length the pulsar might be encountering around superior conjunction. Do this for a few possible inclination angles and assume pulsar mass is 1.64 solar masses."
   ]
  },
  {
   "cell_type": "code",
   "execution_count": 11,
   "id": "4e5bc1fe",
   "metadata": {},
   "outputs": [
    {
     "name": "stdout",
     "output_type": "stream",
     "text": [
      "  i = 90.0 deg; mc = 0.1792 Msun; q = 0.1093; a = 2.6041 Rsun; RL = 0.55252 Rsun; RL/Rp = 1.69\n",
      "  i = 85.0 deg; mc = 0.1800 Msun; q = 0.1097; a = 2.6044 Rsun; RL = 0.55324 Rsun; RL/Rp = 1.70\n",
      "  i = 80.0 deg; mc = 0.1822 Msun; q = 0.1111; a = 2.6055 Rsun; RL = 0.55544 Rsun; RL/Rp = 1.70\n",
      "  i = 75.0 deg; mc = 0.1860 Msun; q = 0.1134; a = 2.6073 Rsun; RL = 0.55917 Rsun; RL/Rp = 1.71\n"
     ]
    }
   ],
   "source": [
    "def RL_Eggleton(a,mc,mp=1.4*u.solMass):\n",
    "    \"\"\" Calculate Roche Lobe size in solar radii (see Eggleton 1983)\n",
    "    \n",
    "    Parameters\n",
    "    ==========\n",
    "    a: quantity, separation between the pulsar and companion\n",
    "    mc: quantity, companion mass (solar masses)\n",
    "    mp: pulsar mass (default: 1.4 Msun), optional\n",
    "    \n",
    "    Returns\n",
    "    =======\n",
    "    R_L: quantity, Roche Lobe size (solar radii)\n",
    "    \"\"\"\n",
    "    q = mc/mp\n",
    "    R_L = 0.49*a*q**(2.0/3)/(0.6*q**(2.0/3)+np.log(1.0+q**(1.0/3)))\n",
    "    return R_L.to(u.R_sun)\n",
    "\n",
    "incs = [90.0,85.0,80.0,75.0] # trial inclination angles, degrees\n",
    "\n",
    "mo = model.get_model(par_path)\n",
    "to = toa.get_TOAs(tim_path,model=mo)\n",
    "fo = pint.fitter.WLSFitter(to,mo)\n",
    "x = fo.fit_toas()\n",
    "\n",
    "for inc in incs:\n",
    "    mp = 1.64*u.M_sun\n",
    "    a = psr_comp_separation(mo,inc=inc*u.deg,mp=mp)\n",
    "    mc = dq.companion_mass(mo['PB'].quantity, mo['A1'].quantity, i=inc*u.deg, mp=mp)\n",
    "    R_L = RL_Eggleton(a,mc,mp=mp)\n",
    "    RlRp_ratio = R_L/rp\n",
    "\n",
    "    mc_str = f\"{mc.value:.4f}\"\n",
    "    q_str = f\"{mc/mp:.4f}\"\n",
    "    a_str = f\"{a.value:.4f}\"\n",
    "    rl_str = f\"{R_L.value:.5f}\"\n",
    "    rlrp_str = f\"{RlRp_ratio:.2f}\"\n",
    "\n",
    "    print(f\"  i = {inc} deg; mc = {mc_str} Msun; q = {q_str}; a = {a_str} Rsun; RL = {rl_str} Rsun; RL/Rp = {rlrp_str}\")"
   ]
  },
  {
   "cell_type": "markdown",
   "id": "8a05e293",
   "metadata": {},
   "source": [
    "Therefore (unlike the systems considered in Freire 2005), the Roche Lobe (R_L above) is somewhat larger than the size of the plasma cloud (R_p), so matter responsible for increased dispersive delays is bound to the companion."
   ]
  },
  {
   "cell_type": "markdown",
   "id": "4cf167fb",
   "metadata": {},
   "source": [
    "**Optical Constraints Calculations**\n",
    "\n",
    "I follow a procedure similar to that described in Section 7 of Lynch et al. (2018). For non-WD companions, I include a couple functions to convert magnitude limits to limits on effective temperature, but I'm not sure this is quite good enough since Covey 2007 (where I establish spectral types) doesn't include bolometric corrections."
   ]
  },
  {
   "cell_type": "code",
   "execution_count": null,
   "id": "febb2402",
   "metadata": {},
   "outputs": [],
   "source": [
    "def MagLim_to_Lum(Mlim):\n",
    "    \"\"\" Convert magnitude limit to luminosity\n",
    "    \n",
    "    Parameter\n",
    "    =========\n",
    "    Mlim (float): limiting magnitude(s)\n",
    "    \n",
    "    Returns\n",
    "    =======\n",
    "    Llim (quantity): luminosity limit(s), solar luminosity\n",
    "    \"\"\"\n",
    "    Msun = 4.74\n",
    "    Llim=u.solLum*10**((Msun-Mlim)/2.5)\n",
    "    return Llim.decompose()\n",
    "\n",
    "def TeffLim(Rlim,Llim):\n",
    "    \"\"\" Limit effective temp based on radius, luminosity\n",
    "    \n",
    "    Parameters\n",
    "    ==========\n",
    "    Rlim (quantity): estimate of stellar radius, solar radii\n",
    "    Llim (quantity): estimate of stellar luminosity, solar luminosity\n",
    "    \n",
    "    Returns\n",
    "    =======\n",
    "    Tlim (quantity): upper limit on Teff, Kelvin\n",
    "    \"\"\"\n",
    "    from astropy.units.cds import c\n",
    "    sbc = 5.6704e-8*u.W*u.meter**-2*u.K**-4\n",
    "    Tlim=(Llim/(4*np.pi*Rlim**2*sbc))**0.25\n",
    "    return Tlim.decompose()"
   ]
  },
  {
   "cell_type": "code",
   "execution_count": null,
   "id": "a5ebf7c7",
   "metadata": {},
   "outputs": [],
   "source": [
    "# extinction from http://argonaut.skymaps.info (see Green et al. 2015)\n",
    "# these take distance (largest NE vs. YMW) into account\n",
    "EBmV_dict = {\n",
    "    \"J0742+4110\":0.05,\n",
    "    \"J1045-0436\":0.03,\n",
    "    \"J1221-0633\":0.03,\n",
    "    \"J1317-0157\":0.01,\n",
    "    \"J2022+2534\":0.23,\n",
    "    \"J2039-3616\":0.0, # justification to ignore reddening?\n",
    "}\n",
    "\n",
    "# Read Covey 2007 table (assume spectral classification V - main sequence)\n",
    "with open('data/covey07.txt') as covey:\n",
    "   covey_info = covey.readlines()\n",
    "\n",
    "SpectType_griz_Dict = {}\n",
    "for ci in covey_info:\n",
    "    ci_list = ci.strip().split(' ')\n",
    "    spect_type = ci_list[0]\n",
    "    MJ = float(ci_list[-1])\n",
    "    z = float(ci_list[5])+MJ\n",
    "    i = float(ci_list[4])+z\n",
    "    r = float(ci_list[3])+i\n",
    "    g = float(ci_list[2])+r\n",
    "    #print(f\"{spect_type:4s}: {g:.2f}, {r:.2f}, {i:.2f}, {z:.2f}\")\n",
    "    \n",
    "    SpectType_griz_Dict[spect_type] = [g,r,i,z]\n",
    "\n",
    "# reddening in PS1 bands from Schlafly & Finkbeiner 2011, Table 6\n",
    "# grizy\n",
    "ps1_redden=np.array([3.172,2.271,1.682,1.322]) # ,1.087]) y not constraining (and not common to skymapper)\n",
    "\n",
    "# assume no detection.  Typical PS1 griz stack limits are:\n",
    "ps1_lims = np.array([23.3,23.2,23.1,22.3]) # ,21.4])\n",
    "# Skymapper DR2 stack lims (griz); Onken et al 2019\n",
    "sm_lims = np.array([22.0,22.0,21.0,20.0])\n",
    "\n",
    "for psr in EBmV_dict.keys():\n",
    "    par_path = f\"data/{psr}_swiggum+22.par\"\n",
    "    mo = model.get_model(par_path)\n",
    "    \n",
    "    mp = 1.4*u.M_sun\n",
    "    mcmed = dq.companion_mass(mo['PB'].quantity, mo['A1'].quantity, i=60.0*u.deg, mp=mp)\n",
    "    mcmin = dq.companion_mass(mo['PB'].quantity, mo['A1'].quantity, i=90.0*u.deg, mp=mp)\n",
    "    \n",
    "    gcoord = mo.coords_as_GAL()\n",
    "    dmdist_ne, dmdist_ymw = tu.get_dmdists(gcoord,mo['DM'])\n",
    "    \n",
    "    if psr == \"J1317-0157\":\n",
    "        dmdist = dmdist_ne # ymw distance estimate maxed out\n",
    "    else:\n",
    "        dmdist = max([dmdist_ne,dmdist_ymw])\n",
    "    \n",
    "    distance_mod = 5*np.log10((dmdist*u.kpc/(10.0*u.pc)).decompose())\n",
    "    if psr == \"J2039-3616\":\n",
    "        print(f\"{psr}: {mcmin.value:.3f}-{mcmed.value:.3f} Msun\")\n",
    "        print(sm_lims-distance_mod)\n",
    "    else:\n",
    "        print(f\"{psr}: {mcmin.value:.3f}-{mcmed.value:.3f} Msun\")\n",
    "        griz_lims = ps1_lims-EBmV_dict[psr]*ps1_redden-distance_mod # de-reddened limits\n",
    "        print(griz_lims)\n",
    "        if psr != \"J1045-0436\":\n",
    "            a = (mo['A1'].quantity * np.sin(60.0*u.deg)).to(u.R_sun) # assume i = 60 deg\n",
    "            mp = 1.4*u.M_sun\n",
    "            mc = dq.companion_mass(mo['PB'].quantity, mo['A1'].quantity, i=60.0*u.deg, mp=mp)\n",
    "            R_L = RL_Eggleton(a,mc,mp=mp)\n",
    "            print(f\"Radius (RL) estimate: {R_L}\") # why is this important?\n",
    "            \n",
    "            # check griz_lims against SpectType_griz_Dict\n",
    "            # g=0, r=1, i=2, z=3\n",
    "            # g is always the most limiting, so range(1) rather than range(3)\n",
    "            for band_i in range(1): \n",
    "                for stk in SpectType_griz_Dict.keys():\n",
    "                    if griz_lims[band_i] < SpectType_griz_Dict[stk][band_i]:\n",
    "                        print(f\"{['g','r','i','z'][band_i]} spectral type limit: {stk} ({griz_lims[band_i]}<{SpectType_griz_Dict[stk][band_i]})\")\n",
    "                        Tlim = TeffLim(R_L,MagLim_to_Lum(SpectType_griz_Dict[stk][band_i]))\n",
    "                        print(f\"Teff limit?: {Tlim.decompose()}\")\n",
    "                        break\n",
    "        \n",
    "    print(dmdist,distance_mod)"
   ]
  },
  {
   "cell_type": "markdown",
   "id": "e7eab162",
   "metadata": {},
   "source": [
    "I think the issue with temperature constraints reported here for M-stars is that they're based on band-specific magnitude to luminosity limits. What I want to do instead is, once I've determined the correct band/spectral type to do the limiting, use the bolometric correction (??) to convert the band-limiting (g-band across the board it looks like) magnitude to a bolometric magnitude, convert to luminosity, and THEN set a Teff limit with R_L. For now, I'll just grab estimates for Teff from the web associated with M6, M5, M3, M1. These limits and spectral types assume main sequence stars (V) so I think all of this is already really uncertain.\n",
    "\n",
    "Teff for M6 = 3100 K, M5 = 3200 K, M3 = 3500 K, M1 = 3700 K.\n",
    "Grabbed these from https://sites.uni.edu/morgans/astro/course/Notes/section2/spectraltemps.html"
   ]
  },
  {
   "cell_type": "code",
   "execution_count": null,
   "id": "99d39d4b",
   "metadata": {},
   "outputs": [],
   "source": [
    "import matplotlib.pyplot as plt\n",
    "from astropy.units import cds\n",
    "\n",
    "# Didn't end up using Istrate 2016 radius correction\n",
    "r_i16,teff_i16,m_i16,xxx,age_i16=np.loadtxt(\"data/radius_teff_mass.txt\",dtype='float',unpack=True)\n",
    "#set(m_i16) # which WD masses are modeled here?\n",
    "inds_0p2=np.where(m_i16==0.1961)\n",
    "\n",
    "# read in example Bergeron 2011 m=0.2 Msun table (He; https://www.astro.umontreal.ca/~bergeron/CoolingModels/)\n",
    "bergdata=np.loadtxt('data/berg0.2.txt')\n",
    "bteff = bergdata[:,0]\n",
    "blogg = bergdata[:,1]\n",
    "ber_radii_m=(cds.G*0.2*u.solMass/(10**blogg*u.meter/u.s**2)).decompose().value**0.5\n",
    "\n",
    "m_kg = (m*u.solMass).to(u.kg)\n",
    "r_m = (r_i16[inds]*u.solRad).to(u.meter)\n",
    "logg = np.log10((cds.G*m_kg/r_m**2).decompose().value)\n",
    "\n",
    "plt.plot(logg,teff_i16[inds]*1e3,label='Istrate 2016')\n",
    "plt.plot(blogg,bteff,label='Bergeron 2011')\n",
    "plt.legend()\n",
    "\n",
    "#plt.plot(np.log10(r_m.value),teff_i16[inds]*1e3,label='Istrate 2016')\n",
    "#plt.plot(np.log10(ber_radii_m),bteff,label='Bergeron 2011')\n",
    "#plt.legend()"
   ]
  },
  {
   "cell_type": "code",
   "execution_count": null,
   "id": "c0108396",
   "metadata": {},
   "outputs": [],
   "source": [
    "# Implement Mamajek values instead (include BC, but how to get griz from colors provided?)\n",
    "with open('data/mamajek.txt') as mamajek:\n",
    "    mj_data = mamajek.readlines()"
   ]
  },
  {
   "cell_type": "code",
   "execution_count": null,
   "id": "3feb0c0a",
   "metadata": {},
   "outputs": [],
   "source": [
    "for mj in mj_data:\n",
    "    if mj.startswith(\"#\"):\n",
    "        continue\n",
    "    print(mj)"
   ]
  },
  {
   "cell_type": "code",
   "execution_count": null,
   "id": "b87fe64a",
   "metadata": {},
   "outputs": [],
   "source": [
    "def orbital_parallax(i, e, om)"
   ]
  },
  {
   "cell_type": "markdown",
   "id": "86314ccf",
   "metadata": {},
   "source": [
    "F-tests for parameter inclusion in timing solutions.\n",
    "\n",
    "Subscripts \"1\" are without the parameter in question, \"2\" includes the parameter."
   ]
  },
  {
   "cell_type": "code",
   "execution_count": null,
   "id": "03832611",
   "metadata": {},
   "outputs": [],
   "source": [
    "def ftest(chi2_1, chi2_2, dof_1, dof_2):\n",
    "    delta_chi2 = chi2_1 - chi2_2\n",
    "    delta_dof = dof_1 - dof_2\n",
    "    redchi2_2 = chi2_2 / dof_2\n",
    "    F = float((delta_chi2 / delta_dof) / redchi2_2) # F-statistic\n",
    "    ft = fdtrc(delta_dof, dof_2, F) # probability of null hypothesis (?)\n",
    "    return ft"
   ]
  },
  {
   "cell_type": "markdown",
   "id": "cd5cf0cb",
   "metadata": {},
   "source": [
    "F-test for PSR J0636+5128 PX."
   ]
  },
  {
   "cell_type": "code",
   "execution_count": null,
   "id": "ebf49be2",
   "metadata": {},
   "outputs": [],
   "source": [
    "chi2_1 = 1228.02\n",
    "chi2_2 = 1226.18\n",
    "dof_1 = 827-52\n",
    "dof_2 = 827-53\n",
    "ft = ftest(chi2_1, chi2_2, dof_1, dof_2)\n",
    "print(ft)"
   ]
  },
  {
   "cell_type": "markdown",
   "id": "ce093647",
   "metadata": {},
   "source": [
    "We want this to be below ~0.0027 or so. PX is not significant for J0636."
   ]
  },
  {
   "cell_type": "markdown",
   "id": "41daccb1",
   "metadata": {},
   "source": [
    "F-test for PSR J0214+5222 XDOT."
   ]
  },
  {
   "cell_type": "code",
   "execution_count": null,
   "id": "c9b89a11",
   "metadata": {},
   "outputs": [],
   "source": [
    "chi2_1 = 916.93\n",
    "chi2_2 = 914.19\n",
    "dof_1 = 902-15\n",
    "dof_2 = 902-16\n",
    "ft = ftest(chi2_1, chi2_2, dof_1, dof_2)\n",
    "print(ft)"
   ]
  },
  {
   "cell_type": "markdown",
   "id": "3035a2c9",
   "metadata": {},
   "source": [
    "We want this to be below ~0.0027 or so. XDOT is not significant for J0214."
   ]
  },
  {
   "cell_type": "markdown",
   "id": "d0624285",
   "metadata": {},
   "source": [
    "F-test for PSR J0214+5222 OMDOT."
   ]
  },
  {
   "cell_type": "code",
   "execution_count": null,
   "id": "38ce8aa4",
   "metadata": {},
   "outputs": [],
   "source": [
    "chi2_1 = 916.93\n",
    "chi2_2 = 912.8\n",
    "dof_1 = 902-15\n",
    "dof_2 = 902-16\n",
    "ft = ftest(chi2_1, chi2_2, dof_1, dof_2)\n",
    "print(ft)"
   ]
  },
  {
   "cell_type": "markdown",
   "id": "aef0087c",
   "metadata": {},
   "source": [
    "We want this to be below ~0.0027 or so. OMDOT is not significant for J0214."
   ]
  },
  {
   "cell_type": "markdown",
   "id": "ba31ef2c",
   "metadata": {},
   "source": [
    "F-test for PSR J0214+5222 XDOT & OMDOT together."
   ]
  },
  {
   "cell_type": "code",
   "execution_count": null,
   "id": "fd4df187",
   "metadata": {},
   "outputs": [],
   "source": [
    "chi2_1 = 916.93\n",
    "chi2_2 = 908.6\n",
    "dof_1 = 902-15\n",
    "dof_2 = 902-17\n",
    "ft = ftest(chi2_1, chi2_2, dof_1, dof_2)\n",
    "print(ft)"
   ]
  },
  {
   "cell_type": "markdown",
   "id": "313e6efe",
   "metadata": {},
   "source": [
    "We want this to be below ~0.0027 or so. Taken together, XDOT and OMDOT are not significant for J0214."
   ]
  },
  {
   "cell_type": "markdown",
   "id": "0025e881",
   "metadata": {},
   "source": [
    "F-test for PSR J1816+4510 F2"
   ]
  },
  {
   "cell_type": "code",
   "execution_count": null,
   "id": "0777c6be",
   "metadata": {},
   "outputs": [],
   "source": [
    "chi2_1 = 2047.67\n",
    "chi2_2 = 1829.15\n",
    "dof_1 = 749-15\n",
    "dof_2 = 749-16\n",
    "ft = ftest(chi2_1, chi2_2, dof_1, dof_2)\n",
    "print(ft)"
   ]
  },
  {
   "cell_type": "markdown",
   "id": "8816acc3",
   "metadata": {},
   "source": [
    "\\< 0.0027; F2 is significant for J1816."
   ]
  },
  {
   "cell_type": "markdown",
   "id": "821f5936",
   "metadata": {},
   "source": [
    "F-test for PSR J1816+4510 FB1 (adding to F2)"
   ]
  },
  {
   "cell_type": "code",
   "execution_count": null,
   "id": "a9e3ae54",
   "metadata": {},
   "outputs": [],
   "source": [
    "chi2_1 = 1829.15\n",
    "chi2_2 = 1800.46\n",
    "dof_1 = 749-16\n",
    "dof_2 = 749-17\n",
    "ft = ftest(chi2_1, chi2_2, dof_1, dof_2)\n",
    "print(ft)"
   ]
  },
  {
   "cell_type": "markdown",
   "id": "bf03d984",
   "metadata": {},
   "source": [
    "\\< 0.0027; FB1 is significant for J1816 when F2 is fit beforehand (it's not when fit by itself)."
   ]
  },
  {
   "cell_type": "markdown",
   "id": "25d0d417",
   "metadata": {},
   "source": [
    "F-test for PSR J1816+4510 FB2 (adding to F2+FB1)"
   ]
  },
  {
   "cell_type": "code",
   "execution_count": null,
   "id": "dea85052",
   "metadata": {},
   "outputs": [],
   "source": [
    "chi2_1 = 1800.46\n",
    "chi2_2 = 1786.65\n",
    "dof_1 = 749-17\n",
    "dof_2 = 749-18\n",
    "ft = ftest(chi2_1, chi2_2, dof_1, dof_2)\n",
    "print(ft)"
   ]
  },
  {
   "cell_type": "markdown",
   "id": "c6eb8833",
   "metadata": {},
   "source": [
    "\\> 0.0027; FB2 is not significant for J1816."
   ]
  },
  {
   "cell_type": "markdown",
   "id": "e6aed17c",
   "metadata": {},
   "source": [
    "F-test for PSR J1816+4510 XDOT (adding to F2+FB1)"
   ]
  },
  {
   "cell_type": "code",
   "execution_count": null,
   "id": "474b66b3",
   "metadata": {},
   "outputs": [],
   "source": [
    "chi2_1 = 1800.46\n",
    "chi2_2 = 1789.12\n",
    "dof_1 = 749-17\n",
    "dof_2 = 749-18\n",
    "ft = ftest(chi2_1, chi2_2, dof_1, dof_2)\n",
    "print(ft)"
   ]
  },
  {
   "cell_type": "markdown",
   "id": "80a04449",
   "metadata": {},
   "source": [
    "\\> 0.0027; XDOT is not significant for J1816."
   ]
  },
  {
   "cell_type": "markdown",
   "id": "e2d7f9d5",
   "metadata": {},
   "source": [
    "F-test for PSR J1816+4510 XDOT (adding to F2 only)"
   ]
  },
  {
   "cell_type": "code",
   "execution_count": null,
   "id": "259384ac",
   "metadata": {},
   "outputs": [],
   "source": [
    "chi2_1 = 1829.15\n",
    "chi2_2 = 1820.37\n",
    "dof_1 = 749-16\n",
    "dof_2 = 749-17\n",
    "ft = ftest(chi2_1, chi2_2, dof_1, dof_2)\n",
    "print(ft)"
   ]
  },
  {
   "cell_type": "markdown",
   "id": "1451adf7",
   "metadata": {},
   "source": [
    "\\> 0.0027; XDOT is not significant for J1816."
   ]
  },
  {
   "cell_type": "markdown",
   "id": "86c67943",
   "metadata": {},
   "source": [
    "F-test for PSR J1816+4510 XDOT (only extra parameter, no F2 or FB1)"
   ]
  },
  {
   "cell_type": "code",
   "execution_count": null,
   "id": "9be21626",
   "metadata": {},
   "outputs": [],
   "source": [
    "chi2_1 = 2047.67\n",
    "chi2_2 = 1975.85\n",
    "dof_1 = 749-15\n",
    "dof_2 = 749-16\n",
    "ft = ftest(chi2_1, chi2_2, dof_1, dof_2)\n",
    "print(ft)"
   ]
  },
  {
   "cell_type": "markdown",
   "id": "400e5e8f",
   "metadata": {},
   "source": [
    "\\> 0.0027; XDOT is significant for J1816."
   ]
  },
  {
   "cell_type": "markdown",
   "id": "c95eca7a",
   "metadata": {},
   "source": [
    "F-test for PSR J1816+4510 F3 (adding to F2)"
   ]
  },
  {
   "cell_type": "code",
   "execution_count": null,
   "id": "d796dbeb",
   "metadata": {},
   "outputs": [],
   "source": [
    "chi2_1 = 1829.15\n",
    "chi2_2 = 1820.94\n",
    "dof_1 = 749-16\n",
    "dof_2 = 749-17\n",
    "ft = ftest(chi2_1, chi2_2, dof_1, dof_2)\n",
    "print(ft)"
   ]
  },
  {
   "cell_type": "markdown",
   "id": "e44a8f62",
   "metadata": {},
   "source": [
    "\\> 0.0027; XDOT is significant for J1816."
   ]
  },
  {
   "cell_type": "markdown",
   "id": "eaafd2e2",
   "metadata": {},
   "source": [
    "F-test for PSR J1239+3239 PMDEC"
   ]
  },
  {
   "cell_type": "code",
   "execution_count": null,
   "id": "932d6a00",
   "metadata": {},
   "outputs": [],
   "source": [
    "chi2_1 = 346.7\n",
    "chi2_2 = 339.07\n",
    "dof_1 = 283-12\n",
    "dof_2 = 283-13\n",
    "ft = ftest(chi2_1, chi2_2, dof_1, dof_2)\n",
    "print(ft)"
   ]
  },
  {
   "cell_type": "markdown",
   "id": "20f4198a",
   "metadata": {},
   "source": [
    "We want this to be below ~0.0027 or so. PMDEC is not significant for J1239."
   ]
  },
  {
   "cell_type": "markdown",
   "id": "9d1dde9d",
   "metadata": {},
   "source": [
    "F-test for PSR J1239+3239 PBDOT"
   ]
  },
  {
   "cell_type": "code",
   "execution_count": null,
   "id": "b837e5dc",
   "metadata": {},
   "outputs": [],
   "source": [
    "chi2_1 = 346.7\n",
    "chi2_2 = 341.23\n",
    "dof_1 = 283-12\n",
    "dof_2 = 283-13\n",
    "ft = ftest(chi2_1, chi2_2, dof_1, dof_2)\n",
    "print(ft)"
   ]
  },
  {
   "cell_type": "markdown",
   "id": "587d7e6d",
   "metadata": {},
   "source": [
    "We want this to be below ~0.0027 or so. PBDOT is not significant for J1239."
   ]
  },
  {
   "cell_type": "markdown",
   "id": "f719cdef",
   "metadata": {},
   "source": [
    "F-test for PSR J1239+3239 PMDEC & PBDOT"
   ]
  },
  {
   "cell_type": "code",
   "execution_count": null,
   "id": "350dd994",
   "metadata": {},
   "outputs": [],
   "source": [
    "chi2_1 = 346.7\n",
    "chi2_2 = 332.17\n",
    "dof_1 = 283-12\n",
    "dof_2 = 283-14\n",
    "ft = ftest(chi2_1, chi2_2, dof_1, dof_2)\n",
    "print(ft)"
   ]
  },
  {
   "cell_type": "markdown",
   "id": "920399c3",
   "metadata": {},
   "source": [
    "We want this to be below ~0.0027 or so. It's closer, but PMDEC and PBDOT are not significant for J1239."
   ]
  },
  {
   "cell_type": "code",
   "execution_count": null,
   "id": "074e4421",
   "metadata": {},
   "outputs": [],
   "source": []
  }
 ],
 "metadata": {
  "kernelspec": {
   "display_name": "Python 3 (ipykernel)",
   "language": "python",
   "name": "python3"
  },
  "language_info": {
   "codemirror_mode": {
    "name": "ipython",
    "version": 3
   },
   "file_extension": ".py",
   "mimetype": "text/x-python",
   "name": "python",
   "nbconvert_exporter": "python",
   "pygments_lexer": "ipython3",
   "version": "3.8.12"
  }
 },
 "nbformat": 4,
 "nbformat_minor": 5
}
