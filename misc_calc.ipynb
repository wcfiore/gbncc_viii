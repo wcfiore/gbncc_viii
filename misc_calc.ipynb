{
 "cells": [
  {
   "cell_type": "code",
   "execution_count": 1,
   "id": "5ef83e76",
   "metadata": {},
   "outputs": [
    {
     "data": {
      "text/plain": [
       "1"
      ]
     },
     "execution_count": 1,
     "metadata": {},
     "output_type": "execute_result"
    }
   ],
   "source": [
    "import pint.models as model\n",
    "import pint.toa as toa\n",
    "import pint.logging\n",
    "import pint.fitter\n",
    "from pint.modelutils import model_ecliptic_to_equatorial\n",
    "import numpy as np\n",
    "import astropy.units as u\n",
    "import astropy.constants as c\n",
    "import pint.derived_quantities as dq\n",
    "import table_utils as tu\n",
    "from scipy.special import fdtrc\n",
    "import matplotlib.pyplot as plt\n",
    "\n",
    "import matplotlib as mpl\n",
    "plt.rc('font',**{'family':'serif','serif':['Computer Modern Roman']})\n",
    "params = {'text.usetex'       : True,\n",
    "          'axes.unicode_minus': True}\n",
    "mpl.rcParams.update(params)\n",
    "\n",
    "pint.logging.setup(level=\"ERROR\")"
   ]
  },
  {
   "cell_type": "markdown",
   "id": "aaf62ce1",
   "metadata": {},
   "source": [
    "**J1816+4510 eclipsing calculations**\n",
    "\n",
    "For J1816+4510, we see additional delays around superior conjuntion at 820 MHz, probably due to additional electron content around the companion that the signal must travel through when the pulsar eclipses. First I want to figure out the DM bump corresponding to this delay (roughly 800 microseconds)."
   ]
  },
  {
   "cell_type": "code",
   "execution_count": 2,
   "id": "d393b34d",
   "metadata": {},
   "outputs": [],
   "source": [
    "def SC_dDM(dt,freq):\n",
    "    \"\"\" Calculate additional column density at superior conjunction (given additional timing delay)\n",
    "    \n",
    "    Parameters\n",
    "    ==========\n",
    "    dt: quantity, additional dispersive timing delay due to plasma around companion\n",
    "    freq: quantity, observing frequency of measured delay\n",
    "    \n",
    "    Returns\n",
    "    =======\n",
    "    dDM_sup: quantity, additional column density at superior conjunction (cm^-2)\n",
    "    \"\"\"\n",
    "    Dconst = 4.148808e3*(1e6*u.Hz)**2*u.cm**3*u.s*u.pc**-1 # HBOPA, eqn. 4.6\n",
    "    dDM_sup = (dt*freq**2/Dconst).to(u.pc*u.cm**-3) # extra DM corresponding to delay\n",
    "    return dDM_sup.to(u.cm**-2)"
   ]
  },
  {
   "cell_type": "markdown",
   "id": "238deb48",
   "metadata": {},
   "source": [
    "To compare to a similar calculation in Freire (2005; ASPCS, p. 407), I convert DM (column density) to 1/cm^2. The result is comparable to the column density of J2051-0827 (Stappers et al. 2001)."
   ]
  },
  {
   "cell_type": "code",
   "execution_count": 3,
   "id": "3627b99b",
   "metadata": {},
   "outputs": [
    {
     "name": "stdout",
     "output_type": "stream",
     "text": [
      "4.0007821153349005e+17 1 / cm2\n",
      "0.12965651820956764 pc / cm3\n"
     ]
    }
   ],
   "source": [
    "dDM_1816 = SC_dDM(800.0*1e-6*u.s,820.0*(1e6*u.Hz))\n",
    "print(dDM_1816)\n",
    "print(dDM_1816.to(u.pc*u.cm**-3))"
   ]
  },
  {
   "cell_type": "markdown",
   "id": "2d8bb2b2",
   "metadata": {},
   "source": [
    "How big might the companion be based on the duration of the eclipse? Assume inclination angle of 90 deg for now, and consider an eclipse that lasts some fraction of an orbit (based on gap between ingress-egress)."
   ]
  },
  {
   "cell_type": "code",
   "execution_count": 4,
   "id": "56fa804d",
   "metadata": {},
   "outputs": [
    {
     "name": "stdout",
     "output_type": "stream",
     "text": [
      "J1816+4510 is obscured for 4% of an orbit...\n",
      "Nominal pulsar-companion separation: 2.6041 Rsun\n",
      "Companion's estimated plasma radius: 0.3264 Rsun (227061 km)\n"
     ]
    }
   ],
   "source": [
    "def psr_comp_separation(model,inc=90.0*u.deg,mp=1.4*u.solMass):\n",
    "    \"\"\" Calculate separation between pulsar and binary companion\n",
    "    \n",
    "    Parameters\n",
    "    ==========\n",
    "    model: object, PINT timing model\n",
    "    inc: quantity, assumed orbital inclination (optional, default = 90 deg)\n",
    "    mp: quantity, assumed pulsar mass (optional, default = 1.4 Msun)\n",
    "    \"\"\"\n",
    "    mc = dq.companion_mass(mo['PB'].quantity, mo['A1'].quantity, i=inc, mp=mp)\n",
    "    return (mo['A1'].quantity/np.sin(inc)).to(u.R_sun)*(1+(mp/mc))\n",
    "\n",
    "def Rplasma(a, frac_eclipse):\n",
    "    \"\"\" Estimate companion (plasma?) radius based on extent of eclipse\n",
    "    \n",
    "    Parameters\n",
    "    ==========\n",
    "    a: quantity, separation between the pulsar and companion\n",
    "    frac_eclipse: float, fraction of the orbit where pulsar signal is obscured\n",
    "    \n",
    "    Returns\n",
    "    =======\n",
    "    Rplasma: quantity, companion's plasma(?) radius (Solar Radii)\n",
    "    \"\"\"\n",
    "    print(f\"Nominal pulsar-companion separation: {a.value:.4f} Rsun\")\n",
    "    ing2sup = frac_eclipse*180.0*u.deg # angle from ingress to superior conjunction\n",
    "    Rplasma = a*np.sin(ing2sup)\n",
    "    print(f\"Companion's estimated plasma radius: {Rplasma.value:.4f} Rsun ({Rplasma.to(u.km).value:.0f} km)\")\n",
    "    return Rplasma\n",
    "\n",
    "frac_eclipse = 0.04\n",
    "\n",
    "par_path = f\"data/J1816+4510_eclipseDMX.par\"\n",
    "tim_path = f\"data/J1816+4510_eclipseDMX.tim\"\n",
    "mo = model.get_model(par_path)\n",
    "to = toa.get_TOAs(tim_path,model=mo)\n",
    "fo = pint.fitter.WLSFitter(to,mo)\n",
    "x = fo.fit_toas()\n",
    "a = psr_comp_separation(mo, mp=1.64*u.solMass) # using lower limit on M_psr from Clark et al. (2023)\n",
    "print(f\"J1816+4510 is obscured for {frac_eclipse:.0%} of an orbit...\")\n",
    "rp = Rplasma(a,frac_eclipse)"
   ]
  },
  {
   "cell_type": "markdown",
   "id": "b3d3ccf3",
   "metadata": {},
   "source": [
    "I can use the estimated companion's plasma radius to get some idea of the electron density near the companion (using the additional column density around superior conjunction). This is probably ~order of magnitude."
   ]
  },
  {
   "cell_type": "code",
   "execution_count": 5,
   "id": "7568fe26",
   "metadata": {},
   "outputs": [
    {
     "data": {
      "text/latex": [
       "$17619863 \\; \\mathrm{\\frac{1}{cm^{3}}}$"
      ],
      "text/plain": [
       "<Quantity 17619863.47492632 1 / cm3>"
      ]
     },
     "execution_count": 5,
     "metadata": {},
     "output_type": "execute_result"
    }
   ],
   "source": [
    "(dDM_1816/rp).to(u.cm**-3)"
   ]
  },
  {
   "cell_type": "markdown",
   "id": "de5c2e60",
   "metadata": {},
   "source": [
    "Next, I want to use the equation from Eggleton et al. (1983) to estimate the size of the companion's Roche Lobe, and thus, the path length the pulsar might be encountering around superior conjunction. Do this for a few possible inclination angles and assume pulsar mass is 1.64 solar masses."
   ]
  },
  {
   "cell_type": "code",
   "execution_count": 6,
   "id": "4e70288d",
   "metadata": {},
   "outputs": [
    {
     "name": "stdout",
     "output_type": "stream",
     "text": [
      "  i = 90.0 deg; mc = 0.1792 Msun; q = 0.1093; a = 2.6041 Rsun; RL = 0.55252 Rsun; RL/Rp = 1.69\n",
      "  i = 85.0 deg; mc = 0.1800 Msun; q = 0.1097; a = 2.6044 Rsun; RL = 0.55324 Rsun; RL/Rp = 1.70\n",
      "  i = 80.0 deg; mc = 0.1822 Msun; q = 0.1111; a = 2.6055 Rsun; RL = 0.55544 Rsun; RL/Rp = 1.70\n",
      "  i = 75.0 deg; mc = 0.1860 Msun; q = 0.1134; a = 2.6073 Rsun; RL = 0.55917 Rsun; RL/Rp = 1.71\n"
     ]
    }
   ],
   "source": [
    "def RL_Eggleton(a,mc,mp=1.4*u.solMass):\n",
    "    \"\"\" Calculate Roche Lobe size in solar radii (see Eggleton 1983)\n",
    "    \n",
    "    Parameters\n",
    "    ==========\n",
    "    a: quantity, separation between the pulsar and companion\n",
    "    mc: quantity, companion mass (solar masses)\n",
    "    mp: pulsar mass (default: 1.4 Msun), optional\n",
    "    \n",
    "    Returns\n",
    "    =======\n",
    "    R_L: quantity, Roche Lobe size (solar radii)\n",
    "    \"\"\"\n",
    "    q = mc/mp\n",
    "    R_L = 0.49*a*q**(2.0/3)/(0.6*q**(2.0/3)+np.log(1.0+q**(1.0/3)))\n",
    "    return R_L.to(u.R_sun)\n",
    "\n",
    "incs = [90.0,85.0,80.0,75.0] # trial inclination angles, degrees\n",
    "\n",
    "mo = model.get_model(par_path)\n",
    "to = toa.get_TOAs(tim_path,model=mo)\n",
    "fo = pint.fitter.WLSFitter(to,mo)\n",
    "x = fo.fit_toas()\n",
    "\n",
    "for inc in incs:\n",
    "    mp = 1.64*u.M_sun\n",
    "    a = psr_comp_separation(mo,inc=inc*u.deg,mp=mp)\n",
    "    mc = dq.companion_mass(mo['PB'].quantity, mo['A1'].quantity, i=inc*u.deg, mp=mp)\n",
    "    R_L = RL_Eggleton(a,mc,mp=mp)\n",
    "    RlRp_ratio = R_L/rp\n",
    "\n",
    "    mc_str = f\"{mc.value:.4f}\"\n",
    "    q_str = f\"{mc/mp:.4f}\"\n",
    "    a_str = f\"{a.value:.4f}\"\n",
    "    rl_str = f\"{R_L.value:.5f}\"\n",
    "    rlrp_str = f\"{RlRp_ratio:.2f}\"\n",
    "\n",
    "    print(f\"  i = {inc} deg; mc = {mc_str} Msun; q = {q_str}; a = {a_str} Rsun; RL = {rl_str} Rsun; RL/Rp = {rlrp_str}\")"
   ]
  },
  {
   "cell_type": "markdown",
   "id": "99b6220d",
   "metadata": {},
   "source": [
    "Therefore (unlike the systems considered in Freire 2005), the Roche Lobe (R_L above) is somewhat larger than the size of the plasma cloud (R_p), so matter responsible for increased dispersive delays is bound to the companion."
   ]
  },
  {
   "cell_type": "markdown",
   "id": "a5e645e3",
   "metadata": {},
   "source": [
    "**Optical Constraints Calculations**\n",
    "\n",
    "I follow a procedure similar to that described in Section 4.7 of Swiggum et al. (2023) / Section 7 of Lynch et al. (2018)."
   ]
  },
  {
   "cell_type": "code",
   "execution_count": 7,
   "id": "48634757",
   "metadata": {},
   "outputs": [
    {
     "name": "stdout",
     "output_type": "stream",
     "text": [
      "J0032+6946: 0.417-0.496-1.212 Msun\n",
      "[8.15744868 8.87735868 9.31334868 8.84094868 8.15479868]\n"
     ]
    }
   ],
   "source": [
    "# reddening in PS1 bands from Schlafly & Finkbeiner 2011, Table 6\n",
    "# grizy\n",
    "ps1_redden=np.array([3.172,2.271,1.682,1.322,1.087]) # y not constraining?\n",
    "\n",
    "# assume no detection.  Typical PS1 grizy stack limits are:\n",
    "ps1_lims = np.array([23.3,23.2,23.1,22.3,21.4])\n",
    "\n",
    "# extinction from http://argonaut.skymaps.info (see Green et al. 2015)\n",
    "# these take distance (largest NE vs. YMW) into account\n",
    "psr = \"J0032+6946\"\n",
    "extinction = 0.91\n",
    "\n",
    "par_path = f\"data/{psr}_fiore+23.par\"\n",
    "mo = model.get_model(par_path)\n",
    "\n",
    "mp = 1.4*u.Msun\n",
    "\n",
    "pb = (1./mo['FB0'].quantity).to(u.day)\n",
    "\n",
    "mcmax = dq.companion_mass(pb, mo['A1'].quantity, i=26.0*u.deg, mp=mp)\n",
    "mcmed = dq.companion_mass(pb, mo['A1'].quantity, i=60.0*u.deg, mp=mp)\n",
    "mcmin = dq.companion_mass(pb, mo['A1'].quantity, i=90.0*u.deg, mp=mp)\n",
    "\n",
    "gcoord = mo.coords_as_GAL()\n",
    "dmdist_ne, dmdist_ymw = tu.get_dmdists(gcoord,mo['DM'].value)\n",
    "\n",
    "dmdist = max([dmdist_ne,dmdist_ymw])\n",
    "\n",
    "distance_mod = 5*np.log10((dmdist*u.kpc/(10.0*u.pc)).decompose())\n",
    "\n",
    "print(f\"{psr}: {mcmin.value:.3f}-{mcmed.value:.3f}-{mcmax.value:.3f} Msun\")\n",
    "grizy_lims = ps1_lims-extinction*ps1_redden-distance_mod # de-reddened limits\n",
    "print(grizy_lims)"
   ]
  },
  {
   "cell_type": "code",
   "execution_count": 9,
   "id": "2151cfee",
   "metadata": {},
   "outputs": [],
   "source": [
    "import matplotlib.pyplot as plt\n",
    "from astropy.units import cds\n",
    "\n",
    "# > 0.3 Msun, WD behaves nicely (cold degenerate matter), has mass-radius relationship\n",
    "# type of atmosphere can change, H (DA) vs. He (DB)\n",
    "# abs. magnitude depends on surface temperature, which depends on age & mass (cooling models)\n",
    "# with PanSTARRS nondetection, limit M -> limit Teff -> limit age for a given mass\n",
    "\n",
    "m = 0.4956\n",
    "psr = \"J0032+6946\"\n",
    "\n",
    "#m, psr= ms[0], psrs[0]\n",
    "\n",
    "# read in Bergeron tables (https://www.astro.umontreal.ca/~bergeron/CoolingModels/)\n",
    "\n",
    "def COlimit(maglims,atmo=\"DA\",m=\"0.4\"):\n",
    "    check_rows = np.loadtxt(f'data/berg{m}.txt',dtype=str,usecols=2)\n",
    "    dbrow = np.max(np.where(check_rows==\"Mo\"))\n",
    "    if atmo==\"DA\":\n",
    "        teffs, g, r, i, z, y, ages = np.loadtxt(f'data/berg{m}.txt',dtype=str,skiprows=2,max_rows=dbrow-2, \n",
    "                                                usecols=[0,29,30,31,32,33,42],unpack=True)\n",
    "        parenthesis = \"(DA / H atmosphere)\"\n",
    "    elif atmo==\"DB\":\n",
    "        teffs, g, r, i, z, y, ages = np.loadtxt(f'data/berg{m}.txt',dtype=str,skiprows=dbrow+3, \n",
    "                                                usecols=[0,29,30,31,32,33,42],unpack=True)\n",
    "        parenthesis = \"(DB / He atmosphere)\"\n",
    "    else:\n",
    "        print(\"Atmosphere must be 'DA' or 'DB'\")\n",
    "        return\n",
    "    grizydata = [g,r,i,z,y]\n",
    "    bands = ['g','r','i','z','y']\n",
    "    teff_lims = []\n",
    "    age_lims = []\n",
    "    for band, maglim, bergmags in zip(bands, maglims, grizydata):\n",
    "        idx = (np.abs(maglim - np.array(bergmags).astype(float))).argmin()\n",
    "        teff, age = teffs[idx], ages[idx]\n",
    "        teff_lims.append(float(teff))\n",
    "        age_lims.append(float(age))\n",
    "        #print(f\"{psr}: using values for {m} Msun, {band} band, cooling age {age} yr: {teff} K\")\n",
    "    idx = np.argmin(np.array(teff_lims))\n",
    "    print(f\"{psr}: Mc = {m} Msun, {bands[idx]}-band limited (M_{bands[idx]} < {maglims[idx]:.1f}), cooling age {age_lims[idx]*10**-6:.2f} Myr: {teff_lims[idx]:.0f} K {parenthesis}\")"
   ]
  },
  {
   "cell_type": "code",
   "execution_count": 10,
   "id": "e1fbf820",
   "metadata": {},
   "outputs": [
    {
     "name": "stdout",
     "output_type": "stream",
     "text": [
      "J0032+6946: Mc = 0.4 Msun, r-band limited (M_r < 8.9), cooling age 0.94 Myr: 35000 K (DA / H atmosphere)\n",
      "J0032+6946: Mc = 0.4 Msun, i-band limited (M_i < 9.3), cooling age 0.44 Myr: 40000 K (DB / He atmosphere)\n",
      "J0032+6946: Mc = 0.5 Msun, r-band limited (M_r < 8.9), cooling age 1.74 Myr: 45000 K (DA / H atmosphere)\n",
      "J0032+6946: Mc = 0.5 Msun, r-band limited (M_r < 8.9), cooling age 1.70 Myr: 47500 K (DB / He atmosphere)\n",
      "J0032+6946: Mc = 0.6 Msun, r-band limited (M_r < 8.9), cooling age 1.51 Myr: 55000 K (DA / H atmosphere)\n",
      "J0032+6946: Mc = 0.6 Msun, i-band limited (M_i < 9.3), cooling age 1.40 Myr: 60000 K (DB / He atmosphere)\n"
     ]
    }
   ],
   "source": [
    "for mass in [0.4,0.5,0.6]:\n",
    "    COlimit(maglims=grizy_lims,atmo=\"DA\",m=str(mass))\n",
    "    COlimit(maglims=grizy_lims,atmo=\"DB\",m=str(mass))"
   ]
  },
  {
   "cell_type": "code",
   "execution_count": 11,
   "id": "0bb891f3",
   "metadata": {},
   "outputs": [
    {
     "name": "stdout",
     "output_type": "stream",
     "text": [
      "2.232192138671875 kpc\n",
      "J1239+3239: 0.126-0.147-0.310 Msun\n",
      "[11.49290213 11.41092213 11.32270213 10.52990213  9.63460213]\n"
     ]
    }
   ],
   "source": [
    "# reddening in PS1 bands from Schlafly & Finkbeiner 2011, Table 6\n",
    "# grizy\n",
    "ps1_redden=np.array([3.172,2.271,1.682,1.322,1.087]) # y not constraining?\n",
    "\n",
    "# assume no detection.  Typical PS1 grizy stack limits are:\n",
    "ps1_lims = np.array([23.3,23.2,23.1,22.3,21.4])\n",
    "\n",
    "# extinction from http://argonaut.skymaps.info (see Green et al. 2015)\n",
    "# these take distance (largest NE vs. YMW) into account\n",
    "psr = \"J1239+3239\"\n",
    "extinction = 0.02\n",
    "\n",
    "par_path = f\"data/{psr}_fiore+23.par\"\n",
    "mo = model.get_model(par_path)\n",
    "\n",
    "mp = 1.4*u.Msun\n",
    "\n",
    "pb = (1./mo['FB0'].quantity).to(u.day)\n",
    "\n",
    "mcmax = dq.companion_mass(pb, mo['A1'].quantity, i=26.0*u.deg, mp=mp)\n",
    "mcmed = dq.companion_mass(pb, mo['A1'].quantity, i=60.0*u.deg, mp=mp)\n",
    "mcmin = dq.companion_mass(pb, mo['A1'].quantity, i=90.0*u.deg, mp=mp)\n",
    "\n",
    "gcoord = mo.coords_as_GAL()\n",
    "dmdist_ne, dmdist_ymw = tu.get_dmdists(gcoord,mo['DM'].value)\n",
    "\n",
    "dmdist = max([dmdist_ne,dmdist_ymw])\n",
    "print(f\"{dmdist} kpc\")\n",
    "\n",
    "distance_mod = 5*np.log10((dmdist*u.kpc/(10.0*u.pc)).decompose())\n",
    "\n",
    "print(f\"{psr}: {mcmin.value:.3f}-{mcmed.value:.3f}-{mcmax.value:.3f} Msun\")\n",
    "grizy_lims = ps1_lims-extinction*ps1_redden-distance_mod # de-reddened limits\n",
    "print(grizy_lims)"
   ]
  },
  {
   "cell_type": "code",
   "execution_count": 12,
   "id": "82900763",
   "metadata": {},
   "outputs": [],
   "source": [
    "# Kilic et al. (2021) WD sample\n",
    "kilic_teff, kilic_teff_err, kilic_logg, kilic_logg_err, kilic_M, kilic_M_err = np.loadtxt(\"data/kilic+21_wdparams.dat\",dtype=str,skiprows=5,usecols=[3,4,5,6,7,8],delimiter='|',unpack=True)\n",
    "for i,te in enumerate(kilic_teff_err):\n",
    "    try:\n",
    "        test = float(te)\n",
    "    except ValueError:\n",
    "        kilic_teff_err[i] = \"0\"\n",
    "\n",
    "kilic_R = np.sqrt(c.G * kilic_M.astype(float)*u.Msun / ((u.cm/u.s/u.s) * 10 ** kilic_logg.astype(float)))\n",
    "kilic_R_err = (kilic_R/2) * np.sqrt((kilic_M_err.astype(float)/kilic_M.astype(float))**2 + (np.log(10)*kilic_logg_err.astype(float))**2)\n",
    "\n",
    "# Kilic et al. (2022) ELM WDs\n",
    "\n",
    "elm_teff, elm_teff_err, elm_logg, elm_logg_err, elm_M, elm_M_err = np.loadtxt(\"data/kilic+22_elm.dat\",dtype=str,skiprows=46,usecols=[15,16,17,18,19,20],unpack=True)\n",
    "for i,te in enumerate(elm_teff_err):\n",
    "    try:\n",
    "        test = float(te)\n",
    "    except ValueError:\n",
    "        elm_teff_err[i] = \"0\"\n",
    "\n",
    "elm_R = np.sqrt(c.G * elm_M.astype(float)*u.Msun / ((u.cm/u.s/u.s) * 10 ** elm_logg.astype(float)))\n",
    "elm_R_err = (elm_R/2) * np.sqrt((elm_M_err.astype(float)/elm_M.astype(float))**2 + (np.log(10)*elm_logg_err.astype(float))**2)\n",
    "\n",
    "# # some ELM WDs from Althaus et al. (2013) (redundant with Kilic+22, older)\n",
    "# althaus_teff, althaus_teff_err, althaus_logg, althaus_logg_err, althaus_M, althaus_M_err = np.loadtxt(\"data/althaus+13_knownwds.dat\",dtype=str,usecols=[1,2,3,4,5,6],unpack=True)\n",
    "\n",
    "# althaus_R = np.sqrt(c.G * althaus_M.astype(float)*u.Msun / ((u.cm/u.s/u.s) * 10 ** althaus_logg.astype(float)))\n",
    "# althaus_R_err = (althaus_R/2) * np.sqrt((althaus_M_err.astype(float)/althaus_M.astype(float))**2 + (np.log(10)*althaus_logg_err.astype(float))**2)"
   ]
  },
  {
   "cell_type": "code",
   "execution_count": 13,
   "id": "61905128",
   "metadata": {},
   "outputs": [],
   "source": [
    "def Helimit(maglims,radii,masses,atmo,tscale,max_DB_radius,save=False):\n",
    "    if type(atmo) is not list:\n",
    "        atmo = [atmo]\n",
    "    lstyles = ['-','--'][:len(atmo)]\n",
    "    maxRs = np.array([max(radii).value,max_DB_radius])*u.Rsun\n",
    "    for atm,ls,maxR in zip(atmo,lstyles,maxRs):\n",
    "        if type(masses) is not list:\n",
    "            masses = [masses]\n",
    "        for m in masses:\n",
    "            check_rows = np.loadtxt(f'data/berg{m:.1f}.txt',dtype=str,usecols=2)\n",
    "            dbrow = np.max(np.where(check_rows==\"Mo\"))\n",
    "            if atm==\"DA\":\n",
    "                teffs, logg, g, r, i, z, y, ages = np.loadtxt(f'data/berg{m:.1f}.txt',dtype=str,skiprows=2,max_rows=dbrow-2, \n",
    "                                                        usecols=[0,1,29,30,31,32,33,42],unpack=True)\n",
    "                parenthesis = \"(DA / H atmosphere)\"\n",
    "            elif atm==\"DB\":\n",
    "                teffs, logg, g, r, i, z, y, ages = np.loadtxt(f'data/berg{m:.1f}.txt',dtype=str,skiprows=dbrow+3, \n",
    "                                                        usecols=[0,1,29,30,31,32,33,42],unpack=True)\n",
    "                parenthesis = \"(DB / He atmosphere)\"\n",
    "            else:\n",
    "                print(f\"What is {atmo}? Atmosphere must be 'DA' or 'DB'\")\n",
    "                return\n",
    "            grizydata = [g,r,i,z,y]\n",
    "            bands = ['g','r','i','z','y']\n",
    "            \n",
    "            Rs = np.array([])*u.Rsun\n",
    "            for lg in logg:\n",
    "                R = np.sqrt(c.G*m*u.Msun / ((10**float(lg))*u.cm*u.s**-2))\n",
    "                Rs = np.append(Rs, R.to(u.Rsun))\n",
    "            \n",
    "            lessmaxR = radii <= maxR\n",
    "            radii_trimmed = radii[lessmaxR]\n",
    "            \n",
    "            teff_lims = False\n",
    "            for maglim, bergmags in zip(maglims[:3], grizydata):\n",
    "                teff_new = np.array([])\n",
    "                for new_r in radii_trimmed:\n",
    "                    new_mags = np.array(bergmags.astype(float)) - 2.5*np.log10(((new_r/Rs).to(u.Rsun/u.Rsun))**2)\n",
    "                    idx = (np.abs(maglim - new_mags.astype(float))).argmin()\n",
    "                    teff = teffs[idx]\n",
    "                    teff_new = np.append(teff_new,float(teff))\n",
    "                try:\n",
    "                    teff_lims = np.vstack((teff_lims,teff_new))\n",
    "                except ValueError:\n",
    "                    teff_lims = teff_new\n",
    "            min_teff_lims = np.amin(teff_lims, axis=0)\n",
    "            #print(radii_trimmed, min_teff_lims)\n",
    "            plt.plot(radii_trimmed,min_teff_lims/tscale,c='black',ls=ls,lw=1,label=f\"{atm} atmosphere\")\n",
    "    \n",
    "    elm_col = 'b'\n",
    "    #elm_label = ''\n",
    "    elm_label = r'Brown et al.~(2022)'\n",
    "    plt.errorbar(elm_R.to(u.Rsun),elm_teff.astype(float)/tscale,xerr=elm_R_err,yerr=elm_teff_err.astype(float)/tscale, \\\n",
    "                 fmt='o',mfc=elm_col,mec=elm_col,ecolor=elm_col,ms=1.5,capsize=1.,elinewidth=0.5, \\\n",
    "                 label=elm_label,alpha=0.6,zorder=1)\n",
    "    \n",
    "    kilic_col = 'gray'\n",
    "    #kilic_label = ''\n",
    "    kilic_label = r'Kilic et al.~(2020)'\n",
    "    plt.errorbar(kilic_R.to(u.Rsun),kilic_teff.astype(float)/tscale,xerr=kilic_R_err,yerr=kilic_teff_err.astype(float)/tscale, \\\n",
    "                 fmt='o',mfc=kilic_col,mec=kilic_col,ecolor=kilic_col,ms=1.5,capsize=1.,elinewidth=0.5, \\\n",
    "                 label=kilic_label,alpha=0.6,zorder=1)\n",
    "    \n",
    "    #plt.loglog()\n",
    "    plt.xscale('log')\n",
    "    plt.xlabel(r\"WD Radius (R$_\\odot$)\",fontsize=20)\n",
    "    plt.ylabel(r\"$T_\\mathrm{eff}$ ($10^3$\\,K)\",fontsize=20)\n",
    "    plt.xlim(min_radius, max_radius)\n",
    "    plt.ylim(0.0,31000.0/tscale)\n",
    "    plt.tick_params(axis='both', labelsize=16)\n",
    "    #plt.legend(fontsize=13,ncol=2,columnspacing=0.8,framealpha=0.4,labelspacing=0.4)\n",
    "    plt.legend(fontsize=14)\n",
    "    #plt.grid(True)\n",
    "    if save:\n",
    "        plt.savefig(\"J1239_opticalconstraints.pdf\",format=\"pdf\",bbox_inches='tight',pad_inches=0.25)"
   ]
  },
  {
   "cell_type": "code",
   "execution_count": 14,
   "id": "2794f865",
   "metadata": {},
   "outputs": [
    {
     "data": {
      "image/png": "[encoded data removed]",
      "text/plain": [
       "<Figure size 432x288 with 1 Axes>"
      ]
     },
     "metadata": {
      "needs_background": "light"
     },
     "output_type": "display_data"
    }
   ],
   "source": [
    "min_radius = 0.005\n",
    "max_radius = 0.55\n",
    "radii = np.linspace(min_radius,max_radius,1000)*u.Rsun\n",
    "Helimit(grizy_lims,radii,masses=0.2,atmo=[\"DA\",\"DB\"],tscale=1000,max_DB_radius=0.125,save=False)"
   ]
  },
  {
   "cell_type": "code",
   "execution_count": null,
   "id": "2c452d74",
   "metadata": {},
   "outputs": [],
   "source": []
  }
 ],
 "metadata": {
  "kernelspec": {
   "display_name": "Python 3 (ipykernel)",
   "language": "python",
   "name": "python3"
  },
  "language_info": {
   "codemirror_mode": {
    "name": "ipython",
    "version": 3
   },
   "file_extension": ".py",
   "mimetype": "text/x-python",
   "name": "python",
   "nbconvert_exporter": "python",
   "pygments_lexer": "ipython3",
   "version": "3.8.12"
  }
 },
 "nbformat": 4,
 "nbformat_minor": 5
}
