{
 "cells": [
  {
   "cell_type": "code",
   "execution_count": 1,
   "id": "9a3e325e",
   "metadata": {},
   "outputs": [],
   "source": [
    "import numpy as np\n",
    "import matplotlib.pyplot as plt\n",
    "from astropy import units as u\n",
    "\n",
    "import matplotlib as mpl\n",
    "plt.rc('font',**{'family':'serif','serif':['Computer Modern Roman']})\n",
    "params = {'text.usetex'       : True,\n",
    "          'axes.unicode_minus': True}\n",
    "mpl.rcParams.update(params)"
   ]
  },
  {
   "cell_type": "markdown",
   "id": "91842125",
   "metadata": {},
   "source": [
    "## Functions from my branch of PINT"
   ]
  },
  {
   "cell_type": "code",
   "execution_count": 2,
   "id": "8406851c",
   "metadata": {},
   "outputs": [],
   "source": [
    "def Dre_PINT(Phi, eps1, eps2):\n",
    "    return (\n",
    "        np.sin(Phi)\n",
    "        + 0.5 * (eps2 * np.sin(2 * Phi) - eps1 * np.cos(2 * Phi))\n",
    "        - (1.0 / 8)\n",
    "        * (\n",
    "            5 * eps2**2 * np.sin(Phi)\n",
    "            - 3 * eps2**2 * np.sin(3 * Phi)\n",
    "            - 2 * eps2 * eps1 * np.cos(Phi)\n",
    "            + 6 * eps2 * eps1 * np.cos(3 * Phi)\n",
    "            + 3 * eps1**2 * np.sin(Phi)\n",
    "            + 3 * eps1**2 * np.sin(3 * Phi)\n",
    "        )\n",
    "        - (1.0 / 12)\n",
    "        * (\n",
    "            5 * eps2**3 * np.sin(2 * Phi)\n",
    "            + 3 * eps1**2 * eps2 * np.sin(2 * Phi)\n",
    "            - 6 * eps1 * eps2**2 * np.cos(2 * Phi)\n",
    "            - 4 * eps1**3 * np.cos(2 * Phi)\n",
    "            - 4 * eps2**3 * np.sin(4 * Phi)\n",
    "            + 12 * eps1**2 * eps2 * np.sin(4 * Phi)\n",
    "            + 12 * eps1 * eps2**2 * np.cos(4 * Phi)\n",
    "            - 4 * eps1**3 * np.cos(4 * Phi)\n",
    "        )\n",
    "    )"
   ]
  },
  {
   "cell_type": "code",
   "execution_count": 3,
   "id": "84fd4a39",
   "metadata": {},
   "outputs": [],
   "source": [
    "def d_Dre_d_Phi_PINT(Phi, eps1, eps2):\n",
    "    return (\n",
    "        np.cos(Phi)\n",
    "        + eps1 * np.sin(2 * Phi)\n",
    "        + eps2 * np.cos(2 * Phi)\n",
    "        - (1.0 / 8)\n",
    "        * (\n",
    "            5 * eps2**2 * np.cos(Phi)\n",
    "            - 9 * eps2**2 * np.cos(3 * Phi)\n",
    "            + 2 * eps1 * eps2 * np.sin(Phi)\n",
    "            - 18 * eps1 * eps2 * np.sin(3 * Phi)\n",
    "            + 3 * eps1**2 * np.cos(Phi)\n",
    "            + 9 * eps1**2 * np.cos(3 * Phi)\n",
    "        )\n",
    "        - (1.0 / 12)\n",
    "        * (\n",
    "            10 * eps2**3 * np.cos(2 * Phi)\n",
    "            + 6 * eps1**2 * eps2 * np.cos(2 * Phi)\n",
    "            + 12 * eps1 * eps2**2 * np.sin(2 * Phi)\n",
    "            + 8 * eps1**3 * np.sin(2 * Phi)\n",
    "            - 16 * eps2**3 * np.cos(4 * Phi)\n",
    "            + 48 * eps1**2 * eps2 * np.cos(4 * Phi)\n",
    "            - 48 * eps1 * eps2**2 * np.sin(4 * Phi)\n",
    "            + 16 * eps1**3 * np.sin(4 * Phi)\n",
    "        )\n",
    "    )"
   ]
  },
  {
   "cell_type": "code",
   "execution_count": 4,
   "id": "4ec76a9e",
   "metadata": {},
   "outputs": [],
   "source": [
    "def d2_Dre_d2_Phi_PINT(Phi, eps1, eps2):\n",
    "    return (\n",
    "        -np.sin(Phi)\n",
    "        + 2 * eps1 * np.cos(2 * Phi)\n",
    "        - 2 * eps2 * np.sin(2 * Phi)\n",
    "        - (1.0 / 8)\n",
    "        * (\n",
    "            -5 * eps2**2 * np.sin(Phi)\n",
    "            + 27 * eps2**2 * np.sin(3 * Phi)\n",
    "            + 2 * eps1 * eps2 * np.cos(Phi)\n",
    "            - 54 * eps1 * eps2 * np.cos(3 * Phi)\n",
    "            - 3 * eps1**2 * np.sin(Phi)\n",
    "            - 27 * eps1**2 * np.sin(3 * Phi)\n",
    "        )\n",
    "        - (1.0 / 12)\n",
    "        * (\n",
    "            -20 * eps2**3 * np.sin(2 * Phi)\n",
    "            - 12 * eps1**2 * eps2 * np.sin(2 * Phi)\n",
    "            + 24 * eps1 * eps2**2 * np.cos(2 * Phi)\n",
    "            + 16 * eps1**3 * np.cos(2 * Phi)\n",
    "            + 64 * eps2**3 * np.sin(4 * Phi)\n",
    "            - 192 * eps1**2 * eps2 * np.sin(4 * Phi)\n",
    "            - 192 * eps1 * eps2**2 * np.cos(4 * Phi)\n",
    "            + 64 * eps1**3 * np.cos(4 * Phi)\n",
    "        )\n",
    "    )"
   ]
  },
  {
   "cell_type": "code",
   "execution_count": 5,
   "id": "bbe44abf",
   "metadata": {},
   "outputs": [],
   "source": [
    "def d_Dre_d_eps1_PINT(Phi, eps1, eps2):\n",
    "    return (\n",
    "        -0.5 * np.cos(2 * Phi)\n",
    "        - (1.0 / 8)\n",
    "        * (\n",
    "            -2 * eps2 * np.cos(Phi)\n",
    "            + 6 * eps2 * np.cos(3 * Phi)\n",
    "            + 6 * eps1 * np.sin(Phi)\n",
    "            + 6 * eps1 * np.sin(3 * Phi)\n",
    "        )\n",
    "        - (1.0 / 12)\n",
    "        * (\n",
    "            6 * eps1 * eps2 * np.sin(2 * Phi)\n",
    "            - 6 * eps2**2 * np.cos(2 * Phi)\n",
    "            - 12 * eps1**2 * np.cos(2 * Phi)\n",
    "            + 24 * eps1 * eps2 * np.sin(4 * Phi)\n",
    "            + 12 * eps2**2 * np.cos(4 * Phi)\n",
    "            - 12 * eps1**2 * np.cos(4 * Phi)\n",
    "        )\n",
    "    )"
   ]
  },
  {
   "cell_type": "code",
   "execution_count": 6,
   "id": "36fc5532",
   "metadata": {},
   "outputs": [],
   "source": [
    "def d_Dre_d_eps2_PINT(Phi, eps1, eps2):\n",
    "    return (\n",
    "        0.5 * np.sin(2 * Phi)\n",
    "        - (1.0 / 8)\n",
    "        * (\n",
    "            -2 * eps1 * np.cos(Phi)\n",
    "            + 6 * eps1 * np.cos(3 * Phi)\n",
    "            + 10 * eps2 * np.sin(Phi)\n",
    "            - 6 * eps2 * np.sin(3 * Phi)\n",
    "        )\n",
    "        - (1.0 / 12)\n",
    "        * (\n",
    "            15 * eps2**2 * np.sin(2 * Phi)\n",
    "            + 3 * eps1**2 * np.sin(2 * Phi)\n",
    "            - 12 * eps1 * eps2 * np.cos(2 * Phi)\n",
    "            - 12 * eps2**2 * np.sin(4 * Phi)\n",
    "            + 12 * eps1**2 * np.sin(4 * Phi)\n",
    "            + 24 * eps1 * eps2 * np.cos(4 * Phi)\n",
    "        )\n",
    "    )"
   ]
  },
  {
   "cell_type": "code",
   "execution_count": 7,
   "id": "24a74c1d",
   "metadata": {},
   "outputs": [],
   "source": [
    "def d2_Dre_d_Phi_d_eps1_PINT(Phi, eps1, eps2):\n",
    "    return (\n",
    "        np.sin(2.0 * Phi)\n",
    "        - (1.0 / 8)\n",
    "        * (\n",
    "            6 * eps1 * np.cos(Phi)\n",
    "            + 18 * eps1 * np.cos(3 * Phi)\n",
    "            + 2 * eps2 * np.sin(Phi)\n",
    "            - 18 * eps2 * np.sin(3 * Phi)\n",
    "        )\n",
    "        - (1.0 / 12)\n",
    "        * (\n",
    "            12 * eps1 * eps2 * np.cos(2 * Phi)\n",
    "            + 12 * eps2**2 * np.sin(2 * Phi)\n",
    "            + 16 * eps1**2 * np.sin(2 * Phi)\n",
    "            + 96 * eps1 * eps2 * np.cos(4 * Phi)\n",
    "            - 48 * eps2**2 * np.sin(4 * Phi)\n",
    "            + 48 * eps1**2 * np.sin(4 * Phi)\n",
    "        )\n",
    "    )"
   ]
  },
  {
   "cell_type": "code",
   "execution_count": 8,
   "id": "da0f3b6a",
   "metadata": {},
   "outputs": [],
   "source": [
    "def d2_Dre_d_Phi_d_eps2_PINT(Phi, eps1, eps2):\n",
    "    return (\n",
    "        np.cos(2.0 * Phi)\n",
    "        - (1.0 / 8)\n",
    "        * (\n",
    "            2 * eps1 * np.sin(Phi)\n",
    "            - 18 * eps1 * np.sin(3 * Phi)\n",
    "            + 10 * eps2 * np.cos(Phi)\n",
    "            - 18 * eps2 * np.cos(3 * Phi)\n",
    "        )\n",
    "        - (1.0 / 12)\n",
    "        * (\n",
    "            30 * eps2**2 * np.cos(2 * Phi)\n",
    "            + 6 * eps1**2 * np.cos(2 * Phi)\n",
    "            + 24 * eps1 * eps2 * np.sin(2 * Phi)\n",
    "            - 48 * eps2**2 * np.cos(4 * Phi)\n",
    "            + 48 * eps1**2 * np.cos(4 * Phi)\n",
    "            - 96 * eps1 * eps2 * np.sin(4 * Phi)\n",
    "        )\n",
    "    )"
   ]
  },
  {
   "cell_type": "code",
   "execution_count": 9,
   "id": "d18e4527",
   "metadata": {},
   "outputs": [],
   "source": [
    "def d3_Dre_d3_Phi_PINT(Phi, eps1, eps2):\n",
    "    return (\n",
    "        -np.cos(Phi)\n",
    "        - 4.0 * (eps1 * np.sin(2.0 * Phi) + eps2 * np.cos(2.0 * Phi))\n",
    "        - (1.0 / 8)\n",
    "        * (\n",
    "            -5 * eps2**2 * np.cos(Phi)\n",
    "            + 81 * eps2**2 * np.cos(3 * Phi)\n",
    "            - 2 * eps1 * eps2 * np.sin(Phi)\n",
    "            + 162 * eps1 * eps2 * np.sin(3 * Phi)\n",
    "            - 3 * eps1**2 * np.cos(Phi)\n",
    "            - 81 * eps1**2 * np.cos(3 * Phi)\n",
    "        )\n",
    "        - (1.0 / 12)\n",
    "        * (\n",
    "            -40 * eps2**3 * np.cos(2 * Phi)\n",
    "            - 24 * eps1**2 * eps2 * np.cos(2 * Phi)\n",
    "            - 48 * eps1 * eps2**2 * np.sin(2 * Phi)\n",
    "            - 32 * eps1**3 * np.sin(2 * Phi)\n",
    "            + 256 * eps2**3 * np.cos(4 * Phi)\n",
    "            - 768 * eps1**2 * eps2 * np.cos(4 * Phi)\n",
    "            + 768 * eps1 * eps2**2 * np.sin(4 * Phi)\n",
    "            - 256 * eps1**3 * np.sin(4 * Phi)\n",
    "        )\n",
    "    )"
   ]
  },
  {
   "cell_type": "code",
   "execution_count": 10,
   "id": "7bde3903",
   "metadata": {},
   "outputs": [],
   "source": [
    "def d3_Dre_d2_Phi_d_eps1_PINT(Phi, eps1, eps2):\n",
    "    return (\n",
    "        2.0 * np.cos(2.0 * Phi)\n",
    "        - (1.0 / 8)\n",
    "        * (\n",
    "            -6 * eps1 * np.sin(Phi)\n",
    "            - 54 * eps1 * np.sin(3 * Phi)\n",
    "            + 2 * eps2 * np.cos(Phi)\n",
    "            - 54 * eps2 * np.cos(3 * Phi)\n",
    "        )\n",
    "        - (1.0 / 12)\n",
    "        * (\n",
    "            -24 * eps1 * eps2 * np.sin(2 * Phi)\n",
    "            + 24 * eps2**2 * np.cos(2 * Phi)\n",
    "            + 48 * eps1**2 * np.cos(2 * Phi)\n",
    "            - 384 * eps1 * eps2 * np.sin(4 * Phi)\n",
    "            - 192 * eps2**2 * np.cos(4 * Phi)\n",
    "            + 192 * eps1**2 * np.cos(4 * Phi)\n",
    "        )\n",
    "    )"
   ]
  },
  {
   "cell_type": "code",
   "execution_count": 11,
   "id": "b49c741d",
   "metadata": {},
   "outputs": [],
   "source": [
    "def d3_Dre_d2_Phi_d_eps2_PINT(Phi, eps1, eps2):\n",
    "    return (\n",
    "        -2.0 * np.sin(2.0 * Phi)\n",
    "        - (1.0 / 8)\n",
    "        * (\n",
    "            2 * eps1 * np.cos(Phi)\n",
    "            - 54 * eps1 * np.cos(3 * Phi)\n",
    "            - 10 * eps2 * np.sin(Phi)\n",
    "            + 54 * eps2 * np.sin(3 * Phi)\n",
    "        )\n",
    "        - (1.0 / 12)\n",
    "        * (\n",
    "            -60 * eps2**2 * np.sin(2 * Phi)\n",
    "            - 12 * eps1**2 * np.sin(2 * Phi)\n",
    "            + 48 * eps1 * eps2 * np.cos(2 * Phi)\n",
    "            + 192 * eps2**2 * np.sin(4 * Phi)\n",
    "            - 192 * eps1**2 * np.sin(4 * Phi)\n",
    "            - 384 * eps1 * eps2 * np.cos(4 * Phi)\n",
    "        )\n",
    "    )"
   ]
  },
  {
   "cell_type": "markdown",
   "id": "5b059d20",
   "metadata": {},
   "source": [
    "## Maple Output"
   ]
  },
  {
   "cell_type": "code",
   "execution_count": 12,
   "id": "ce6972d7",
   "metadata": {},
   "outputs": [],
   "source": [
    "def Dre_Maple(Phi, eps1, eps2):\n",
    "    return (\n",
    "            np.sin(Phi) - np.cos(2 * Phi) * eps1 / 2 + np.sin(2 * Phi) * eps2 / 2 - 0.3e1 / 0.2e1 * eps1 - 0.3e1 / 0.8e1 * eps1 ** 2 * np.sin(Phi) - 0.5e1 / 0.8e1 * np.sin(Phi) * eps2 ** 2 + np.cos(Phi) * eps2 * eps1 / 4 - 0.3e1 / 0.4e1 * eps2 * eps1 * np.cos(3 * Phi) - 0.3e1 / 0.8e1 * eps1 ** 2 * np.sin(3 * Phi) + 0.3e1 / 0.8e1 * eps2 ** 2 * np.sin(3 * Phi) - eps1 ** 2 * eps2 * np.sin(4 * Phi) + eps2 ** 3 * np.sin(4 * Phi) / 3 + eps1 ** 3 * np.cos(2 * Phi) / 3 + eps2 ** 2 * eps1 * np.cos(2 * Phi) / 2 + eps1 ** 3 * np.cos(4 * Phi) / 3 - eps2 ** 2 * eps1 * np.cos(4 * Phi) - eps1 ** 2 * eps2 * np.sin(2 * Phi) / 4 - 0.5e1 / 0.12e2 * eps2 ** 3 * np.sin(2 * Phi)\n",
    "        )"
   ]
  },
  {
   "cell_type": "code",
   "execution_count": 13,
   "id": "4d9ff799",
   "metadata": {},
   "outputs": [],
   "source": [
    "def d_Dre_d_Phi_Maple(Phi, eps1, eps2):\n",
    "    return (\n",
    "            np.cos(Phi) + np.sin(2 * Phi) * eps1 + np.cos(2 * Phi) * eps2 - 0.3e1 / 0.8e1 * eps1 ** 2 * np.cos(Phi) - 0.5e1 / 0.8e1 * np.cos(Phi) * eps2 ** 2 - np.sin(Phi) * eps2 * eps1 / 4 + 0.9e1 / 0.4e1 * eps2 * eps1 * np.sin(3 * Phi) - 0.9e1 / 0.8e1 * eps1 ** 2 * np.cos(3 * Phi) + 0.9e1 / 0.8e1 * eps2 ** 2 * np.cos(3 * Phi) - 4 * eps1 ** 2 * eps2 * np.cos(4 * Phi) + 0.4e1 / 0.3e1 * eps2 ** 3 * np.cos(4 * Phi) - 0.2e1 / 0.3e1 * eps1 ** 3 * np.sin(2 * Phi) - eps2 ** 2 * eps1 * np.sin(2 * Phi) - 0.4e1 / 0.3e1 * eps1 ** 3 * np.sin(4 * Phi) + 4 * eps2 ** 2 * eps1 * np.sin(4 * Phi) - eps1 ** 2 * eps2 * np.cos(2 * Phi) / 2 - 0.5e1 / 0.6e1 * eps2 ** 3 * np.cos(2 * Phi)\n",
    "        )"
   ]
  },
  {
   "cell_type": "code",
   "execution_count": 14,
   "id": "1c798f98",
   "metadata": {},
   "outputs": [],
   "source": [
    "def d2_Dre_d2_Phi_Maple(Phi, eps1, eps2):\n",
    "    return (\n",
    "            -np.sin(Phi) + 2 * np.cos(2 * Phi) * eps1 - 2 * np.sin(2 * Phi) * eps2 + 0.3e1 / 0.8e1 * eps1 ** 2 * np.sin(Phi) + 0.5e1 / 0.8e1 * np.sin(Phi) * eps2 ** 2 - np.cos(Phi) * eps2 * eps1 / 4 + 0.27e2 / 0.4e1 * eps2 * eps1 * np.cos(3 * Phi) + 0.27e2 / 0.8e1 * eps1 ** 2 * np.sin(3 * Phi) - 0.27e2 / 0.8e1 * eps2 ** 2 * np.sin(3 * Phi) + 16 * eps1 ** 2 * eps2 * np.sin(4 * Phi) - 0.16e2 / 0.3e1 * eps2 ** 3 * np.sin(4 * Phi) - 0.4e1 / 0.3e1 * eps1 ** 3 * np.cos(2 * Phi) - 2 * eps2 ** 2 * eps1 * np.cos(2 * Phi) - 0.16e2 / 0.3e1 * eps1 ** 3 * np.cos(4 * Phi) + 16 * eps2 ** 2 * eps1 * np.cos(4 * Phi) + eps1 ** 2 * eps2 * np.sin(2 * Phi) + 0.5e1 / 0.3e1 * eps2 ** 3 * np.sin(2 * Phi)\n",
    "        )"
   ]
  },
  {
   "cell_type": "code",
   "execution_count": 15,
   "id": "d38d1255",
   "metadata": {},
   "outputs": [],
   "source": [
    "def d_Dre_d_eps1_Maple(Phi, eps1, eps2):\n",
    "    return (\n",
    "        -np.cos(2 * Phi) / 2 - 0.3e1 / 0.2e1 - 0.3e1 / 0.4e1 * eps1 * np.sin(Phi) + np.cos(Phi) * eps2 / 4 - 0.3e1 / 0.4e1 * eps2 * np.cos(3 * Phi) - 0.3e1 / 0.4e1 * eps1 * np.sin(3 * Phi) - 2 * eps1 * eps2 * np.sin(4 * Phi) + eps1 ** 2 * np.cos(2 * Phi) + eps2 ** 2 * np.cos(2 * Phi) / 2 + eps1 ** 2 * np.cos(4 * Phi) - eps2 ** 2 * np.cos(4 * Phi) - eps1 * eps2 * np.sin(2 * Phi) / 2\n",
    "    )"
   ]
  },
  {
   "cell_type": "code",
   "execution_count": 16,
   "id": "3c34f10f",
   "metadata": {},
   "outputs": [],
   "source": [
    "def d_Dre_d_eps2_Maple(Phi, eps1, eps2):\n",
    "    return (\n",
    "        np.sin(2 * Phi) / 2 - 0.5e1 / 0.4e1 * np.sin(Phi) * eps2 + np.cos(Phi) * eps1 / 4 - 0.3e1 / 0.4e1 * eps1 * np.cos(3 * Phi) + 0.3e1 / 0.4e1 * eps2 * np.sin(3 * Phi) - eps1 ** 2 * np.sin(4 * Phi) + eps2 ** 2 * np.sin(4 * Phi) + eps2 * eps1 * np.cos(2 * Phi) - 2 * eps2 * eps1 * np.cos(4 * Phi) - eps1 ** 2 * np.sin(2 * Phi) / 4 - 0.5e1 / 0.4e1 * eps2 ** 2 * np.sin(2 * Phi)\n",
    "    )"
   ]
  },
  {
   "cell_type": "code",
   "execution_count": 17,
   "id": "20581ce2",
   "metadata": {},
   "outputs": [],
   "source": [
    "def d2_Dre_d_Phi_d_eps1_Maple(Phi, eps1, eps2):\n",
    "    return (\n",
    "        np.sin(2 * Phi) - 0.3e1 / 0.4e1 * np.cos(Phi) * eps1 - np.sin(Phi) * eps2 / 4 + 0.9e1 / 0.4e1 * eps2 * np.sin(3 * Phi) - 0.9e1 / 0.4e1 * eps1 * np.cos(3 * Phi) - 8 * eps2 * eps1 * np.cos(4 * Phi) - 2 * eps1 ** 2 * np.sin(2 * Phi) - eps2 ** 2 * np.sin(2 * Phi) - 4 * eps1 ** 2 * np.sin(4 * Phi) + 4 * eps2 ** 2 * np.sin(4 * Phi) - eps2 * eps1 * np.cos(2 * Phi)\n",
    "    )"
   ]
  },
  {
   "cell_type": "code",
   "execution_count": 18,
   "id": "262e90f8",
   "metadata": {},
   "outputs": [],
   "source": [
    "def d2_Dre_d_Phi_d_eps2_Maple(Phi, eps1, eps2):\n",
    "    return (\n",
    "        np.cos(2 * Phi) - 0.5e1 / 0.4e1 * np.cos(Phi) * eps2 - np.sin(Phi) * eps1 / 4 + 0.9e1 / 0.4e1 * eps1 * np.sin(3 * Phi) + 0.9e1 / 0.4e1 * eps2 * np.cos(3 * Phi) - 4 * eps1 ** 2 * np.cos(4 * Phi) + 4 * eps2 ** 2 * np.cos(4 * Phi) - 2 * eps2 * eps1 * np.sin(2 * Phi) + 8 * eps2 * eps1 * np.sin(4 * Phi) - eps1 ** 2 * np.cos(2 * Phi) / 2 - 0.5e1 / 0.2e1 * eps2 ** 2 * np.cos(2 * Phi)\n",
    "    )"
   ]
  },
  {
   "cell_type": "code",
   "execution_count": 19,
   "id": "64336e50",
   "metadata": {},
   "outputs": [],
   "source": [
    "def d3_Dre_d3_Phi_Maple(Phi, eps1, eps2):\n",
    "    return (\n",
    "        -np.cos(Phi) - 4 * np.sin(2 * Phi) * eps1 - 4 * np.cos(2 * Phi) * eps2 + 0.3e1 / 0.8e1 * eps1 ** 2 * np.cos(Phi) + 0.5e1 / 0.8e1 * np.cos(Phi) * eps2 ** 2 + np.sin(Phi) * eps2 * eps1 / 4 - 0.81e2 / 0.4e1 * eps2 * eps1 * np.sin(3 * Phi) + 0.81e2 / 0.8e1 * eps1 ** 2 * np.cos(3 * Phi) - 0.81e2 / 0.8e1 * eps2 ** 2 * np.cos(3 * Phi) + 64 * eps1 ** 2 * eps2 * np.cos(4 * Phi) - 0.64e2 / 0.3e1 * eps2 ** 3 * np.cos(4 * Phi) + 0.8e1 / 0.3e1 * eps1 ** 3 * np.sin(2 * Phi) + 4 * eps2 ** 2 * eps1 * np.sin(2 * Phi) + 0.64e2 / 0.3e1 * eps1 ** 3 * np.sin(4 * Phi) - 64 * eps2 ** 2 * eps1 * np.sin(4 * Phi) + 2 * eps1 ** 2 * eps2 * np.cos(2 * Phi) + 0.10e2 / 0.3e1 * eps2 ** 3 * np.cos(2 * Phi)\n",
    "    )"
   ]
  },
  {
   "cell_type": "code",
   "execution_count": 20,
   "id": "fa643aba",
   "metadata": {},
   "outputs": [],
   "source": [
    "def d3_Dre_d2_Phi_d_eps1_Maple(Phi, eps1, eps2):\n",
    "    return (\n",
    "        2 * np.cos(2 * Phi) + 0.3e1 / 0.4e1 * np.sin(Phi) * eps1 - np.cos(Phi) * eps2 / 4 + 0.27e2 / 0.4e1 * eps2 * np.cos(3 * Phi) + 0.27e2 / 0.4e1 * eps1 * np.sin(3 * Phi) + 32 * eps2 * eps1 * np.sin(4 * Phi) - 4 * eps1 ** 2 * np.cos(2 * Phi) - 2 * eps2 ** 2 * np.cos(2 * Phi) - 16 * eps1 ** 2 * np.cos(4 * Phi) + 16 * eps2 ** 2 * np.cos(4 * Phi) + 2 * eps2 * eps1 * np.sin(2 * Phi)\n",
    "    )"
   ]
  },
  {
   "cell_type": "code",
   "execution_count": 21,
   "id": "9e6b7a60",
   "metadata": {},
   "outputs": [],
   "source": [
    "def d3_Dre_d2_Phi_d_eps2_Maple(Phi, eps1, eps2):\n",
    "    return (\n",
    "        -2 * np.sin(2 * Phi) + 0.5e1 / 0.4e1 * np.sin(Phi) * eps2 - np.cos(Phi) * eps1 / 4 + 0.27e2 / 0.4e1 * eps1 * np.cos(3 * Phi) - 0.27e2 / 0.4e1 * eps2 * np.sin(3 * Phi) + 16 * eps1 ** 2 * np.sin(4 * Phi) - 16 * eps2 ** 2 * np.sin(4 * Phi) - 4 * eps2 * eps1 * np.cos(2 * Phi) + 32 * eps2 * eps1 * np.cos(4 * Phi) + eps1 ** 2 * np.sin(2 * Phi) + 5 * eps2 ** 2 * np.sin(2 * Phi)\n",
    "    )"
   ]
  },
  {
   "cell_type": "markdown",
   "id": "fb929eb0",
   "metadata": {},
   "source": [
    "## Comparisons"
   ]
  },
  {
   "cell_type": "code",
   "execution_count": 22,
   "id": "0a7295fc",
   "metadata": {},
   "outputs": [],
   "source": [
    "def get_residuals(Phis, eps1, eps2, func1, func2):\n",
    "    # Maple output still has the constant offset that the ELL1 model discards, so subtract averages\n",
    "    func1_subtracted = func1(Phis, eps1, eps2) - np.average(func1(Phis, eps1, eps2))\n",
    "    func2_subtracted = func2(Phis, eps1, eps2) - np.average(func2(Phis, eps1, eps2))\n",
    "    return func1_subtracted - func2_subtracted"
   ]
  },
  {
   "cell_type": "code",
   "execution_count": 23,
   "id": "d5ec1ab5",
   "metadata": {},
   "outputs": [],
   "source": [
    "def plot_residuals(func1, func2, yaxis_str, Phis):\n",
    "    e = 0.005\n",
    "    oms = np.array([0.,30.,90.,150.,315.])*np.pi/180.\n",
    "    fig = plt.figure()\n",
    "    ax = fig.add_subplot()\n",
    "    for om in oms:\n",
    "        eps1 = e*np.sin(om)\n",
    "        eps2 = e*np.cos(om)\n",
    "        residuals = get_residuals(Phis, eps1, eps2, func1, func2)\n",
    "        ax.plot(Phis*180./np.pi,residuals,label=f'$\\omega = {om*180./np.pi:.0f}^\\circ$')\n",
    "#     ax.plot([0.,360.],[e**4, e**4],ls='--',c='r',lw=1,label='$e^4$')\n",
    "#     ax.plot([0.,360.],[-e**4, -e**4],ls='--',c='r',lw=1)\n",
    "    ax.plot([0.,360.],[e**5, e**5],ls='--',c='orange',lw=1,label='$e^5$')\n",
    "    ax.plot([0.,360.],[-e**5, -e**5],ls='--',c='orange',lw=1)\n",
    "    ax.set_xlabel(\"$\\phi (^\\circ)$\", fontsize = 20)\n",
    "    ax.set_ylabel(yaxis_str, fontsize = 20)\n",
    "    ax.tick_params(axis='both', labelsize=16)\n",
    "    plt.legend(fontsize = 14)\n",
    "    plt.show()"
   ]
  },
  {
   "cell_type": "code",
   "execution_count": 24,
   "id": "38b17929",
   "metadata": {},
   "outputs": [],
   "source": [
    "Phis = np.linspace(0.,2*np.pi,num=10000)"
   ]
  },
  {
   "cell_type": "code",
   "execution_count": 25,
   "id": "fd3f0a9f",
   "metadata": {},
   "outputs": [
    {
     "data": {
      "image/png": "[encoded data removed]",
      "text/plain": [
       "<Figure size 432x288 with 1 Axes>"
      ]
     },
     "metadata": {
      "needs_background": "light"
     },
     "output_type": "display_data"
    }
   ],
   "source": [
    "yaxis_str = \"$\\Delta_\\mathrm{R}^{(\\mathrm{PINT})} - \\Delta_\\mathrm{R}^{(\\mathrm{Maple})}$\"\n",
    "plot_residuals(Dre_PINT, Dre_Maple, yaxis_str, Phis)"
   ]
  },
  {
   "cell_type": "code",
   "execution_count": 26,
   "id": "25b7c448",
   "metadata": {},
   "outputs": [
    {
     "data": {
      "image/png": "[encoded data removed]",
      "text/plain": [
       "<Figure size 432x288 with 1 Axes>"
      ]
     },
     "metadata": {
      "needs_background": "light"
     },
     "output_type": "display_data"
    }
   ],
   "source": [
    "yaxis_str = r\"$\\frac{\\partial\\Delta_\\mathrm{R}^{(\\mathrm{PINT})}}{\\partial\\phi} - \\frac{\\partial\\Delta_\\mathrm{R}^{(\\mathrm{Maple})}}{\\partial\\phi}$\"\n",
    "plot_residuals(d_Dre_d_Phi_PINT, d_Dre_d_Phi_Maple, yaxis_str, Phis)"
   ]
  },
  {
   "cell_type": "code",
   "execution_count": 27,
   "id": "5d7d1899",
   "metadata": {},
   "outputs": [
    {
     "data": {
      "image/png": "[encoded data removed]",
      "text/plain": [
       "<Figure size 432x288 with 1 Axes>"
      ]
     },
     "metadata": {
      "needs_background": "light"
     },
     "output_type": "display_data"
    }
   ],
   "source": [
    "yaxis_str = r\"$\\frac{\\partial^2\\Delta_\\mathrm{R}^{(\\mathrm{PINT})}}{\\partial\\phi^2} - \\frac{\\partial^2\\Delta_\\mathrm{R}^{(\\mathrm{Maple})}}{\\partial\\phi^2}$\"\n",
    "plot_residuals(d2_Dre_d2_Phi_PINT, d2_Dre_d2_Phi_Maple, yaxis_str, Phis)"
   ]
  },
  {
   "cell_type": "code",
   "execution_count": 28,
   "id": "cf053f8f",
   "metadata": {},
   "outputs": [
    {
     "data": {
      "image/png": "[encoded data removed]",
      "text/plain": [
       "<Figure size 432x288 with 1 Axes>"
      ]
     },
     "metadata": {
      "needs_background": "light"
     },
     "output_type": "display_data"
    }
   ],
   "source": [
    "yaxis_str = r\"$\\frac{\\partial\\Delta_\\mathrm{R}^{(\\mathrm{PINT})}}{\\partial e_1} - \\frac{\\partial\\Delta_\\mathrm{R}^{(\\mathrm{Maple})}}{\\partial e_1}$\"\n",
    "plot_residuals(d_Dre_d_eps1_PINT, d_Dre_d_eps1_Maple, yaxis_str, Phis)"
   ]
  },
  {
   "cell_type": "code",
   "execution_count": 29,
   "id": "96de61d0",
   "metadata": {},
   "outputs": [
    {
     "data": {
      "image/png": "[encoded data removed]",
      "text/plain": [
       "<Figure size 432x288 with 1 Axes>"
      ]
     },
     "metadata": {
      "needs_background": "light"
     },
     "output_type": "display_data"
    }
   ],
   "source": [
    "yaxis_str = r\"$\\frac{\\partial\\Delta_\\mathrm{R}^{(\\mathrm{PINT})}}{\\partial e_2} - \\frac{\\partial\\Delta_\\mathrm{R}^{(\\mathrm{Maple})}}{\\partial e_2}$\"\n",
    "plot_residuals(d_Dre_d_eps2_PINT, d_Dre_d_eps2_Maple, yaxis_str, Phis)"
   ]
  },
  {
   "cell_type": "code",
   "execution_count": 30,
   "id": "37495256",
   "metadata": {},
   "outputs": [
    {
     "data": {
      "image/png": "[encoded data removed]",
      "text/plain": [
       "<Figure size 432x288 with 1 Axes>"
      ]
     },
     "metadata": {
      "needs_background": "light"
     },
     "output_type": "display_data"
    }
   ],
   "source": [
    "yaxis_str = r\"$\\frac{\\partial^2\\Delta_\\mathrm{R}^{(\\mathrm{PINT})}}{\\partial e_1\\partial\\phi} - \\frac{\\partial^2\\Delta_\\mathrm{R}^{(\\mathrm{Maple})}}{\\partial e_1\\partial\\phi}$\"\n",
    "plot_residuals(d_Dre_d_eps1_PINT, d_Dre_d_eps1_Maple, yaxis_str, Phis)"
   ]
  },
  {
   "cell_type": "code",
   "execution_count": 31,
   "id": "a47cf853",
   "metadata": {},
   "outputs": [
    {
     "data": {
      "image/png": "[encoded data removed]",
      "text/plain": [
       "<Figure size 432x288 with 1 Axes>"
      ]
     },
     "metadata": {
      "needs_background": "light"
     },
     "output_type": "display_data"
    }
   ],
   "source": [
    "yaxis_str = r\"$\\frac{\\partial^2\\Delta_\\mathrm{R}^{(\\mathrm{PINT})}}{\\partial e_2\\partial\\phi} - \\frac{\\partial^2\\Delta_\\mathrm{R}^{(\\mathrm{Maple})}}{\\partial e_2\\partial\\phi}$\"\n",
    "plot_residuals(d_Dre_d_eps2_PINT, d_Dre_d_eps2_Maple, yaxis_str, Phis)"
   ]
  },
  {
   "cell_type": "code",
   "execution_count": 32,
   "id": "60280427",
   "metadata": {},
   "outputs": [
    {
     "data": {
      "image/png": "[encoded data removed]",
      "text/plain": [
       "<Figure size 432x288 with 1 Axes>"
      ]
     },
     "metadata": {
      "needs_background": "light"
     },
     "output_type": "display_data"
    }
   ],
   "source": [
    "yaxis_str = r\"$\\frac{\\partial^3\\Delta_\\mathrm{R}^{(\\mathrm{PINT})}}{\\partial\\phi^3} - \\frac{\\partial^3\\Delta_\\mathrm{R}^{(\\mathrm{Maple})}}{\\partial\\phi^3}$\"\n",
    "plot_residuals(d3_Dre_d3_Phi_PINT, d3_Dre_d3_Phi_Maple, yaxis_str, Phis)"
   ]
  },
  {
   "cell_type": "code",
   "execution_count": 33,
   "id": "ae11f0d0",
   "metadata": {},
   "outputs": [
    {
     "data": {
      "image/png": "[encoded data removed]",
      "text/plain": [
       "<Figure size 432x288 with 1 Axes>"
      ]
     },
     "metadata": {
      "needs_background": "light"
     },
     "output_type": "display_data"
    }
   ],
   "source": [
    "yaxis_str = r\"$\\frac{\\partial^3\\Delta_\\mathrm{R}^{(\\mathrm{PINT})}}{\\partial e_1\\partial\\phi^2} - \\frac{\\partial^3\\Delta_\\mathrm{R}^{(\\mathrm{Maple})}}{\\partial e_1\\partial\\phi^2}$\"\n",
    "plot_residuals(d3_Dre_d2_Phi_d_eps1_PINT, d3_Dre_d2_Phi_d_eps1_Maple, yaxis_str, Phis)"
   ]
  },
  {
   "cell_type": "code",
   "execution_count": 34,
   "id": "4563c85b",
   "metadata": {},
   "outputs": [
    {
     "data": {
      "image/png": "[encoded data removed]",
      "text/plain": [
       "<Figure size 432x288 with 1 Axes>"
      ]
     },
     "metadata": {
      "needs_background": "light"
     },
     "output_type": "display_data"
    }
   ],
   "source": [
    "yaxis_str = r\"$\\frac{\\partial^3\\Delta_\\mathrm{R}^{(\\mathrm{PINT})}}{\\partial e_2\\partial\\phi^2} - \\frac{\\partial^3\\Delta_\\mathrm{R}^{(\\mathrm{Maple})}}{\\partial e_2\\partial\\phi^2}$\"\n",
    "plot_residuals(d3_Dre_d2_Phi_d_eps2_PINT, d3_Dre_d2_Phi_d_eps2_Maple, yaxis_str, Phis)"
   ]
  },
  {
   "cell_type": "code",
   "execution_count": null,
   "id": "54e7935f",
   "metadata": {},
   "outputs": [],
   "source": []
  },
  {
   "cell_type": "code",
   "execution_count": null,
   "id": "9ac7610a",
   "metadata": {},
   "outputs": [],
   "source": []
  }
 ],
 "metadata": {
  "kernelspec": {
   "display_name": "Python 3 (ipykernel)",
   "language": "python",
   "name": "python3"
  },
  "language_info": {
   "codemirror_mode": {
    "name": "ipython",
    "version": 3
   },
   "file_extension": ".py",
   "mimetype": "text/x-python",
   "name": "python",
   "nbconvert_exporter": "python",
   "pygments_lexer": "ipython3",
   "version": "3.8.12"
  }
 },
 "nbformat": 4,
 "nbformat_minor": 5
}
