{
 "cells": [
  {
   "cell_type": "code",
   "execution_count": 496,
   "id": "1e710955",
   "metadata": {},
   "outputs": [],
   "source": [
    "from scipy.special import fdtrc"
   ]
  },
  {
   "cell_type": "markdown",
   "id": "86314ccf",
   "metadata": {},
   "source": [
    "F-tests for parameter inclusion in timing solutions.\n",
    "\n",
    "Subscripts \"1\" are without the parameter in question, \"2\" includes the parameter."
   ]
  },
  {
   "cell_type": "code",
   "execution_count": 2,
   "id": "03832611",
   "metadata": {},
   "outputs": [],
   "source": [
    "def ftest(chi2_1, chi2_2, dof_1, dof_2):\n",
    "    delta_chi2 = chi2_1 - chi2_2\n",
    "    delta_dof = dof_1 - dof_2\n",
    "    redchi2_2 = chi2_2 / dof_2\n",
    "    F = float((delta_chi2 / delta_dof) / redchi2_2) # F-statistic\n",
    "    ft = fdtrc(delta_dof, dof_2, F) # probability of null hypothesis (?)\n",
    "    return ft"
   ]
  },
  {
   "cell_type": "markdown",
   "id": "cd5cf0cb",
   "metadata": {},
   "source": [
    "F-test for PSR J0636+5128 PX."
   ]
  },
  {
   "cell_type": "code",
   "execution_count": 4,
   "id": "ebf49be2",
   "metadata": {},
   "outputs": [
    {
     "name": "stdout",
     "output_type": "stream",
     "text": [
      "0.21814667466085338\n"
     ]
    }
   ],
   "source": [
    "chi2_1 = 1836.87\n",
    "chi2_2 = 1834.81\n",
    "dof_1 = 1403-50\n",
    "dof_2 = 1403-51\n",
    "ft = ftest(chi2_1, chi2_2, dof_1, dof_2)\n",
    "print(ft)"
   ]
  },
  {
   "cell_type": "markdown",
   "id": "ce093647",
   "metadata": {},
   "source": [
    "We want this to be below ~0.0027 or so. PX is not significant for J0636."
   ]
  },
  {
   "cell_type": "markdown",
   "id": "eaafd2e2",
   "metadata": {},
   "source": [
    "F-test for PSR J1239+3239 PMDEC"
   ]
  },
  {
   "cell_type": "code",
   "execution_count": 139,
   "id": "932d6a00",
   "metadata": {},
   "outputs": [
    {
     "name": "stdout",
     "output_type": "stream",
     "text": [
      "0.01432787774388313\n"
     ]
    }
   ],
   "source": [
    "chi2_1 = 346.7\n",
    "chi2_2 = 339.07\n",
    "dof_1 = 283-12\n",
    "dof_2 = 283-13\n",
    "ft = ftest(chi2_1, chi2_2, dof_1, dof_2)\n",
    "print(ft)"
   ]
  },
  {
   "cell_type": "markdown",
   "id": "20f4198a",
   "metadata": {},
   "source": [
    "We want this to be below ~0.0027 or so. PMDEC is not significant for J1239."
   ]
  },
  {
   "cell_type": "markdown",
   "id": "9d1dde9d",
   "metadata": {},
   "source": [
    "F-test for PSR J1239+3239 PBDOT"
   ]
  },
  {
   "cell_type": "code",
   "execution_count": 138,
   "id": "b837e5dc",
   "metadata": {},
   "outputs": [
    {
     "name": "stdout",
     "output_type": "stream",
     "text": [
      "0.03842955847403444\n"
     ]
    }
   ],
   "source": [
    "chi2_1 = 346.7\n",
    "chi2_2 = 341.23\n",
    "dof_1 = 283-12\n",
    "dof_2 = 283-13\n",
    "ft = ftest(chi2_1, chi2_2, dof_1, dof_2)\n",
    "print(ft)"
   ]
  },
  {
   "cell_type": "markdown",
   "id": "587d7e6d",
   "metadata": {},
   "source": [
    "We want this to be below ~0.0027 or so. PBDOT is not significant for J1239."
   ]
  },
  {
   "cell_type": "markdown",
   "id": "adfb038f",
   "metadata": {},
   "source": [
    "F-test for PSR J1327+3423 PX"
   ]
  },
  {
   "cell_type": "code",
   "execution_count": 6,
   "id": "074e4421",
   "metadata": {},
   "outputs": [
    {
     "name": "stdout",
     "output_type": "stream",
     "text": [
      "0.000995443012847512\n"
     ]
    }
   ],
   "source": [
    "chi2_1 = 2131.91\n",
    "chi2_2 = 2116.83\n",
    "dof_1 = 1575-47\n",
    "dof_2 = 1575-48\n",
    "ft = ftest(chi2_1, chi2_2, dof_1, dof_2)\n",
    "print(ft)"
   ]
  },
  {
   "cell_type": "markdown",
   "id": "bce9dd32",
   "metadata": {},
   "source": [
    "This is < 0.0027. PX is significant for PSR J1327+3423."
   ]
  },
  {
   "cell_type": "markdown",
   "id": "d2a91269",
   "metadata": {},
   "source": [
    "F-test for PSR J1816+4510 F2 (with DMX)"
   ]
  },
  {
   "cell_type": "code",
   "execution_count": 10,
   "id": "6e54fc5d",
   "metadata": {},
   "outputs": [
    {
     "name": "stdout",
     "output_type": "stream",
     "text": [
      "0.057089071613551\n"
     ]
    }
   ],
   "source": [
    "chi2_1 = 1137.24\n",
    "chi2_2 = 1131.08\n",
    "dof_1 = 749-81\n",
    "dof_2 = 749-82\n",
    "ft = ftest(chi2_1, chi2_2, dof_1, dof_2)\n",
    "print(ft)"
   ]
  },
  {
   "cell_type": "markdown",
   "id": "f91232de",
   "metadata": {},
   "source": [
    "This is > 0.0027. With DMX, F2 is not significant for PSR J1816+4510."
   ]
  },
  {
   "cell_type": "markdown",
   "id": "9d5016f1",
   "metadata": {},
   "source": [
    "F-test for PSR J1816+4510 FB1 (with DMX)"
   ]
  },
  {
   "cell_type": "code",
   "execution_count": 11,
   "id": "e21e2300",
   "metadata": {},
   "outputs": [
    {
     "name": "stdout",
     "output_type": "stream",
     "text": [
      "0.08228305805880497\n"
     ]
    }
   ],
   "source": [
    "chi2_1 = 1137.24\n",
    "chi2_2 = 1132.1\n",
    "dof_1 = 749-81\n",
    "dof_2 = 749-82\n",
    "ft = ftest(chi2_1, chi2_2, dof_1, dof_2)\n",
    "print(ft)"
   ]
  },
  {
   "cell_type": "markdown",
   "id": "d20b2365",
   "metadata": {},
   "source": [
    "This is > 0.0027. With DMX, FB1 is not significant for PSR J1816+4510."
   ]
  },
  {
   "cell_type": "markdown",
   "id": "42417570",
   "metadata": {},
   "source": [
    "F-test for PSR J1816+4510 XDOT (with DMX)"
   ]
  },
  {
   "cell_type": "code",
   "execution_count": 3,
   "id": "793932fe",
   "metadata": {},
   "outputs": [
    {
     "name": "stdout",
     "output_type": "stream",
     "text": [
      "0.010830907269635929\n"
     ]
    }
   ],
   "source": [
    "chi2_1 = 1444.69\n",
    "chi2_2 = 1431.13\n",
    "dof_1 = 749-59\n",
    "dof_2 = 749-60\n",
    "ft = ftest(chi2_1, chi2_2, dof_1, dof_2)\n",
    "print(ft)"
   ]
  },
  {
   "cell_type": "markdown",
   "id": "ba57c861",
   "metadata": {},
   "source": [
    "This is > 0.0027. With DMX, XDOT is not significant for PSR J1816+4510."
   ]
  },
  {
   "cell_type": "markdown",
   "id": "3d9513db",
   "metadata": {},
   "source": [
    "F-test for PSR J0214+5222 XDOT (PINT, third-order ELL1 model)"
   ]
  },
  {
   "cell_type": "code",
   "execution_count": 4,
   "id": "d58385bd",
   "metadata": {},
   "outputs": [
    {
     "name": "stdout",
     "output_type": "stream",
     "text": [
      "0.0005953038887263694\n"
     ]
    }
   ],
   "source": [
    "chi2_1 = 1042.053\n",
    "chi2_2 = 1028.988\n",
    "dof_1 = 936\n",
    "dof_2 = 935\n",
    "ft = ftest(chi2_1, chi2_2, dof_1, dof_2)\n",
    "print(ft)"
   ]
  },
  {
   "cell_type": "markdown",
   "id": "6afca7a3",
   "metadata": {},
   "source": [
    "This is < 0.0027. XDOT is significant for PSR J0214+5222."
   ]
  },
  {
   "cell_type": "markdown",
   "id": "88bfec68",
   "metadata": {},
   "source": [
    "F-test for PSR J0214+5222 XDOT (TEMPO2, BT model)"
   ]
  },
  {
   "cell_type": "code",
   "execution_count": 6,
   "id": "04e5510d",
   "metadata": {},
   "outputs": [
    {
     "name": "stdout",
     "output_type": "stream",
     "text": [
      "0.0006022668980345058\n"
     ]
    }
   ],
   "source": [
    "chi2_1 = 1041.96\n",
    "chi2_2 = 1028.92\n",
    "dof_1 = 936\n",
    "dof_2 = 935\n",
    "ft = ftest(chi2_1, chi2_2, dof_1, dof_2)\n",
    "print(ft)"
   ]
  },
  {
   "cell_type": "markdown",
   "id": "7e91a747",
   "metadata": {},
   "source": [
    "This is < 0.0027. XDOT is significant for PSR J0214+5222."
   ]
  },
  {
   "cell_type": "markdown",
   "id": "88a11191",
   "metadata": {},
   "source": [
    "F-test for PSR J0032+6946 PBDOT (PINT, third-order ELL1 model)"
   ]
  },
  {
   "cell_type": "code",
   "execution_count": 3,
   "id": "826786ba",
   "metadata": {},
   "outputs": [
    {
     "name": "stdout",
     "output_type": "stream",
     "text": [
      "0.12097377461662188\n"
     ]
    }
   ],
   "source": [
    "chi2_1 = 1656.660\n",
    "chi2_2 = 1653.852\n",
    "dof_1 = 1419\n",
    "dof_2 = 1418\n",
    "ft = ftest(chi2_1, chi2_2, dof_1, dof_2)\n",
    "print(ft)"
   ]
  },
  {
   "cell_type": "markdown",
   "id": "abcd3d26",
   "metadata": {},
   "source": [
    "This is > 0.0027. PBDOT is not significant for PSR J0032+6946."
   ]
  },
  {
   "cell_type": "markdown",
   "id": "fcef5d0e",
   "metadata": {},
   "source": [
    "F-test for PSR J0214+5222 XDOT (PINT, third-order ELL1 model)"
   ]
  },
  {
   "cell_type": "code",
   "execution_count": 4,
   "id": "3e85fb02",
   "metadata": {},
   "outputs": [
    {
     "name": "stdout",
     "output_type": "stream",
     "text": [
      "0.0005953038887263694\n"
     ]
    }
   ],
   "source": [
    "chi2_1 = 1042.053\n",
    "chi2_2 = 1028.988\n",
    "dof_1 = 936\n",
    "dof_2 = 935\n",
    "ft = ftest(chi2_1, chi2_2, dof_1, dof_2)\n",
    "print(ft)"
   ]
  },
  {
   "cell_type": "markdown",
   "id": "4bbc39f2",
   "metadata": {},
   "source": [
    "This is < 0.0027. XDOT is significant for PSR J0214+5222."
   ]
  },
  {
   "cell_type": "markdown",
   "id": "9596c52f",
   "metadata": {},
   "source": [
    "F-test for PSR J0214+5222 PMDEC (PINT, third-order ELL1 model)"
   ]
  },
  {
   "cell_type": "code",
   "execution_count": 5,
   "id": "02f35a19",
   "metadata": {},
   "outputs": [
    {
     "name": "stdout",
     "output_type": "stream",
     "text": [
      "0.2838857475473009\n"
     ]
    }
   ],
   "source": [
    "chi2_1 = 934.568\n",
    "chi2_2 = 933.419\n",
    "dof_1 = 935\n",
    "dof_2 = 934\n",
    "ft = ftest(chi2_1, chi2_2, dof_1, dof_2)\n",
    "print(ft)"
   ]
  },
  {
   "cell_type": "markdown",
   "id": "5251483f",
   "metadata": {},
   "source": [
    "This is > 0.0027. PMDEC is not significant for PSR J0214+5222."
   ]
  },
  {
   "cell_type": "markdown",
   "id": "a1b98d21",
   "metadata": {},
   "source": [
    "F-test for PSR 1816+4510 FB1 (without DMX)"
   ]
  },
  {
   "cell_type": "code",
   "execution_count": 140,
   "id": "f0d70aca",
   "metadata": {},
   "outputs": [
    {
     "name": "stdout",
     "output_type": "stream",
     "text": [
      "0.6817617064484285\n"
     ]
    }
   ],
   "source": [
    "chi2_1 = 2047.67\n",
    "chi2_2 = 2047.20\n",
    "dof_1 = 734\n",
    "dof_2 = 733\n",
    "ft = ftest(chi2_1, chi2_2, dof_1, dof_2)\n",
    "print(ft)"
   ]
  },
  {
   "cell_type": "markdown",
   "id": "d15adc1e",
   "metadata": {},
   "source": [
    "This is > 0.0027. FB1 is not significant for PSR J1816+4510."
   ]
  },
  {
   "cell_type": "markdown",
   "id": "703250f7",
   "metadata": {},
   "source": [
    "F-test for PSR 1816+4510 XDOT (without DMX)"
   ]
  },
  {
   "cell_type": "code",
   "execution_count": 142,
   "id": "7db1877b",
   "metadata": {},
   "outputs": [
    {
     "name": "stdout",
     "output_type": "stream",
     "text": [
      "7.745261572086393e-07\n"
     ]
    }
   ],
   "source": [
    "chi2_1 = 2047.67\n",
    "chi2_2 = 1980.53\n",
    "dof_1 = 734\n",
    "dof_2 = 733\n",
    "ft = ftest(chi2_1, chi2_2, dof_1, dof_2)\n",
    "print(ft)"
   ]
  },
  {
   "cell_type": "markdown",
   "id": "c39d6bda",
   "metadata": {},
   "source": [
    "This is < 0.0027. XDOT is significant for PSR J1816+4510 in the absence of a DMX fit."
   ]
  },
  {
   "cell_type": "markdown",
   "id": "9e587670",
   "metadata": {},
   "source": [
    "F-test for PSR 1816+4510 EPS1DOT (without DMX)"
   ]
  },
  {
   "cell_type": "code",
   "execution_count": 143,
   "id": "798a7cd9",
   "metadata": {},
   "outputs": [
    {
     "name": "stdout",
     "output_type": "stream",
     "text": [
      "2.1622015830690272e-08\n"
     ]
    }
   ],
   "source": [
    "chi2_1 = 2047.67\n",
    "chi2_2 = 1961.901995.86\n",
    "dof_1 = 734\n",
    "dof_2 = 733\n",
    "ft = ftest(chi2_1, chi2_2, dof_1, dof_2)\n",
    "print(ft)"
   ]
  },
  {
   "cell_type": "markdown",
   "id": "6129199e",
   "metadata": {},
   "source": [
    "This is < 0.0027. EPS1DOT is significant for PSR J1816+4510 in the absence of a DMX fit."
   ]
  },
  {
   "cell_type": "markdown",
   "id": "a5afb6e4",
   "metadata": {},
   "source": [
    "F-test for PSR 1816+4510 EPS2DOT (without DMX)"
   ]
  },
  {
   "cell_type": "code",
   "execution_count": 144,
   "id": "02f35a19",
   "metadata": {},
   "outputs": [
    {
     "name": "stdout",
     "output_type": "stream",
     "text": [
      "1.4729906017427073e-05\n"
     ]
    }
   ],
   "source": [
    "chi2_1 = 2047.67\n",
    "chi2_2 = 1995.86\n",
    "dof_1 = 734\n",
    "dof_2 = 733\n",
    "ft = ftest(chi2_1, chi2_2, dof_1, dof_2)\n",
    "print(ft)"
   ]
  },
  {
   "cell_type": "markdown",
   "id": "5251483f",
   "metadata": {},
   "source": [
    "This is < 0.0027. EPS2DOT is significant for PSR J1816+4510 in the absence of a DMX fit."
   ]
  },
  {
   "cell_type": "markdown",
   "id": "9596c52f",
   "metadata": {},
   "source": [
    "F-tests for testing PSR J1816+4510 binary params (without DMX)"
   ]
  },
  {
   "cell_type": "code",
   "execution_count": 146,
   "id": "02f35a19",
   "metadata": {},
   "outputs": [
    {
     "name": "stdout",
     "output_type": "stream",
     "text": [
      "Removing XDOT: 6.905276346396521e-06\n",
      "Removing EPS1DOT: 0.04941373908072355\n",
      "Removing EPS2DOT: 4.195625771467472e-06\n"
     ]
    }
   ],
   "source": [
    "chi2_removeXDOT = 1935.96\n",
    "chi2_removeEPS1DOT = 1893.09\n",
    "chi2_removeEPS2DOT = 1938.49\n",
    "chi2_initial = 1883.11\n",
    "dof_1 = 732\n",
    "dof_2 = 731\n",
    "ft_removeXDOT = ftest(chi2_removeXDOT, chi2_initial, dof_1, dof_2)\n",
    "ft_removeEPS1DOT = ftest(chi2_removeEPS1DOT, chi2_initial, dof_1, dof_2)\n",
    "ft_removeEPS2DOT = ftest(chi2_removeEPS2DOT, chi2_initial, dof_1, dof_2)\n",
    "print(f\"Removing XDOT: {ft_removeXDOT}\")\n",
    "print(f\"Removing EPS1DOT: {ft_removeEPS1DOT}\")\n",
    "print(f\"Removing EPS2DOT: {ft_removeEPS2DOT}\")"
   ]
  },
  {
   "cell_type": "markdown",
   "id": "9596c52f",
   "metadata": {},
   "source": [
    "F-test for PSR 1816+4510 F2 (without DMX; adding to XDOT, EPS2DOT)"
   ]
  },
  {
   "cell_type": "code",
   "execution_count": 147,
   "id": "02f35a19",
   "metadata": {},
   "outputs": [
    {
     "name": "stdout",
     "output_type": "stream",
     "text": [
      "1.6467761709440166e-08\n"
     ]
    }
   ],
   "source": [
    "chi2_1 = 1893.09\n",
    "chi2_2 = 1812.27\n",
    "dof_1 = 732\n",
    "dof_2 = 731\n",
    "ft = ftest(chi2_1, chi2_2, dof_1, dof_2)\n",
    "print(ft)"
   ]
  },
  {
   "cell_type": "markdown",
   "id": "5251483f",
   "metadata": {},
   "source": [
    "This is < 0.0027. F2 is significant for PSR J1816+4510 in the absence of a DMX fit."
   ]
  },
  {
   "cell_type": "markdown",
   "id": "9596c52f",
   "metadata": {},
   "source": [
    "F-test for PSR 1816+4510 FB1 (without DMX; adding to XDOT, EPS2DOT)"
   ]
  },
  {
   "cell_type": "code",
   "execution_count": 150,
   "id": "02f35a19",
   "metadata": {},
   "outputs": [
    {
     "name": "stdout",
     "output_type": "stream",
     "text": [
      "0.000887697044361157\n"
     ]
    }
   ],
   "source": [
    "chi2_1 = 1809.39\n",
    "chi2_2 = 1890.77\n",
    "dof_1 = 733\n",
    "dof_2 = 732\n",
    "ft = ftest(chi2_1, chi2_2, dof_1, dof_2)\n",
    "print(ft)"
   ]
  },
  {
   "cell_type": "markdown",
   "id": "5251483f",
   "metadata": {},
   "source": [
    "This is < 0.0027. FB1 is significant for PSR J1816+4510 in the absence of a DMX fit, but only if F2 is present."
   ]
  },
  {
   "cell_type": "markdown",
   "id": "9596c52f",
   "metadata": {},
   "source": [
    "F-test for PSR 1816+4510 FB1 (without DMX; adding to F2, XDOT, EPS2DOT)"
   ]
  },
  {
   "cell_type": "code",
   "execution_count": 150,
   "id": "02f35a19",
   "metadata": {},
   "outputs": [
    {
     "name": "stdout",
     "output_type": "stream",
     "text": [
      "0.000887697044361157\n"
     ]
    }
   ],
   "source": [
    "chi2_1 = 1812.27\n",
    "chi2_2 = 1785.03\n",
    "dof_1 = 731\n",
    "dof_2 = 730\n",
    "ft = ftest(chi2_1, chi2_2, dof_1, dof_2)\n",
    "print(ft)"
   ]
  },
  {
   "cell_type": "markdown",
   "id": "5251483f",
   "metadata": {},
   "source": [
    "This is < 0.0027. FB1 is significant for PSR J1816+4510 in the absence of a DMX fit, but only if F2 is present."
   ]
  },
  {
   "cell_type": "markdown",
   "id": "9596c52f",
   "metadata": {},
   "source": [
    "F-test for PSR 1816+4510 XDOT (with DMX)"
   ]
  },
  {
   "cell_type": "code",
   "execution_count": 148,
   "id": "02f35a19",
   "metadata": {},
   "outputs": [
    {
     "name": "stdout",
     "output_type": "stream",
     "text": [
      "0.010881956520331311\n"
     ]
    }
   ],
   "source": [
    "chi2_1 = 1444.41\n",
    "chi2_2 = 1430.87 # EPS2DOT is 1435.19, FB1 is 1444.39, F2 is 1439.08\n",
    "dof_1 = 690\n",
    "dof_2 = 689\n",
    "ft = ftest(chi2_1, chi2_2, dof_1, dof_2)\n",
    "print(ft)"
   ]
  },
  {
   "cell_type": "markdown",
   "id": "5251483f",
   "metadata": {},
   "source": [
    "This is > 0.0027. XDOT is not significant for PSR J1816+4510 when fitting for DMX."
   ]
  },
  {
   "cell_type": "markdown",
   "id": "9596c52f",
   "metadata": {},
   "source": [
    "F-test for PSR 1816+4510 XDOT & EPS2DOT (with DMX)"
   ]
  },
  {
   "cell_type": "code",
   "execution_count": 149,
   "id": "02f35a19",
   "metadata": {},
   "outputs": [
    {
     "name": "stdout",
     "output_type": "stream",
     "text": [
      "0.004923769231877012\n"
     ]
    }
   ],
   "source": [
    "chi2_1 = 1444.41\n",
    "chi2_2 = 1422.27\n",
    "dof_1 = 690\n",
    "dof_2 = 688\n",
    "ft = ftest(chi2_1, chi2_2, dof_1, dof_2)\n",
    "print(ft)"
   ]
  },
  {
   "cell_type": "markdown",
   "id": "5251483f",
   "metadata": {},
   "source": [
    "This is > 0.0027. XDOT + EPS2DOT is not significant for PSR J1816+4510 when fitting for DMX."
   ]
  },
  {
   "cell_type": "markdown",
   "id": "9596c52f",
   "metadata": {},
   "source": [
    "F-test for PSR 1816+4510 DMX"
   ]
  },
  {
   "cell_type": "code",
   "execution_count": 4,
   "id": "02f35a19",
   "metadata": {},
   "outputs": [
    {
     "name": "stdout",
     "output_type": "stream",
     "text": [
      "1.2505937414492888e-16\n"
     ]
    }
   ],
   "source": [
    "chi2_1 = 1829.15\n",
    "chi2_2 = 1444.41\n",
    "dof_1 = 733\n",
    "dof_2 = 690\n",
    "ft = ftest(chi2_1, chi2_2, dof_1, dof_2)\n",
    "print(ft)"
   ]
  },
  {
   "cell_type": "markdown",
   "id": "5251483f",
   "metadata": {},
   "source": [
    "This is << 0.0027. DMX is very significant for PSR J1816+4510."
   ]
  },
  {
   "cell_type": "markdown",
   "id": "9596c52f",
   "metadata": {},
   "source": [
    "F-test comparing DMX vs. FD params for PSR J1327+3423 (is this a valid thing to do?)"
   ]
  },
  {
   "cell_type": "code",
   "execution_count": 3,
   "id": "02f35a19",
   "metadata": {},
   "outputs": [
    {
     "name": "stdout",
     "output_type": "stream",
     "text": [
      "9.53808994675754e-184\n"
     ]
    }
   ],
   "source": [
    "chi2_fd = 5595.73\n",
    "chi2_dmx = 3859.61\n",
    "dof_fd = 2924\n",
    "dof_dmx = 2861\n",
    "ft = ftest(chi2_fd, chi2_dmx, dof_fd, dof_dmx)\n",
    "print(ft)"
   ]
  },
  {
   "cell_type": "markdown",
   "id": "5251483f",
   "metadata": {},
   "source": [
    "This is << 0.0027. DMX is a lot more significant than just FD params (?)"
   ]
  },
  {
   "cell_type": "code",
   "execution_count": null,
   "id": "b95e1003",
   "metadata": {},
   "outputs": [],
   "source": []
  }
 ],
 "metadata": {
  "kernelspec": {
   "display_name": "Python 3 (ipykernel)",
   "language": "python",
   "name": "python3"
  },
  "language_info": {
   "codemirror_mode": {
    "name": "ipython",
    "version": 3
   },
   "file_extension": ".py",
   "mimetype": "text/x-python",
   "name": "python",
   "nbconvert_exporter": "python",
   "pygments_lexer": "ipython3",
   "version": "3.8.12"
  }
 },
 "nbformat": 4,
 "nbformat_minor": 5
}
