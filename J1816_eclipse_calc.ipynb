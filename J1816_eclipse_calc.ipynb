{
 "cells": [
  {
   "cell_type": "code",
   "execution_count": 1,
   "id": "3b461260",
   "metadata": {},
   "outputs": [
    {
     "data": {
      "text/plain": [
       "1"
      ]
     },
     "execution_count": 1,
     "metadata": {},
     "output_type": "execute_result"
    }
   ],
   "source": [
    "import pint.models as model\n",
    "import pint.toa as toa\n",
    "import pint.logging\n",
    "import pint.fitter\n",
    "from pint.modelutils import model_ecliptic_to_equatorial\n",
    "import numpy as np\n",
    "import astropy.units as u\n",
    "import astropy.constants as c\n",
    "import pint.derived_quantities as dq\n",
    "import table_utils as tu\n",
    "from scipy.special import fdtrc\n",
    "import matplotlib.pyplot as plt\n",
    "\n",
    "import matplotlib as mpl\n",
    "plt.rc('font',**{'family':'serif','serif':['Computer Modern Roman']})\n",
    "params = {'text.usetex'       : True,\n",
    "          'axes.unicode_minus': True}\n",
    "mpl.rcParams.update(params)\n",
    "\n",
    "pint.logging.setup(level=\"ERROR\")"
   ]
  },
  {
   "cell_type": "markdown",
   "id": "31ce88dc",
   "metadata": {},
   "source": [
    "**J1816+4510 eclipsing calculations**\n",
    "\n",
    "For J1816+4510, we see additional delays around superior conjuntion at 820 MHz, probably due to additional electron content around the companion that the signal must travel through when the pulsar eclipses. First I want to figure out the DM bump corresponding to this delay (roughly 800 microseconds)."
   ]
  },
  {
   "cell_type": "code",
   "execution_count": 2,
   "id": "1bedf8ca",
   "metadata": {},
   "outputs": [],
   "source": [
    "def SC_dDM(dt,freq):\n",
    "    \"\"\" Calculate additional column density at superior conjunction (given additional timing delay)\n",
    "    \n",
    "    Parameters\n",
    "    ==========\n",
    "    dt: quantity, additional dispersive timing delay due to plasma around companion\n",
    "    freq: quantity, observing frequency of measured delay\n",
    "    \n",
    "    Returns\n",
    "    =======\n",
    "    dDM_sup: quantity, additional column density at superior conjunction (cm^-2)\n",
    "    \"\"\"\n",
    "    Dconst = 4.148808e3*(1e6*u.Hz)**2*u.cm**3*u.s*u.pc**-1 # HBOPA, eqn. 4.6\n",
    "    dDM_sup = (dt*freq**2/Dconst).to(u.pc*u.cm**-3) # extra DM corresponding to delay\n",
    "    return dDM_sup.to(u.cm**-2)"
   ]
  },
  {
   "cell_type": "markdown",
   "id": "98442856",
   "metadata": {},
   "source": [
    "To compare to a similar calculation in Freire (2005; ASPCS, p. 407), I convert DM (column density) to 1/cm^2. The result is comparable to the column density of J2051-0827 (Stappers et al. 2001)."
   ]
  },
  {
   "cell_type": "code",
   "execution_count": 3,
   "id": "c2621e63",
   "metadata": {},
   "outputs": [
    {
     "name": "stdout",
     "output_type": "stream",
     "text": [
      "4.0007821153349005e+17 1 / cm2\n",
      "0.12965651820956764 pc / cm3\n"
     ]
    }
   ],
   "source": [
    "dDM_1816 = SC_dDM(800.0*1e-6*u.s,820.0*(1e6*u.Hz))\n",
    "print(dDM_1816)\n",
    "print(dDM_1816.to(u.pc*u.cm**-3))"
   ]
  },
  {
   "cell_type": "markdown",
   "id": "395a3807",
   "metadata": {},
   "source": [
    "How big might the companion be based on the duration of the eclipse? Assume inclination angle of 90 deg for now, and consider an eclipse that lasts some fraction of an orbit (based on gap between ingress-egress)."
   ]
  },
  {
   "cell_type": "code",
   "execution_count": 4,
   "id": "82b9197c",
   "metadata": {},
   "outputs": [
    {
     "name": "stdout",
     "output_type": "stream",
     "text": [
      "J1816+4510 is obscured for 4% of an orbit...\n",
      "Nominal pulsar-companion separation: 2.6041 Rsun\n",
      "Companion's estimated plasma radius: 0.3264 Rsun (227061 km)\n"
     ]
    }
   ],
   "source": [
    "def psr_comp_separation(model,inc=90.0*u.deg,mp=1.4*u.solMass):\n",
    "    \"\"\" Calculate separation between pulsar and binary companion\n",
    "    \n",
    "    Parameters\n",
    "    ==========\n",
    "    model: object, PINT timing model\n",
    "    inc: quantity, assumed orbital inclination (optional, default = 90 deg)\n",
    "    mp: quantity, assumed pulsar mass (optional, default = 1.4 Msun)\n",
    "    \"\"\"\n",
    "    mc = dq.companion_mass(mo['PB'].quantity, mo['A1'].quantity, i=inc, mp=mp)\n",
    "    return (mo['A1'].quantity/np.sin(inc)).to(u.R_sun)*(1+(mp/mc))\n",
    "\n",
    "def Rplasma(a, frac_eclipse):\n",
    "    \"\"\" Estimate companion (plasma?) radius based on extent of eclipse\n",
    "    \n",
    "    Parameters\n",
    "    ==========\n",
    "    a: quantity, separation between the pulsar and companion\n",
    "    frac_eclipse: float, fraction of the orbit where pulsar signal is obscured\n",
    "    \n",
    "    Returns\n",
    "    =======\n",
    "    Rplasma: quantity, companion's plasma(?) radius (Solar Radii)\n",
    "    \"\"\"\n",
    "    print(f\"Nominal pulsar-companion separation: {a.value:.4f} Rsun\")\n",
    "    ing2sup = frac_eclipse*180.0*u.deg # angle from ingress to superior conjunction\n",
    "    Rplasma = a*np.sin(ing2sup)\n",
    "    print(f\"Companion's estimated plasma radius: {Rplasma.value:.4f} Rsun ({Rplasma.to(u.km).value:.0f} km)\")\n",
    "    return Rplasma\n",
    "\n",
    "frac_eclipse = 0.04\n",
    "\n",
    "par_path = f\"data/J1816+4510_eclipseDMX.par\"\n",
    "tim_path = f\"data/J1816+4510_eclipseDMX.tim\"\n",
    "mo = model.get_model(par_path)\n",
    "to = toa.get_TOAs(tim_path,model=mo)\n",
    "fo = pint.fitter.WLSFitter(to,mo)\n",
    "x = fo.fit_toas()\n",
    "a = psr_comp_separation(mo, mp=1.64*u.solMass) # using lower limit on M_psr from Clark et al. (2023)\n",
    "print(f\"J1816+4510 is obscured for {frac_eclipse:.0%} of an orbit...\")\n",
    "rp = Rplasma(a,frac_eclipse)"
   ]
  },
  {
   "cell_type": "markdown",
   "id": "7c87f18d",
   "metadata": {},
   "source": [
    "I can use the estimated companion's plasma radius to get some idea of the electron density near the companion (using the additional column density around superior conjunction). This is probably ~order of magnitude."
   ]
  },
  {
   "cell_type": "code",
   "execution_count": 5,
   "id": "e604716b",
   "metadata": {},
   "outputs": [
    {
     "data": {
      "text/latex": [
       "$17619863 \\; \\mathrm{\\frac{1}{cm^{3}}}$"
      ],
      "text/plain": [
       "<Quantity 17619863.47492632 1 / cm3>"
      ]
     },
     "execution_count": 5,
     "metadata": {},
     "output_type": "execute_result"
    }
   ],
   "source": [
    "(dDM_1816/rp).to(u.cm**-3)"
   ]
  },
  {
   "cell_type": "markdown",
   "id": "b8d61ba8",
   "metadata": {},
   "source": [
    "Next, I want to use the equation from Eggleton et al. (1983) to estimate the size of the companion's Roche Lobe, and thus, the path length the pulsar might be encountering around superior conjunction. Do this for a few possible inclination angles and assume pulsar mass is 1.64 solar masses."
   ]
  },
  {
   "cell_type": "code",
   "execution_count": 6,
   "id": "9e531c5a",
   "metadata": {},
   "outputs": [
    {
     "name": "stdout",
     "output_type": "stream",
     "text": [
      "  i = 90.0 deg; mc = 0.1792 Msun; q = 0.1093; a = 2.6041 Rsun; RL = 0.55252 Rsun; RL/Rp = 1.69\n",
      "  i = 85.0 deg; mc = 0.1800 Msun; q = 0.1097; a = 2.6044 Rsun; RL = 0.55324 Rsun; RL/Rp = 1.70\n",
      "  i = 80.0 deg; mc = 0.1822 Msun; q = 0.1111; a = 2.6055 Rsun; RL = 0.55544 Rsun; RL/Rp = 1.70\n",
      "  i = 75.0 deg; mc = 0.1860 Msun; q = 0.1134; a = 2.6073 Rsun; RL = 0.55917 Rsun; RL/Rp = 1.71\n"
     ]
    }
   ],
   "source": [
    "def RL_Eggleton(a,mc,mp=1.4*u.solMass):\n",
    "    \"\"\" Calculate Roche Lobe size in solar radii (see Eggleton 1983)\n",
    "    \n",
    "    Parameters\n",
    "    ==========\n",
    "    a: quantity, separation between the pulsar and companion\n",
    "    mc: quantity, companion mass (solar masses)\n",
    "    mp: pulsar mass (default: 1.4 Msun), optional\n",
    "    \n",
    "    Returns\n",
    "    =======\n",
    "    R_L: quantity, Roche Lobe size (solar radii)\n",
    "    \"\"\"\n",
    "    q = mc/mp\n",
    "    R_L = 0.49*a*q**(2.0/3)/(0.6*q**(2.0/3)+np.log(1.0+q**(1.0/3)))\n",
    "    return R_L.to(u.R_sun)\n",
    "\n",
    "incs = [90.0,85.0,80.0,75.0] # trial inclination angles, degrees\n",
    "\n",
    "mo = model.get_model(par_path)\n",
    "to = toa.get_TOAs(tim_path,model=mo)\n",
    "fo = pint.fitter.WLSFitter(to,mo)\n",
    "x = fo.fit_toas()\n",
    "\n",
    "for inc in incs:\n",
    "    mp = 1.64*u.M_sun\n",
    "    a = psr_comp_separation(mo,inc=inc*u.deg,mp=mp)\n",
    "    mc = dq.companion_mass(mo['PB'].quantity, mo['A1'].quantity, i=inc*u.deg, mp=mp)\n",
    "    R_L = RL_Eggleton(a,mc,mp=mp)\n",
    "    RlRp_ratio = R_L/rp\n",
    "\n",
    "    mc_str = f\"{mc.value:.4f}\"\n",
    "    q_str = f\"{mc/mp:.4f}\"\n",
    "    a_str = f\"{a.value:.4f}\"\n",
    "    rl_str = f\"{R_L.value:.5f}\"\n",
    "    rlrp_str = f\"{RlRp_ratio:.2f}\"\n",
    "\n",
    "    print(f\"  i = {inc} deg; mc = {mc_str} Msun; q = {q_str}; a = {a_str} Rsun; RL = {rl_str} Rsun; RL/Rp = {rlrp_str}\")"
   ]
  },
  {
   "cell_type": "markdown",
   "id": "7a89e00b",
   "metadata": {},
   "source": [
    "Therefore (unlike the systems considered in Freire 2005), the Roche Lobe (R_L above) is somewhat larger than the size of the plasma cloud (R_p), so matter responsible for increased dispersive delays is bound to the companion."
   ]
  }
 ],
 "metadata": {
  "kernelspec": {
   "display_name": "Python 3 (ipykernel)",
   "language": "python",
   "name": "python3"
  },
  "language_info": {
   "codemirror_mode": {
    "name": "ipython",
    "version": 3
   },
   "file_extension": ".py",
   "mimetype": "text/x-python",
   "name": "python",
   "nbconvert_exporter": "python",
   "pygments_lexer": "ipython3",
   "version": "3.8.12"
  }
 },
 "nbformat": 4,
 "nbformat_minor": 5
}
